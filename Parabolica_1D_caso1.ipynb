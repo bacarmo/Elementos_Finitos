{
 "cells": [
  {
   "cell_type": "code",
   "execution_count": 1,
   "metadata": {},
   "outputs": [],
   "source": [
    "# Carrega os pacotes\n",
    "using LinearAlgebra\n",
    "using Plots\n",
    "using GaussQuadrature\n",
    "using DataFrames\n",
    "using SparseArrays\n"
   ]
  },
  {
   "cell_type": "markdown",
   "metadata": {},
   "source": [
    "# Formulação forte"
   ]
  },
  {
   "cell_type": "markdown",
   "metadata": {},
   "source": [
    "Dadas as constantes reais $\\alpha > 0$, $\\beta \\geq 0$ e $T > 0$, e as funções $f:[0,1]\\times[0,T]\\rightarrow\\mathbb{R}$ e $u_0:[0,1]\\rightarrow\\mathbb{R}$, determine $u:[0,1]\\times[0,T]\\rightarrow\\mathbb{R}$ tal que\n",
    "\\begin{align*}\n",
    "\\left\\{\n",
    "\\begin{aligned}\n",
    "&u_t(x,t)-\\alpha u_{xx}(x,t) + \\beta u(x,t) = f(x,t),&& \\forall (x,t)\\in]0,1[\\times[0,T],\n",
    "\\\\\n",
    "&u(0,t)=u(1,t)=0,                                    && \\forall t\\in[0,T],\n",
    "\\\\\n",
    "&u(x,0) = u_0(x),                                    && \\forall x\\in[0,1].                \n",
    "\\end{aligned}\\right.\n",
    "\\end{align*}\n",
    "\n",
    "Exemplos de solução exata para o problema acima:\n",
    "*   Ex. 1. Se $f(x,t)=0$, então $u(x,t)=\\frac{1}{\\pi^2}\\sin(\\pi x) e^{-\\lambda t}$, com $\\lambda = (\\alpha\\pi^2+\\beta)$.\n",
    "*   Ex. 2. Se $f(x,t)=\\frac{-\\lambda+\\alpha\\pi^2+\\beta}{\\pi^2}\\sin(\\pi x) e^{-\\lambda t}$, então $u(x,t)=\\frac{1}{\\pi^2}\\sin(\\pi x) e^{-\\lambda t}$, com $\\lambda = 1$."
   ]
  },
  {
   "cell_type": "code",
   "execution_count": 2,
   "metadata": {},
   "outputs": [
    {
     "data": {
      "text/plain": [
       "dados_de_entrada"
      ]
     },
     "metadata": {},
     "output_type": "display_data"
    }
   ],
   "source": [
    "function exemplo1()\n",
    "    T = 1.0\n",
    "    α = 1.0\n",
    "    β = 1.0\n",
    "    λ = α * π^2 + β\n",
    "    f(x, t) = 0.0\n",
    "    u₀(x) = sin(π * x) / π^2\n",
    "    u(x, t) = sin(π * x) * (exp(-λ * t) / π^2)\n",
    "    return T, α, β, f, u₀, u\n",
    "end\n",
    "function Exemplo2()\n",
    "    T = 1.0\n",
    "    α = 1.0\n",
    "    β = 1.0\n",
    "    λ = 1.0\n",
    "    f(x, t) = sin(π * x) * ((-λ + α * π^2 + β) * exp(-λ * t) / π^2)\n",
    "    u₀(x) = sin(π * x) / π^2\n",
    "    u(x, t) = sin(π * x) * (exp(-λ * t) / π^2)\n",
    "    return T, α, β, f, u₀, u\n",
    "end\n",
    "\n",
    "\"Retorna os valores de `T`, `α`, `β`, `f`, `u₀` e `u` de acordo com o exemplo escolhido.\"\n",
    "function dados_de_entrada(exemplo::Int)\n",
    "    if exemplo == 1\n",
    "        return exemplo1()\n",
    "    elseif exemplo == 2\n",
    "        return Exemplo2()\n",
    "    else\n",
    "        error(\"Exemplo inválido. Escolha 1 ou 2.\")\n",
    "    end\n",
    "end"
   ]
  },
  {
   "cell_type": "markdown",
   "metadata": {},
   "source": [
    "# Formulação fraca"
   ]
  },
  {
   "cell_type": "markdown",
   "metadata": {},
   "source": [
    "Dadas as constantes reais $\\alpha > 0$, $\\beta \\geq 0$ e $T > 0$, e as funções $f:[0,1]\\times[0,T]\\rightarrow\\mathbb{R}$ e $u_0:[0,1]\\rightarrow\\mathbb{R}$, determine $u(t)\\in V$, $t\\in[0,T]$, tal que\n",
    "\n",
    "\\begin{align*}\n",
    "\\left\\{\n",
    "\\begin{aligned}\n",
    "& \\int_0^1 u'(x,t)v(x) dx\n",
    "+ \\alpha \\int_0^1\\frac{\\partial u}{\\partial x}(x,t)\\frac{\\partial v}{\\partial x}(x)dx\n",
    "+ \\beta  \\int_0^1 u(x,t)v(x)dx\n",
    "= \\int_0^1f(x,t)v(x)dx,\n",
    "\\quad \\forall v\\in V,\n",
    "\\\\[8pt]\n",
    "& u(x,0) = u_0(x), \n",
    "\\quad x\\in]0,1[.\n",
    "\\end{aligned}\n",
    "\\right.\n",
    "\\end{align*}\n",
    "\n",
    "Para simplificar a escrita, vamos reescrever a equação acima utilizando dois operadores. O primeiro, é dado por\n",
    "\n",
    "\\begin{align*}\n",
    "\\kappa:V\\times V\\rightarrow\\mathbb{R},\\;(w,v)\\mapsto \\kappa(w,v)=\n",
    "  \\alpha \\int_0^1\\frac{d w}{d x}(x)\\frac{d v}{d x}(x)dx\n",
    "+ \\beta  \\int_0^1 w(x)v(x)dx.\n",
    "\\end{align*}\n",
    "\n",
    "Quanto ao segundo operador, considere\n",
    "\n",
    "\\begin{align*}\n",
    "\\big(w,v\\big) = \\int_0^1 w(x) v(x)dx.\n",
    "\\end{align*}\n",
    "\n",
    "Utilizando esses operadores, a formulação fraca pode ser reescrita como:\n",
    "Dadas as constantes reais $\\alpha > 0$, $\\beta \\geq 0$ e $T > 0$, e as funções $f:[0,1]\\times[0,T]\\rightarrow\\mathbb{R}$ e $u_0:[0,1]\\rightarrow\\mathbb{R}$, determine $u(t)\\in V$, $t\\in[0,T]$, tal que\n",
    "\n",
    "\\begin{align*}\n",
    "\\left\\{\n",
    "\\begin{aligned}\n",
    "& \\big(u'(t),v\\big) + \\kappa(u(t),v) = \\big(f(t),v\\big),\n",
    "\\quad \\forall v\\in V,\n",
    "\\\\[8pt]\n",
    "& u(0) = u_0.\n",
    "\\end{aligned}\n",
    "\\right.\n",
    "\\end{align*}\n"
   ]
  },
  {
   "cell_type": "markdown",
   "metadata": {},
   "source": [
    "# Problema semidiscreto - via o método de Galerkin na variável espacial"
   ]
  },
  {
   "cell_type": "markdown",
   "metadata": {},
   "source": [
    "Dadas as constantes reais $\\alpha > 0$, $\\beta \\geq 0$ e $T > 0$, e as funções $f:[0,1]\\times[0,T]\\rightarrow\\mathbb{R}$, $u_0^{}:[0,1]\\rightarrow\\mathbb{R}$ e $u_{0h}^{}\\in V_m$ uma aproximação para $u_0^{}$, determine $u_h(t)\\in V_m=[\\varphi_1,\\varphi_2,\\dots,\\varphi_{m}]$, $t\\in[0,T]$, tal que\n",
    "\n",
    "\\begin{align*}\n",
    "\\left\\{\n",
    "\\begin{aligned}\n",
    "& \\big(u_h'(t),v_h\\big) + \\kappa(u_h(t),v_h) = \\big(f(t),v_h\\big),\n",
    "\\quad \\forall v_h\\in V_m,\n",
    "\\\\[8pt]\n",
    "& u_h(0) = u_{0h}.\n",
    "\\end{aligned}\n",
    "\\right.\n",
    "\\end{align*}"
   ]
  },
  {
   "cell_type": "markdown",
   "metadata": {},
   "source": [
    "# Problema totalmente discreto - via o método de Galerkin no espaço e Crank-Nicolson no tempo"
   ]
  },
  {
   "cell_type": "markdown",
   "metadata": {},
   "source": [
    "Como o título sugere, o problema aproximado será definido utilizando o método de Galerkin para a variável espacial e o método de Crank-Nicolson para a variável temporal.\n",
    "No espaço, já definimos $V_m$, o subespaço de dimensão finita de $V$, gerado pelas funções base $\\varphi_1,\\varphi_2,\\dots,\\varphi_m$.\n",
    "No tempo, precisamos estabelecer a discretização temporal para aplicar o método de diferenças finitas escolhido. \n",
    "Nesse sentido, seja $\\tau>0$ uma constante real positiva, e considere $0=t_0<t_1<\\dots<t_N\\leq T$ uma discretização unifome no intervalo $[0,T]$.\n",
    "Além disso, defina $t_{n-\\frac{1}{2}}=\\frac{t_n+t_{n-1}}{2}$ como o ponto médio do intervalo $[t_{n-1},t_n]$. \n",
    "A seguir, apresentamos a ilustração de uma partição do intervalo de tempo $[0,T]$.\n",
    "\n",
    "<div style=\"text-align: center;\">\n",
    "    <img src=\"./imagens/Fig05.png\" alt=\"img\" style=\"width: 80%;\">\n",
    "</div>"
   ]
  },
  {
   "cell_type": "markdown",
   "metadata": {},
   "source": [
    "Sob tais considerações, segue a definição do problema aproximado: Dadas as constantes reais $\\alpha > 0$, $\\beta \\geq 0$ e $T > 0$, e as funções $f:[0,1]\\times[0,T]\\rightarrow\\mathbb{R}$, $u_0^{}:[0,1]\\rightarrow\\mathbb{R}$ e $u_{0h}^{}\\in V_m$ uma aproximação para $u_0^{}$, determine $U^n\\in V_m=[\\varphi_1,\\varphi_2,\\dots,\\varphi_{m}]$, tal que\n",
    "\n",
    "\\begin{align*}\n",
    "\\left\\{\n",
    "\\begin{aligned}\n",
    "& \\Big(\\frac{U^n-U^{n-1}}{\\tau},v_h\\Big) + \\kappa\\Big(\\frac{U^n+U^{n-1}}{2},v_h\\Big) = \\big(f(t_{n-\\frac{1}{2}}),v_h\\big),\n",
    "\\quad \\forall v_h\\in V_m,\\quad n=1,2,\\dots,N,\n",
    "\\\\[8pt]\n",
    "& U^0 = u_{0h}.\n",
    "\\end{aligned}\n",
    "\\right.\n",
    "\\end{align*}"
   ]
  },
  {
   "cell_type": "markdown",
   "metadata": {},
   "source": [
    "## Formulação matricial"
   ]
  },
  {
   "cell_type": "markdown",
   "metadata": {},
   "source": [
    "Tomando $\\displaystyle U^n(x) = \\sum_{j=1}^{m} C_j^{n}\\varphi_j(x)$ e $v_h=\\varphi_i$, para $i=1,2,\\dots,m$, temos o seguinte sistema:\n",
    "\n",
    "\\begin{align*}\n",
    "\\left\\{\n",
    "\\begin{aligned}\n",
    "& \\Big(\\frac{\\sum_{j=1}^{m}(C_j^n-C_j^{n-1})\\varphi_j}{\\tau},\\varphi_1\\Big) + \\kappa\\Big(\\frac{\\sum_{j=1}^{m}(C_j^n+C_j^{n-1})\\varphi_j}{2},\\varphi_1\\Big) = \\big(f(t_{n-\\frac{1}{2}}),\\varphi_1\\big), \n",
    "\\\\[10pt]\n",
    "& \\Big(\\frac{\\sum_{j=1}^{m}(C_j^n-C_j^{n-1})\\varphi_j}{\\tau},\\varphi_2\\Big) + \\kappa\\Big(\\frac{\\sum_{j=1}^{m}(C_j^n+C_j^{n-1})\\varphi_j}{2},\\varphi_2\\Big) = \\big(f(t_{n-\\frac{1}{2}}),\\varphi_2\\big), \n",
    "\\\\\n",
    "& \\vdots\n",
    "\\\\\n",
    "& \\Big(\\frac{\\sum_{j=1}^{m}(C_j^n-C_j^{n-1})\\varphi_j}{\\tau},\\varphi_m\\Big) + \\kappa\\Big(\\frac{\\sum_{j=1}^{m}(C_j^n+C_j^{n-1})\\varphi_j}{2},\\varphi_m\\Big) = \\big(f(t_{n-\\frac{1}{2}}),\\varphi_m\\big).\n",
    "\\end{aligned}\\right.\n",
    "\\end{align*}\n",
    "\n",
    "Com isso, dado que os operadores $\\kappa$ e $\\big(\\cdot,\\cdot\\big)$ são lineares em cada componente, temos:\n",
    "\n",
    "\\begin{align*}\n",
    "\\left\\{\n",
    "\\begin{aligned}\n",
    "& \n",
    "      \\big(\\varphi_1,\\varphi_1\\big)\\frac{C_1^n-C_1^{n-1}}{\\tau}+      \\big(\\varphi_2,\\varphi_1\\big)\\frac{C_2^n-C_2^{n-1}}{\\tau} + \\dots +       \\big(\\varphi_m,\\varphi_1\\big)\\frac{C_m^n-C_m^{n-1}}{\\tau}\n",
    "\\quad+\\quad\n",
    "\\kappa\\big(\\varphi_1,\\varphi_1\\big)\\frac{C_1^n+C_1^{n-1}}{2   }+\\kappa\\big(\\varphi_2,\\varphi_1\\big)\\frac{C_2^n+C_2^{n-1}}{2   } + \\dots + \\kappa\\big(\\varphi_m,\\varphi_1\\big)\\frac{C_m^n+C_m^{n-1}}{2   } \n",
    "= \\big(f(t_{n-\\frac{1}{2}}),\\varphi_1\\big), \n",
    "\\\\[10pt]\n",
    "&\n",
    "      \\big(\\varphi_1,\\varphi_2\\big)\\frac{C_1^n-C_1^{n-1}}{\\tau}+      \\big(\\varphi_2,\\varphi_2\\big)\\frac{C_2^n-C_2^{n-1}}{\\tau} + \\dots +       \\big(\\varphi_m,\\varphi_2\\big)\\frac{C_m^n-C_m^{n-1}}{\\tau}\n",
    "\\quad+\\quad\n",
    "\\kappa\\big(\\varphi_1,\\varphi_2\\big)\\frac{C_1^n+C_1^{n-1}}{2   }+\\kappa\\big(\\varphi_2,\\varphi_2\\big)\\frac{C_2^n+C_2^{n-1}}{2   } + \\dots + \\kappa\\big(\\varphi_m,\\varphi_2\\big)\\frac{C_m^n+C_m^{n-1}}{2   } \n",
    "= \\big(f(t_{n-\\frac{1}{2}}),\\varphi_2\\big), \n",
    "\\\\\n",
    "& \\vdots\n",
    "\\\\\n",
    "& \n",
    "      \\big(\\varphi_1,\\varphi_m\\big)\\frac{C_1^n-C_1^{n-1}}{\\tau}+      \\big(\\varphi_2,\\varphi_m\\big)\\frac{C_2^n-C_2^{n-1}}{\\tau} + \\dots +       \\big(\\varphi_m,\\varphi_m\\big)\\frac{C_m^n-C_m^{n-1}}{\\tau}\n",
    "\\quad+\\quad\n",
    "\\kappa\\big(\\varphi_1,\\varphi_m\\big)\\frac{C_1^n+C_1^{n-1}}{2   }+\\kappa\\big(\\varphi_2,\\varphi_m\\big)\\frac{C_2^n+C_2^{n-1}}{2   } + \\dots + \\kappa\\big(\\varphi_m,\\varphi_m\\big)\\frac{C_m^n+C_m^{n-1}}{2   } \n",
    "= \\big(f(t_{n-\\frac{1}{2}}),\\varphi_m\\big), .\n",
    "\\end{aligned}\\right.\n",
    "\\end{align*}\n",
    "\n",
    "\n",
    "Note que esse sistema pode ser reescrito na seguinte forma matricial:\n",
    "\n",
    "\\begin{align*}\n",
    "\\begin{bmatrix}\n",
    "\\big(\\varphi_1,\\varphi_1\\big)&\\big(\\varphi_2,\\varphi_1\\big)&\\dots&\\big(\\varphi_m,\\varphi_1\\big)\n",
    "\\\\[10pt]\n",
    "\\big(\\varphi_1,\\varphi_2\\big)&\\big(\\varphi_2,\\varphi_2\\big)&\\dots&\\big(\\varphi_m,\\varphi_2\\big)\n",
    "\\\\\n",
    "\\vdots&\\vdots&\\ddots& \\vdots  \n",
    "\\\\\n",
    "\\big(\\varphi_1,\\varphi_m\\big)&\\big(\\varphi_2,\\varphi_m\\big)&\\dots&\\big(\\varphi_m,\\varphi_m\\big)\n",
    "\\end{bmatrix}\n",
    "\\frac{C^n-C^{n-1}}{\\tau}\n",
    "\\quad+\\quad\n",
    "\\begin{bmatrix}\n",
    "\\kappa\\big(\\varphi_1,\\varphi_1\\big)&\\kappa\\big(\\varphi_2,\\varphi_1\\big)&\\dots&\\kappa\\big(\\varphi_m,\\varphi_1\\big)\n",
    "\\\\[10pt]\n",
    "\\kappa\\big(\\varphi_1,\\varphi_2\\big)&\\kappa\\big(\\varphi_2,\\varphi_2\\big)&\\dots&\\kappa\\big(\\varphi_m,\\varphi_2\\big)\n",
    "\\\\\n",
    "\\vdots&\\vdots&\\ddots& \\vdots  \n",
    "\\\\\n",
    "\\kappa\\big(\\varphi_1,\\varphi_m\\big)&\\kappa\\big(\\varphi_2,\\varphi_m\\big)&\\dots&\\kappa\\big(\\varphi_m,\\varphi_m\\big)\n",
    "\\end{bmatrix}\n",
    "\\frac{C^n+C^{n-1}}{2   }\n",
    "=\n",
    "\\begin{bmatrix}\n",
    "\\big(f(t_{n-\\frac{1}{2}}),\\varphi_1\\big)\\\\[10pt]\n",
    "\\big(f(t_{n-\\frac{1}{2}}),\\varphi_2\\big)\\\\\n",
    "\\vdots\\\\\n",
    "\\big(f(t_{n-\\frac{1}{2}}),\\varphi_m\\big)\\\\\n",
    "\\end{bmatrix}.\n",
    "\\end{align*}"
   ]
  },
  {
   "cell_type": "markdown",
   "metadata": {},
   "source": [
    "Por fim, definindo \n",
    "\n",
    "\\begin{align*}\n",
    "M_{i,j} = (\\varphi_j,\\varphi_i),\n",
    "\\quad\n",
    "K_{i,j} = \\kappa(\\varphi_j,\\varphi_i)\n",
    "\\quad\\text{e}\\quad\n",
    "F_i^{n-\\frac{1}{2}} = \\big(f(t_{n-\\frac{1}{2}}),\\varphi_i\\big), \n",
    "\\quad\\text{com}\\quad\n",
    "i,j\\in\\{1,2,3,\\dots,m\\},\n",
    "\\end{align*}\n",
    "\n",
    "obtemos a formulação matriz-vetor do problema aproximado, que consiste em determinar $C^n\\in\\mathbb{R}^m$ tal que\n",
    "\\begin{align*}\n",
    "\\left\\{\n",
    "\\begin{aligned}\n",
    "& M\\frac{C^n-C^{n-1}}{\\tau}\n",
    "+K\\frac{C^n+C^{n-1}}{2}=F^{n-\\frac{1}{2}},\n",
    "\\quad n=1,2,\\dots,N,\n",
    "\\\\\n",
    "& C^0=???.\n",
    "\\end{aligned}\n",
    "\\right.\n",
    "\\end{align*}"
   ]
  },
  {
   "cell_type": "markdown",
   "metadata": {},
   "source": [
    "## Aproximação de $u_0$: exemplos de escolhas de $U^0 \\in V_m$"
   ]
  },
  {
   "cell_type": "markdown",
   "metadata": {},
   "source": [
    "Qualquer função $U^0 \\in V_m$ que esteja suficientemente próxima de $u_0$ é uma escolha viável. \n",
    "O quão próxima ela deve estar, e em qual norma essa distância é medida, só fica claro quando realizamos a demonstração da estimativa de erro entre a solução aproximada e a solução exata.\n",
    "Não vamos entrar nesses detalhes aqui. \n",
    "Contudo, as escolhas que apresentaremos a seguir usualmente satisfazem tais condições."
   ]
  },
  {
   "cell_type": "markdown",
   "metadata": {},
   "source": [
    "### Opção 1: Tomando $U^0$ como a interpolante de $u_0$ - se a base satisfaz a propriedade $\\varphi_j(x_i) = \\delta_{i,j}$"
   ]
  },
  {
   "cell_type": "markdown",
   "metadata": {},
   "source": [
    "Quando a base satisfaz a propriedade $\\varphi_j(x_i) = \\delta_{i,j}$, onde $x_i$ é um nó da malha espacial, temos que \n",
    "$$\n",
    "U^0(x_i) = \\sum_{j=1}^m C_j^0 \\varphi_j(x_i) = C_i^0.\n",
    "$$\n",
    "\n",
    "Consequentemente, para esse tipo de base, se tomarmos $C_i^0$ como $u_0(x_i)$, então $U^0$ interpola $u_0$.\n",
    "Assim sendo, nesse caso, vamos definir\n",
    "$$\n",
    "C^0 =\n",
    "\\begin{bmatrix}\n",
    "u_0(x_1)\\\\\n",
    "u_0(x_2)\\\\\n",
    "\\vdots\\\\\n",
    "u_0(x_m)\n",
    "\\end{bmatrix}.\n",
    "$$"
   ]
  },
  {
   "cell_type": "markdown",
   "metadata": {},
   "source": [
    "### Opção 2: Tomando $U^0$ como a projeção $L^2$ de $u_0$"
   ]
  },
  {
   "cell_type": "markdown",
   "metadata": {},
   "source": [
    "Seja $U^0\\in V_m$ tal que\n",
    "$$\n",
    "\\big(U^0-u_0,v_h\\big)=0,\\quad\\forall v_h\\in V_m.\n",
    "$$\n",
    "\n",
    "Tomando $\\displaystyle U^0(x) = \\sum_{j=1}^{m} C_j^{0}\\varphi_j(x)$ e $v_h=\\varphi_i$, para $i=1,2,\\dots,m$, na equação acima, temos que\n",
    "$$\n",
    "MC^0=\n",
    "\\begin{bmatrix}\n",
    "\\big(u_0,\\varphi_1\\big)\\\\\n",
    "\\big(u_0,\\varphi_2\\big)\\\\\n",
    "\\vdots\\\\\n",
    "\\big(u_0,\\varphi_m\\big)\n",
    "\\end{bmatrix}.\n",
    "$$"
   ]
  },
  {
   "cell_type": "markdown",
   "metadata": {},
   "source": [
    "### Opção 3: Tomando $U^0$ como a projeção $H_0^1$ de $u_0$"
   ]
  },
  {
   "cell_type": "markdown",
   "metadata": {},
   "source": [
    "Seja $U^0\\in V_m$ tal que\n",
    "$$\n",
    "\\Big(\\frac{d}{dx}(U^0-u_0),\\frac{dv_h}{dx}\\Big)=0,\\quad\\forall v_h\\in V_m.\n",
    "$$\n",
    "\n",
    "Tomando $\\displaystyle U^0(x) = \\sum_{j=1}^{m} C_j^{0}\\varphi_j(x)$ e $v_h=\\varphi_i$, para $i=1,2,\\dots,m$, na equação acima, temos que\n",
    "$$\n",
    "\\begin{bmatrix}\n",
    "\\big(\\partial_x\\varphi_1,\\partial_x\\varphi_1\\big)&\\big(\\partial_x\\varphi_2,\\partial_x\\varphi_1\\big)&\\dots&\\big(\\partial_x\\varphi_m,\\partial_x\\varphi_1\\big)\n",
    "\\\\[10pt]\n",
    "\\big(\\partial_x\\varphi_1,\\partial_x\\varphi_2\\big)&\\big(\\partial_x\\varphi_2,\\partial_x\\varphi_2\\big)&\\dots&\\big(\\partial_x\\varphi_m,\\partial_x\\varphi_2\\big)\n",
    "\\\\\n",
    "\\vdots&\\vdots&\\ddots& \\vdots  \n",
    "\\\\\n",
    "\\big(\\partial_x\\varphi_1,\\partial_x\\varphi_m\\big)&\\big(\\partial_x\\varphi_2,\\partial_x\\varphi_m\\big)&\\dots&\\big(\\partial_x\\varphi_m,\\partial_x\\varphi_m\\big)\n",
    "\\end{bmatrix}\n",
    "C^0=\n",
    "\\begin{bmatrix}\n",
    "\\big(\\partial_xu_0,\\partial_x\\varphi_1\\big)\\\\\n",
    "\\big(\\partial_xu_0,\\partial_x\\varphi_2\\big)\\\\\n",
    "\\vdots\\\\\n",
    "\\big(\\partial_xu_0,\\partial_x\\varphi_m\\big)\n",
    "\\end{bmatrix}.\n",
    "$$"
   ]
  },
  {
   "cell_type": "markdown",
   "metadata": {},
   "source": [
    "### Opção 4: Usando o operador $\\kappa$ para realizar a projeção de $u_0$"
   ]
  },
  {
   "cell_type": "markdown",
   "metadata": {},
   "source": [
    "Seja $U^0\\in V_m$ tal que\n",
    "$$\n",
    "\\kappa\\big(U^0-u_0,v_h\\big)=0,\\quad\\forall v_h\\in V_m.\n",
    "$$\n",
    "\n",
    "Tomando $\\displaystyle U^0(x) = \\sum_{j=1}^{m} C_j^{0}\\varphi_j(x)$ e $v_h=\\varphi_i$, para $i=1,2,\\dots,m$, na equação acima, temos que\n",
    "$$\n",
    "KC^0=\n",
    "\\begin{bmatrix}\n",
    "\\kappa\\big(u_0,\\varphi_1\\big)\\\\\n",
    "\\kappa\\big(u_0,\\varphi_2\\big)\\\\\n",
    "\\vdots\\\\\n",
    "\\kappa\\big(u_0,\\varphi_m\\big)\n",
    "\\end{bmatrix}.\n",
    "$$"
   ]
  },
  {
   "cell_type": "markdown",
   "metadata": {},
   "source": [
    "## Monta local"
   ]
  },
  {
   "cell_type": "markdown",
   "metadata": {},
   "source": [
    "### Cálculo da matriz local $K^e$ - via quadratura gaussiana"
   ]
  },
  {
   "cell_type": "markdown",
   "metadata": {},
   "source": [
    "\\begin{align*}\n",
    "K^e_{a,b} \n",
    " = \n",
    "  \\alpha \\int_{x_{1}^e}^{x_2^e}\\frac{d\\varphi_b^e}{dx}(x)\\frac{d\\varphi_a^e}{dx}(x)dx\n",
    "+ \\beta  \\int_{x_{1}^e}^{x_2^e}\\varphi_b^e(x)\\varphi_a^e(x)dx\n",
    " =\n",
    "\\frac{2\\alpha}{h} \\int_{-1}^{1}\n",
    "\\frac{d\\phi_b}{d\\xi}(\\xi)\\frac{d\\phi_a}{d\\xi}(\\xi)d\\xi\n",
    "+ \\frac{\\beta h}{2}  \\int_{-1}^{1}\n",
    "\\phi_b(\\xi)\\phi_a(\\xi) d\\xi\n",
    "=\n",
    "\\frac{2\\alpha}{h} \\sum_{j=1}^{n_{pg}} W_j \\frac{d\\phi_b}{d\\xi}(P_j)\\frac{d\\phi_a}{d\\xi}(P_j)\n",
    "+ \\frac{\\beta h}{2} \\sum_{j=1}^{n_{pg}} W_j \\phi_b(P_j)\\phi_a(P_j)\n",
    "\\end{align*}"
   ]
  },
  {
   "cell_type": "code",
   "execution_count": 3,
   "metadata": {},
   "outputs": [
    {
     "data": {
      "text/plain": [
       "monta_Kᵉ"
      ]
     },
     "metadata": {},
     "output_type": "display_data"
    }
   ],
   "source": [
    "\"Retorna o valor de `ϕₐ(ξ)` para um dado `ξ` e `a`.\"\n",
    "function ϕ(ξ::Float64, a::Int)::Float64\n",
    "    if a == 1\n",
    "        return (1.0 - ξ) / 2.0\n",
    "    elseif a == 2\n",
    "        return (1.0 + ξ) / 2.0\n",
    "    else\n",
    "        error(\"a deve ser 1 ou 2.\")\n",
    "    end\n",
    "end\n",
    "\n",
    "\"Retorna a derivada de `ϕₐ(ξ)` em relação a `ξ` para um dado `ξ` e `a`.\"\n",
    "function dϕ(ξ, a)\n",
    "    if a == 1\n",
    "        return -1.0 / 2.0\n",
    "    elseif a == 2\n",
    "        return 1.0 / 2.0\n",
    "    else\n",
    "        error(\"a deve ser 1 ou 2.\")\n",
    "    end\n",
    "end\n",
    "\n",
    "\"Retorna a matriz local `Kᵉ` de um elemento arbitrário `e` de tamanho `h`.\"\n",
    "function monta_Kᵉ(α::Float64, β::Float64, h::Float64)::Matrix{Float64}\n",
    "    # Constantes associadas aos termos da primeira e da segunda integral\n",
    "    cst1 = 2.0 * α / h\n",
    "    cst2 = β * h / 2.0\n",
    "\n",
    "    # Pontos e pesos de quadratura de Gauss-Legendre\n",
    "    n_pg = 2\n",
    "    P, W = legendre(n_pg)\n",
    "\n",
    "    # Inicializa a matriz local Kᵉ\n",
    "    Kᵉ = zeros(Float64, 2, 2)\n",
    "\n",
    "    # Loop sobre as entradas da matriz local Kᵉ\n",
    "    for a = 1:2\n",
    "        for b = 1:2\n",
    "            # Loop sobre os pontos de quadratura\n",
    "            for j = 1:n_pg\n",
    "                # Calcula a contribuição da quadratura na entrada Kᵉ[a,b]\n",
    "                Kᵉ[a, b] += W[j] * (cst1 * dϕ(P[j], b) * dϕ(P[j], a) + cst2 * ϕ(P[j], b) * ϕ(P[j], a))\n",
    "            end\n",
    "        end\n",
    "    end\n",
    "\n",
    "    return Kᵉ\n",
    "end"
   ]
  },
  {
   "cell_type": "markdown",
   "metadata": {},
   "source": [
    "### Cálculo do vetor local $F^e$ - via quadratura gaussiana"
   ]
  },
  {
   "cell_type": "markdown",
   "metadata": {},
   "source": [
    "\\begin{align*}\n",
    "F_a^e \n",
    " = \n",
    "\\int_{x_1^e}^{x_2^e}f(x)\\varphi_a^e(x)dx\n",
    " =\n",
    "\\frac{h}{2} \\int_{-1}^{1}f\\big(x(\\xi,e)\\big)\\phi_a(\\xi)d\\xi\n",
    " \\approx\n",
    "\\frac{h}{2} \\sum_{j=1}^{n_{pg}} W_j f\\big(x(P_j,e)\\big)\\phi_a(P_j).\n",
    "\\end{align*}"
   ]
  },
  {
   "cell_type": "code",
   "execution_count": 4,
   "metadata": {},
   "outputs": [
    {
     "data": {
      "text/plain": [
       "monta_Fᵉ"
      ]
     },
     "metadata": {},
     "output_type": "display_data"
    }
   ],
   "source": [
    "\"\"\"\n",
    "Mapeia um ponto `ξ` do intervalo padrão `[-1, 1]` para o intervalo físico `[x1e, x2e]`.\n",
    "\n",
    "# Parâmetros\n",
    "- `ξ::Float64`: Ponto no intervalo padrão `[-1, 1]`.\n",
    "- `h::Float64`: Comprimento do e-ésimo elemento, calculado como `h = x2e - x1e`.\n",
    "- `x1e::Float64`: Coordenada do ponto inicial `x1e` do e-ésimo elemento.\n",
    "\n",
    "# Retorno\n",
    "- Coordenada correspondente a `ξ` no intervalo `[x1e, x2e]`.\n",
    "\"\"\"\n",
    "function x_de_ξ(ξ::Float64, h::Float64, x1e::Float64)::Float64\n",
    "    return (ξ + 1.0) * h / 2.0 + x1e\n",
    "end\n",
    "\n",
    "\"\"\"\n",
    "Monta o vetor força local `Fᵉ` para o `e`-ésimo elemento `[x1e, x2e]` de tamanho `h`.\n",
    "\n",
    "# Parâmetros\n",
    "- `f::Function`: Função f(x).\n",
    "- `h::Float64`: Comprimento do e-ésimo elemento, calculado como `h = x2e - x1e`.\n",
    "- `x1e::Float64`: Coordenada do ponto inicial `x1e` do e-ésimo elemento.\n",
    "- `P::Vector{Float64}`: Vetor dos pontos de quadratura no intervalo padrão `[-1, 1]`.\n",
    "- `W::Vector{Float64}`: Vetor dos pesos de quadratura associados a `P`.\n",
    "\n",
    "# Retorno\n",
    "- `Fᵉ::Vector{Float64}`: Vetor força local de tamanho 2, correspondente ao elemento `[x1e, x2e]`.\n",
    "\"\"\"\n",
    "function monta_Fᵉ(f::Function, h::Float64, x1e::Float64, P::Vector{Float64}, W::Vector{Float64})::Vector{Float64}\n",
    "    # Inicializa o vetor local Fᵉ\n",
    "    Fᵉ = zeros(Float64, 2)\n",
    "\n",
    "    # Loop sobre as entradas do vetor local Fᵉ\n",
    "    for a = 1:2\n",
    "        # Loop sobre os pontos de quadratura\n",
    "        for j = 1:length(P)\n",
    "            # Mapeia o ponto de quadratura `P[j]` de [-1,1] para [x1e,x2e]\n",
    "            x = x_de_ξ(P[j], h, x1e)\n",
    "            # Calcula e acumula a contribuição da quadratura em Fᵉ[a]\n",
    "            Fᵉ[a] += W[j] * f(x) * ϕ(P[j], a) * h / 2\n",
    "        end\n",
    "    end\n",
    "\n",
    "    return Fᵉ\n",
    "end"
   ]
  },
  {
   "cell_type": "markdown",
   "metadata": {},
   "source": [
    "Para calcular o vetor $F^e$, é necessário definir a função de mudança de variável que mapeia os pontos do elemento padrão $[-1, 1]$ para o e-ésimo elemento $[x_1^e, x_2^e]$.\n",
    "<div style=\"text-align: center;\">\n",
    "    <img src=\"./imagens/Fig03.png\" alt=\"img\" style=\"width: 80%;\">\n",
    "</div>"
   ]
  },
  {
   "cell_type": "markdown",
   "metadata": {},
   "source": [
    "## Estruturas auxiliares LG e EQ"
   ]
  },
  {
   "cell_type": "markdown",
   "metadata": {},
   "source": [
    "### LG: Relação entre a numeração local e global das funções $\\varphi$"
   ]
  },
  {
   "cell_type": "markdown",
   "metadata": {},
   "source": [
    "Para adicionar corretamente os valores da matriz local $K^e$ e do vetor local $F^e$ nas devidas entradas da matriz global $K$ e do vetor global $F$, é necessário mapear a correspondência entre a numeração local e global das funções de base.\n",
    "Neste momento, vamos ignorar a condição na fronteira, ou seja, quais funções globais pertencem ou não à base do subespaço de dimensão finita $V_m$. \n",
    "Vamos utilizar todas as funções globais e definir a correspondência entre a nomenclatura local e global. Essa informação será armazenada em uma matriz denotada por $LG$, as iniciais de local e global.\n",
    "\n",
    "Dado $n_e\\in\\mathbb{N}$, considere a discretização uniforme do intervalo $[0,1]$, definida por $0 = x_1 < x_2 < \\dots < x_{n_e} < x_{n_{e}+1} = 1$, onde cada subintervalo tem comprimento $h=1/n_e$. \n",
    "A figura abaixo ilustra a discretização da malha, assim como as funções globais $\\varphi_i$, para $i=1,2,\\dots,n_e+1$.\n",
    "\n",
    "<div style=\"text-align: center;\">\n",
    "    <img src=\"./imagens/Fig04.png\" alt=\"img\" style=\"width: 80%;\">\n",
    "</div>\n",
    "\n"
   ]
  },
  {
   "cell_type": "markdown",
   "metadata": {},
   "source": [
    "A matriz $LG$ armazena a correspondência entre a nomenclatura local e global de cada elemento finito. Assim, ela possui $n_e$ colunas, cada uma relativa a um elemento finito.\n",
    "Na $e$-ésima coluna, temos a numeração global das funções locais $\\varphi_1^e$ e $\\varphi_2^e$.\n",
    "Portanto, $LG$ tem tamanho $2\\times n_e$, com cada entrada dada por\n",
    "\n",
    "\\begin{align*}\n",
    "LG(a,e) = \n",
    "\\begin{cases}\n",
    "e,&\\quad\\text{se } a=1,\n",
    "\\\\ \n",
    "e+1,&\\quad\\text{se } a=2.\n",
    "\\end{cases}\n",
    "\\end{align*}"
   ]
  },
  {
   "cell_type": "markdown",
   "metadata": {},
   "source": [
    "A matriz $LG$ completa é dada por\n",
    "\n",
    "\\begin{align*}\n",
    "LG = \n",
    "\\begin{bmatrix}\n",
    "1 & 2 & \\dots & e-1 & e   & \\dots & n_e  \\\\\n",
    "2 & 3 & \\dots & e   & e+1 & \\dots & n_e+1\\\\\n",
    "\\end{bmatrix}_{2\\times n_e}.\n",
    "\\end{align*}"
   ]
  },
  {
   "cell_type": "code",
   "execution_count": 5,
   "metadata": {},
   "outputs": [
    {
     "data": {
      "text/plain": [
       "monta_LG"
      ]
     },
     "metadata": {},
     "output_type": "display_data"
    }
   ],
   "source": [
    "\"\"\"\n",
    "Retorna uma matriz `2 x ne` com a numeração global de cada função local.\n",
    "\n",
    "# Parâmetros\n",
    "- `ne::Int`: Número total de elementos (ou intervalos) em que o domínio `[0,1]` é dividido.\n",
    "\"\"\"\n",
    "function monta_LG(ne::Int)::Matrix{Int}\n",
    "    return transpose(hcat(1:ne, 2:ne+1))\n",
    "end"
   ]
  },
  {
   "cell_type": "markdown",
   "metadata": {},
   "source": [
    "### EQ: Relação entre a numeração global e de equação das funções $\\varphi$"
   ]
  },
  {
   "cell_type": "markdown",
   "metadata": {},
   "source": [
    "No caso da equação diferencial abordada, a condição na fronteira é dada por $u(0,t)=u(1,t)=0$. \n",
    "Com isso, para as funções lineares por partes que estamos considerando, a primeira e a última, ou seja, $\\varphi_1$ e $\\varphi_{n_e+1}$, não fazem parte da base do subespaço $V_m$. \n",
    "Portanto, essas duas funções precisam ser desconsideradas, e as demais devem ser reenumeradas. \n",
    "Essa informação será armazenada em um vetor denotado por $EQ$, as iniciais de \"equação\". \n",
    "Cada entrada do vetor $EQ$ possui a nova numeração de uma função global. Portanto, o tamanho do vetor $EQ$ é dado pelo número de funções globais, ou seja, $n_e + 1$.\n",
    "\n",
    "Considerando as especificações para o tipo de fronteira e as funções $\\varphi$ abordadas, o vetor $EQ$ é dado por\n",
    "\n",
    "\\begin{align*}\n",
    "EQ = \n",
    "\\begin{bmatrix}\n",
    "m+1 & 1 & 2 &\\dots & m & m+1 \n",
    "\\end{bmatrix}_{(n_e+1)}\n",
    "\\end{align*}\n",
    "com $m=n_e-1$."
   ]
  },
  {
   "cell_type": "code",
   "execution_count": 6,
   "metadata": {},
   "outputs": [
    {
     "data": {
      "text/plain": [
       "monta_EQ"
      ]
     },
     "metadata": {},
     "output_type": "display_data"
    }
   ],
   "source": [
    "\"\"\"\n",
    "Retorna o valor de `m` o vetor `EQ`.\n",
    "\n",
    "# Parâmetros\n",
    "- `ne::Int`: Número total de elementos (ou intervalos) em que o domínio `[0,1]` é dividido.\n",
    "\n",
    "# Retorno\n",
    "- Uma tupla contendo:\n",
    "  - `m::Int`: A dimensão do espaço aproximado `Vₘ`. Neste problema temos que `m = ne - 1`.\n",
    "  - `EQ::Vector{Int}`: Um vetor de inteiros que fornece a reenumeração das funções globais `φ`. Neste problema temos que EQ = [m + 1; 1:m; m + 1].\n",
    "\"\"\"\n",
    "function monta_EQ(ne::Int)::Tuple{Int,Vector{Int}}\n",
    "  m = ne - 1\n",
    "  EQ = vcat(m + 1, 1:m, m + 1)\n",
    "  return m, EQ\n",
    "end"
   ]
  },
  {
   "cell_type": "markdown",
   "metadata": {},
   "source": [
    "## Monta global"
   ]
  },
  {
   "cell_type": "markdown",
   "metadata": {},
   "source": [
    "### Montagem da matriz global $K$ a partir da matriz local $K^e$"
   ]
  },
  {
   "cell_type": "code",
   "execution_count": 7,
   "metadata": {},
   "outputs": [
    {
     "data": {
      "text/plain": [
       "monta_K"
      ]
     },
     "metadata": {},
     "output_type": "display_data"
    }
   ],
   "source": [
    "\"\"\"\n",
    "Retorna a matriz tridiagonal `K` de tamanho `m x m` montada a partir da matriz local `Kᵉ`.\n",
    "\n",
    "# Parâmetros\n",
    "- `α::Float64`: Parâmetro α fornecido como dado de entrada da equação diferencial em estudo.\n",
    "- `β::Float64`: Parâmetro β fornecido como dado de entrada da equação diferencial em estudo.\n",
    "- `γ::Float64`: Parâmetro γ fornecido como dado de entrada da equação diferencial em estudo.\n",
    "- `ne::Int`: Número total de elementos (ou intervalos) em que o domínio `[0,1]` é dividido.\n",
    "- `m::Int`: Dimensão do espaço aproximado `Vₘ`.\n",
    "- `EQoLG::Matrix{Int}`: ≡ EQ[LG].\n",
    "\"\"\"\n",
    "function monta_K(α::Float64, β::Float64, ne::Int, m::Int, EQoLG::Matrix{Int})::SparseMatrixCSC{Float64,Int64}\n",
    "    h = 1.0 / ne           # Comprimento de cada elemento finito\n",
    "    K = spzeros(m + 1, m + 1)  # Inicializa a matriz esparsa K com tamanho (m+1) x (m+1)\n",
    "    Kᵉ = monta_Kᵉ(α, β, h) # Calcula a matriz local Kᵉ\n",
    "\n",
    "    # Loop sobre os elementos\n",
    "    for e = 1:ne\n",
    "        for a = 1:2\n",
    "            i = EQoLG[a, e]\n",
    "            for b = 1:2\n",
    "                j = EQoLG[b, e]\n",
    "                K[i, j] += Kᵉ[a, b]\n",
    "            end\n",
    "        end\n",
    "    end\n",
    "\n",
    "    # Remove a última linha e coluna da matriz K\n",
    "    return K[1:m, 1:m]\n",
    "end"
   ]
  },
  {
   "cell_type": "markdown",
   "metadata": {},
   "source": [
    "### Montagem do vetor global $F$ a partir do vetor local $F^e$"
   ]
  },
  {
   "cell_type": "code",
   "execution_count": 8,
   "metadata": {},
   "outputs": [
    {
     "data": {
      "text/plain": [
       "monta_F"
      ]
     },
     "metadata": {},
     "output_type": "display_data"
    }
   ],
   "source": [
    "\"\"\"\n",
    "Retorna o vetor força `F` de tamanho `m`, utilizando os vetores locais `Fᵉ`.\n",
    "\n",
    "# Parâmetros\n",
    "- `f::Function`: Função f(x).\n",
    "- `ne::Int`: Número total de elementos (ou intervalos) em que o domínio `[0,1]` é dividido.\n",
    "- `m::Int`: Dimensão do espaço aproximado `Vₘ`.\n",
    "- `EQoLG::Matrix{Int}`: ≡ EQ[LG].\n",
    "\"\"\"\n",
    "function monta_F(f::Function, ne::Int, m::Int, EQoLG::Matrix{Int})::Vector{Float64}\n",
    "    h = 1.0 / ne       # Comprimento de cada elemento finito\n",
    "    F = zeros(m + 1)     # Inicializa o vetor F\n",
    "    P, W = legendre(5) # Pontos e pesos de quadratura de Gauss-Legendre\n",
    "\n",
    "    # Loop sobre os elementos\n",
    "    for e = 1:ne\n",
    "        Fᵉ = monta_Fᵉ(f, h, (e - 1) * h, P, W) # Calcula o vetor local Fᵉ\n",
    "        for a = 1:2\n",
    "            i = EQoLG[a, e]\n",
    "            F[i] += Fᵉ[a]\n",
    "        end\n",
    "    end\n",
    "\n",
    "    # Remove a última entrada do vetor global F\n",
    "    return F[1:m]\n",
    "end"
   ]
  },
  {
   "cell_type": "markdown",
   "metadata": {},
   "source": [
    "# Cálculo do erro no tempo $t_n$"
   ]
  },
  {
   "cell_type": "markdown",
   "metadata": {},
   "source": [
    "O erro na norma do espaço $L^2(]0,1[)$ entre a solução exata $u(x,t_n)$ e a solução aproximada $U^n(x)$, definida por $\\displaystyle U^n(x) = \\sum_{j=1}^m C_j^n\\varphi_j(x)$, é dado por \n",
    "$\\displaystyle\\|u(t_n)-U^n\\|=\\sqrt{\\int_0^1|u(x,t_n)-U^n(x)|^2dx}$.\n",
    "\n",
    "Dessa forma, denotando $\\mathcal{E}_h^n=\\|u(t_n)-U^n\\|$ e $\\bar{C}^n=[C^n;0]$, temos que:\n",
    "\n",
    "\\begin{align*}\n",
    "(\\mathcal{E}_h^n)^2 \n",
    "\\approx\n",
    "\\frac{h}{2} \\sum_{e=1}^{n_e} \\sum_{j=1}^{n_{pg}} \n",
    "W_j|u\\big(x(P_j,e),t_n\\big) - \\bar{C}_{EQoLG(1,e)}^n\\phi_1(P_j) - \\bar{C}_{EQoLG(2,e)}^n\\phi_2(P_j) |^2.\n",
    "\\end{align*}"
   ]
  },
  {
   "cell_type": "code",
   "execution_count": 9,
   "metadata": {},
   "outputs": [
    {
     "data": {
      "text/plain": [
       "erro_norma_L2"
      ]
     },
     "metadata": {},
     "output_type": "display_data"
    }
   ],
   "source": [
    "@doc raw\"\"\"\n",
    "Calcula a norma L² da diferença entre duas funções, `z(x)` e `Z(x)`, \n",
    "onde `Z(x)` pertence ao espaço aproximado `Vₘ`, sendo expressa como `Z(x) = Σ_{j=1}^{m} C_j φ_j(x)`. \n",
    "A integral da diferença é aproximada em cada elemento finito por meio da quadratura de Gauss-Legendre.\n",
    "\n",
    "# Parâmetros:\n",
    "- `z::Function`: Função `z(x)` que representa a solução exata no domínio.\n",
    "- `C̄::Vector{Float64}`: Vetor de coeficientes estendido, `C̄ = [C; 0]`, onde `C` é o vetor de coeficientes que define a função aproximada `Z(x)`.\n",
    "- `ne::Int`: Número total de elementos (ou intervalos) em que o domínio `[0,1]` é dividido.\n",
    "- `EQoLG::Matrix{Int}`: ≡ EQ[LG].\n",
    "\n",
    "# Retorno:\n",
    "- `Float64`: O valor do erro calculado na norma L² entre `z(x)` e a aproximação `Z(x)`.\n",
    "\"\"\"\n",
    "function erro_norma_L2(z::Function, C̄::Vector{Float64}, ne::Int, EQoLG::Matrix{Int})::Float64\n",
    "    h = 1.0 / ne       # Comprimento de cada elemento finito\n",
    "    erro = 0.0         # Inicializa o erro\n",
    "    P, W = legendre(5) # Pontos e pesos da quadratura de Gauss-Legendre (5 pontos)\n",
    "\n",
    "    # Calcula as funções de base ϕ₁ e ϕ₂ nos pontos de quadratura P\n",
    "    ϕ1P = ϕ.(P, 1)\n",
    "    ϕ2P = ϕ.(P, 2)\n",
    "\n",
    "    # Loop sobre todos os elementos finitos\n",
    "    for e = 1:ne\n",
    "        # Coeficientes da solução aproximada para o elemento `e`\n",
    "        c1e = C̄[EQoLG[1, e]]\n",
    "        c2e = C̄[EQoLG[2, e]]\n",
    "\n",
    "        # Loop sobre os pontos de quadratura\n",
    "        for j = 1:length(P)\n",
    "            x = x_de_ξ(P[j], h, (e - 1) * h) # Mapeia o ponto de quadratura `P[j]` de [-1,1] para [x1e,x2e]\n",
    "            erro += W[j] * (z(x) - c1e * ϕ1P[j] - c2e * ϕ2P[j])^2\n",
    "        end\n",
    "    end\n",
    "\n",
    "    return sqrt(erro * h / 2)\n",
    "end"
   ]
  },
  {
   "cell_type": "markdown",
   "metadata": {},
   "source": [
    "# Cálculo de $C^0$"
   ]
  },
  {
   "cell_type": "code",
   "execution_count": 10,
   "metadata": {},
   "outputs": [
    {
     "data": {
      "text/plain": [
       "Calcula_C⁰!"
      ]
     },
     "metadata": {},
     "output_type": "display_data"
    }
   ],
   "source": [
    "\"\"\"\n",
    "Atualiza os coeficientes do vetor `C⁰` in-place com base no método especificado para aproximar a função inicial `u₀`.\n",
    "\n",
    "Existem dois métodos disponíveis:\n",
    "1. **Interpolação**: Calcula `C⁰` por interpolação nos nós da malha (caso == 1).\n",
    "2. **Projeção L²**: Calcula `C⁰` resolvendo um sistema linear resultante da projeção L² de `u₀` (caso == 2).\n",
    "\n",
    "# Parâmetros\n",
    "- `C⁰::Vector{Float64}`: Vetor de coeficientes a ser modificado in-place.\n",
    "- `u₀::Function`: Função inicial a ser aproximada.\n",
    "- `ne::Int`: Número total de elementos (ou intervalos) em que o domínio `[0,1]` é dividido.\n",
    "- `m::Int`: Dimensão do espaço aproximado `Vₘ`.\n",
    "- `EQoLG::Matrix{Int}`: ≡ EQ[LG].\n",
    "- `caso_C⁰::Int`: Escolha do método (1 para interpolação, 2 para projeção L²).\n",
    "\"\"\"\n",
    "function Calcula_C⁰!(C⁰::Vector{Float64}, u₀::Function, ne::Int, m::Int, EQoLG::Matrix{Int}; caso_C⁰::Int=2)\n",
    "    if caso_C⁰ == 1\n",
    "        # Método 1: Interpolação de u₀ nos nós da malha\n",
    "        h = 1.0 / ne          # Comprimento de cada elemento finito\n",
    "        @. C⁰ = u₀(h:h:1.0-h) # Atualiza C⁰ in-place aplicando u₀ nos pontos da malha\n",
    "    elseif caso_C⁰ == 2\n",
    "        # Método 2: Projeção L² de u₀ no espaço de funções base\n",
    "        C⁰ .= monta_K(0.0, 1.0, ne, m, EQoLG) \\ monta_F(u₀, ne, m, EQoLG)\n",
    "    else\n",
    "        error(\"Caso inválido. Escolha 1 ou 2.\")\n",
    "    end\n",
    "end"
   ]
  },
  {
   "cell_type": "markdown",
   "metadata": {},
   "source": [
    "# Cálculo de $C^n$"
   ]
  },
  {
   "cell_type": "code",
   "execution_count": 11,
   "metadata": {},
   "outputs": [
    {
     "data": {
      "text/plain": [
       "Calcula_Cⁿ!"
      ]
     },
     "metadata": {},
     "output_type": "display_data"
    }
   ],
   "source": [
    "\"\"\"\n",
    "Atualiza os coeficientes do vetor `Cⁿ` in-place.\n",
    "\n",
    "# Parâmetros\n",
    "- `Cⁿ::Vector{Float64}`: Vetor de coeficientes a ser modificado in-place.\n",
    "- `Cⁿ⁻¹::Vector{Float64}`: Vetor de coeficientes da iteração anterior.\n",
    "- `A`: Em vez de passar o valor da matriz `A`, dado`M+τ/2*K`, passe a LU desta.\n",
    "- `B::SparseMatrixCSC{Float64, Int64}`: Matriz `M-τ/2*K` do sistema linear.\n",
    "- `ne::Int`: Número total de elementos (ou intervalos) em que o domínio `[0,1]` é dividido.\n",
    "- `m::Int`: Dimensão do espaço aproximado `Vₘ`.\n",
    "- `EQoLG::Matrix{Int}`: ≡ EQ[LG].\n",
    "- `τ::Float64`: Passo de tempo.\n",
    "- `n::Int`: Índice da iteração atual.\n",
    "- `f::Function`: Função f(x, t).\n",
    "\"\"\"\n",
    "function Calcula_Cⁿ!(Cⁿ::Vector{Float64}, Cⁿ⁻¹::Vector{Float64}, A, B::SparseMatrixCSC{Float64,Int64}, ne::Int, m::Int, EQoLG::Matrix{Int}, τ::Float64, n::Int, f::Function)\n",
    "    # Calcula o ponto médio t_{n-\\frac{1}{2}}\n",
    "    t_medio = n * τ - τ / 2\n",
    "\n",
    "    # Monta F^{n-\\frac{1}{2}}\n",
    "    F = monta_F(x -> f(x, t_medio), ne, m, EQoLG)\n",
    "\n",
    "    # Atualiza Cⁿ\n",
    "    Cⁿ .= A \\ (B * Cⁿ⁻¹ + τ * F)\n",
    "end"
   ]
  },
  {
   "cell_type": "markdown",
   "metadata": {},
   "source": [
    "# Comparando a solução aproximada com a solução exata"
   ]
  },
  {
   "cell_type": "code",
   "execution_count": 12,
   "metadata": {},
   "outputs": [
    {
     "data": {
      "text/plain": [
       "solucao_exata_vs_aproximada (generic function with 1 method)"
      ]
     },
     "metadata": {},
     "output_type": "display_data"
    }
   ],
   "source": [
    "function solucao_exata_vs_aproximada(exemplo, caso_C⁰)\n",
    "    # Carrega o exemplo escolhido\n",
    "    T, α, β, f, u₀, u = dados_de_entrada(exemplo)\n",
    "\n",
    "    # Define o número de elementos em que o domínio [0,1] é dividido\n",
    "    ne = 4\n",
    "\n",
    "    # Define o número de intervalos em que o intervalo de tempo [0,T] é dividido\n",
    "    nt = ne\n",
    "\n",
    "    # Define o passo de tempo τ = T / nt\n",
    "    τ = T / nt\n",
    "\n",
    "    # Define o vetor de tempos tₙ\n",
    "    t = 0:τ:T\n",
    "\n",
    "    # Define a matriz LG\n",
    "    LG = monta_LG(ne)\n",
    "\n",
    "    # Define a dimensão do espaço aproximado Vₘ e o vetor EQ\n",
    "    m, EQ = monta_EQ(ne)\n",
    "\n",
    "    # Define a matriz EQoLG\n",
    "    EQoLG = EQ[LG]\n",
    "\n",
    "    # Exibe os valores ne, LG, m, EQ e EQoLG\n",
    "    # display(\"ne = \")\n",
    "    # display(ne)\n",
    "    # display(\"LG = \")\n",
    "    # display(LG)\n",
    "    # display(\"m = \")\n",
    "    # display(m)\n",
    "    # display(\"EQ = \")\n",
    "    # display(EQ)\n",
    "    # display(\"EQoLG = \")\n",
    "    # display(EQoLG)\n",
    "\n",
    "    # Constrói e exibe as matrizes M e K\n",
    "    M = monta_K(0.0, 1.0, ne, m, EQoLG)\n",
    "    K = monta_K(α, β, ne, m, EQoLG)\n",
    "    # display(\"Matriz M:\")\n",
    "    # display(M)\n",
    "    # display(\"Matriz K:\")\n",
    "    # display(K)\n",
    "\n",
    "    # Define e exibe as matrizes A e B\n",
    "    A = M + (τ / 2) * K\n",
    "    B = M - (τ / 2) * K\n",
    "    # display(\"Matriz A:\")\n",
    "    # display(A)\n",
    "    # display(\"Matriz B:\")\n",
    "    # display(B)\n",
    "\n",
    "    # Inicializa os vetores Cⁿ⁻¹ e Cⁿ\n",
    "    Cⁿ⁻¹ = zeros(m)\n",
    "    Cⁿ = zeros(m)\n",
    "\n",
    "    # Define as malhas de solução exata e aproximada\n",
    "    malha_solucao_exata = 0:0.01:1\n",
    "    malha_solucao_aproximada = 0:1/ne:1\n",
    "\n",
    "    # Define os limites fixos para o eixo y\n",
    "    ylim_inferior = 0    # Ajuste conforme necessário\n",
    "    ylim_superior = 0.11 # Ajuste conforme necessário\n",
    "\n",
    "    # Inicializa o vetor para armazenar os erros\n",
    "    erros = zeros(nt + 1)\n",
    "\n",
    "    # Cria uma animação\n",
    "    anim = @animate for n = 0:nt\n",
    "        # Atualiza os coeficientes Cⁿ⁻¹ para n=0 na primeira iteração\n",
    "        if n == 0\n",
    "            Calcula_C⁰!(Cⁿ⁻¹, u₀, ne, m, EQoLG; caso_C⁰=caso_C⁰)\n",
    "        else\n",
    "            # Calcula Cⁿ em iterações posteriores\n",
    "            Calcula_Cⁿ!(Cⁿ, Cⁿ⁻¹, A, B, ne, m, EQoLG, τ, n, f)\n",
    "            Cⁿ⁻¹ .= Cⁿ\n",
    "        end\n",
    "\n",
    "        # Calcula o erro na norma L²\n",
    "        erros[n+1] = erro_norma_L2(x -> u(x, t[n+1]), [Cⁿ⁻¹; 0], ne, EQoLG)\n",
    "\n",
    "        # Cria a figura com layout único\n",
    "        plt = plot(size=(800, 400),\n",
    "            title=\"Soluções Exata e Aproximada em t_$(n)= $(t[n+1])\",\n",
    "            xlabel=\"x\",\n",
    "            legend=:topright,\n",
    "            ylim=(ylim_inferior, ylim_superior))\n",
    "\n",
    "        # Gráfico da solução exata u(x, t[n+1])\n",
    "        plot!(plt, malha_solucao_exata, u.(malha_solucao_exata, t[n+1]),\n",
    "            lw=3, color=:blue, label=\"u(x,t_$(n))\")\n",
    "\n",
    "        # Gráfico da solução aproximada Uⁿ(x)\n",
    "        plot!(plt, malha_solucao_aproximada, [0; Cⁿ⁻¹; 0],\n",
    "            lw=3, color=:red, linestyle=:dash, markershape=:circle, label=\"U^$(n)(x)\")\n",
    "    end\n",
    "\n",
    "    # Exibe o erro na norma L²\n",
    "    display(\"Erros na norma L²:\")\n",
    "    display(erros)\n",
    "\n",
    "    # Exibe o erro máximo na norma L²\n",
    "    display(\"Erro máximo na norma L²:\")\n",
    "    display(maximum(erros))\n",
    "\n",
    "    # Salva o GIF\n",
    "    gif(anim, \"imagens/solucao_exata_vs_aproximada.gif\", fps=1)\n",
    "end"
   ]
  },
  {
   "cell_type": "code",
   "execution_count": 13,
   "metadata": {},
   "outputs": [
    {
     "data": {
      "text/plain": [
       "\"Erros na norma L²:\""
      ]
     },
     "metadata": {},
     "output_type": "display_data"
    },
    {
     "data": {
      "text/plain": [
       "5-element Vector{Float64}:\n",
       " 0.003980336614548407\n",
       " 0.0035877068013172825\n",
       " 0.0027079361814647588\n",
       " 0.0021239631440615673\n",
       " 0.0016515189350468015"
      ]
     },
     "metadata": {},
     "output_type": "display_data"
    },
    {
     "data": {
      "text/plain": [
       "\"Erro máximo na norma L²:\""
      ]
     },
     "metadata": {},
     "output_type": "display_data"
    },
    {
     "data": {
      "text/plain": [
       "0.003980336614548407"
      ]
     },
     "metadata": {},
     "output_type": "display_data"
    },
    {
     "name": "stderr",
     "output_type": "stream",
     "text": [
      "┌ Info: Saved animation to /home/bcarmo/git_repositories/Problema estacionario unidimensional/imagens/solucao_exata_vs_aproximada.gif\n",
      "└ @ Plots /home/bcarmo/.julia/packages/Plots/du2dt/src/animation.jl:156\n"
     ]
    },
    {
     "data": {
      "text/html": [
       "<img src=\"data:image/gif;base64,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\" />"
      ],
      "text/plain": [
       "Plots.AnimatedGif(\"/home/bcarmo/git_repositories/Problema estacionario unidimensional/imagens/solucao_exata_vs_aproximada.gif\")"
      ]
     },
     "metadata": {},
     "output_type": "display_data"
    }
   ],
   "source": [
    "exemplo = 2\n",
    "caso_C⁰ = 1\n",
    "solucao_exata_vs_aproximada(exemplo, caso_C⁰)"
   ]
  },
  {
   "cell_type": "markdown",
   "metadata": {},
   "source": [
    "# Estudo da convergência do erro"
   ]
  },
  {
   "cell_type": "code",
   "execution_count": 14,
   "metadata": {},
   "outputs": [
    {
     "data": {
      "text/plain": [
       "display_erros (generic function with 1 method)"
      ]
     },
     "metadata": {},
     "output_type": "display_data"
    }
   ],
   "source": [
    "function estudo_do_erro(exemplo::Int, caso_C⁰::Int)\n",
    "    # Carrega os parâmetros e funções do exemplo escolhido\n",
    "    T, α, β, f, u₀, u = dados_de_entrada(exemplo)\n",
    "\n",
    "    # Define os valores de ne a serem considerados (de 2^2 a 2^17)\n",
    "    vec_ne = [2^i for i = 2:14]\n",
    "    vec_nt = vec_ne\n",
    "\n",
    "    # Inicializa o vetor para armazenar os erros\n",
    "    vec_erros = zeros(length(vec_ne))\n",
    "\n",
    "    # Calcula o erro para cada valor de ne\n",
    "    for idx = 1:length(vec_ne)\n",
    "        # Define ne, nt, τ e t\n",
    "        ne = vec_ne[idx] # Número de elementos em que o domínio [0,1] é dividido\n",
    "        nt = vec_nt[idx] # Número de intervalos em que o intervalo de tempo [0,T] é dividido\n",
    "        τ = T / nt       # Passo de tempo\n",
    "        t = 0:τ:T        # Vetor de tempos tₙ\n",
    "\n",
    "        # Define LG, m, EQ e EQoLG\n",
    "        LG = monta_LG(ne)\n",
    "        m, EQ = monta_EQ(ne)\n",
    "        EQoLG = EQ[LG]\n",
    "\n",
    "        # Constrói as matrizes M e K\n",
    "        M = monta_K(0.0, 1.0, ne, m, EQoLG)\n",
    "        K = monta_K(α, β, ne, m, EQoLG)\n",
    "\n",
    "        # Define as matrizes A e B\n",
    "        A = M + (τ / 2) * K\n",
    "        B = M - (τ / 2) * K\n",
    "\n",
    "        # Fatoração LU da matriz A (para resolver de forma eficiente A * Cⁿ = b)\n",
    "        LU_A = lu(A)\n",
    "\n",
    "        # Inicializa os vetores Cⁿ⁻¹ e Cⁿ\n",
    "        Cⁿ⁻¹ = zeros(m)\n",
    "        Cⁿ = zeros(m)\n",
    "\n",
    "        # Inicializa o vetor para armazenar os erros\n",
    "        erros = zeros(nt + 1)\n",
    "\n",
    "        # Calcula C⁰ e o erro na norma L²\n",
    "        Calcula_C⁰!(Cⁿ⁻¹, u₀, ne, m, EQoLG; caso_C⁰=caso_C⁰)\n",
    "        erros[1] = erro_norma_L2(u₀, [Cⁿ⁻¹; 0], ne, EQoLG)\n",
    "\n",
    "        # Itera sobre os passos de tempo e calcula Cⁿ e o erro\n",
    "        for n = 1:nt\n",
    "            Calcula_Cⁿ!(Cⁿ, Cⁿ⁻¹, LU_A, B, ne, m, EQoLG, τ, n, f)\n",
    "            # Calcula_Cⁿ!(Cⁿ, Cⁿ⁻¹, A, B, ne, m, EQoLG, τ, n, f)\n",
    "            Cⁿ⁻¹ .= Cⁿ\n",
    "            erros[n+1] = erro_norma_L2(x -> u(x, t[n+1]), [Cⁿ⁻¹; 0], ne, EQoLG)\n",
    "        end\n",
    "\n",
    "        # Armazena o máximo do erro na norma L² obtido em cada iteração\n",
    "        vec_erros[idx] = maximum(erros)\n",
    "    end\n",
    "\n",
    "    return vec_ne, vec_erros\n",
    "end\n",
    "\n",
    "function display_erros(vec_ne, vec_erros, exemplo)\n",
    "    # Calcula o comprimento de cada elemento finito para cada ne\n",
    "    vec_h = 1.0 ./ vec_ne\n",
    "\n",
    "    # Cria o gráfico do erro em função de h em escala logarítmica\n",
    "    plt = plot(\n",
    "        vec_h, vec_erros, lw=3, linestyle=:solid, markershape=:circle,\n",
    "        label=\"Erro\", title=\"Estudo do erro - exemplo $exemplo\",\n",
    "        xscale=:log10, yscale=:log10, legend=:topleft\n",
    "    )\n",
    "\n",
    "    # Adiciona a curva teórica de h² ao gráfico\n",
    "    plot!(plt, vec_h, vec_h .^ 2, lw=3, linestyle=:solid, label=\"h²\")\n",
    "\n",
    "    # Adiciona rótulos aos eixos\n",
    "    xlabel!(\"h\")\n",
    "    ylabel!(\"Erro\")\n",
    "\n",
    "    # Exibe o gráfico\n",
    "    display(plt)\n",
    "\n",
    "    # Exibe a tabela com os valores de h e erro\n",
    "    display(\"Tabela com os valores de h e erro - exemplo \" * string(exemplo))\n",
    "    display(DataFrame(h=vec_h, erro=vec_erros))\n",
    "end"
   ]
  },
  {
   "cell_type": "code",
   "execution_count": 15,
   "metadata": {},
   "outputs": [
    {
     "data": {
      "image/png": "[encoded data removed]",
      "image/svg+xml": [
       "<?xml version=\"1.0\" encoding=\"utf-8\"?>\n",
       "<svg xmlns=\"http://www.w3.org/2000/svg\" xmlns:xlink=\"http://www.w3.org/1999/xlink\" width=\"600\" height=\"400\" viewBox=\"0 0 2400 1600\">\n",
       "<defs>\n",
       "  <clipPath id=\"clip390\">\n",
       "    <rect x=\"0\" y=\"0\" width=\"2400\" height=\"1600\"/>\n",
       "  </clipPath>\n",
       "</defs>\n",
       "<path clip-path=\"url(#clip390)\" d=\"M0 1600 L2400 1600 L2400 0 L0 0  Z\" fill=\"#ffffff\" fill-rule=\"evenodd\" fill-opacity=\"1\"/>\n",
       "<defs>\n",
       "  <clipPath id=\"clip391\">\n",
       "    <rect x=\"480\" y=\"0\" width=\"1681\" height=\"1600\"/>\n",
       "  </clipPath>\n",
       "</defs>\n",
       "<path clip-path=\"url(#clip390)\" d=\"M252.764 1410.9 L2352.76 1410.9 L2352.76 123.472 L252.764 123.472  Z\" fill=\"#ffffff\" fill-rule=\"evenodd\" fill-opacity=\"1\"/>\n",
       "<defs>\n",
       "  <clipPath id=\"clip392\">\n",
       "    <rect x=\"252\" y=\"123\" width=\"2101\" height=\"1288\"/>\n",
       "  </clipPath>\n",
       "</defs>\n",
       "<polyline clip-path=\"url(#clip392)\" style=\"stroke:#000000; stroke-linecap:round; stroke-linejoin:round; stroke-width:2; stroke-opacity:0.1; fill:none\" points=\"429.792,1410.9 429.792,123.472 \"/>\n",
       "<polyline clip-path=\"url(#clip392)\" style=\"stroke:#000000; stroke-linecap:round; stroke-linejoin:round; stroke-width:2; stroke-opacity:0.1; fill:none\" points=\"1526.65,1410.9 1526.65,123.472 \"/>\n",
       "<polyline clip-path=\"url(#clip390)\" style=\"stroke:#000000; stroke-linecap:round; stroke-linejoin:round; stroke-width:4; stroke-opacity:1; fill:none\" points=\"252.764,1410.9 2352.76,1410.9 \"/>\n",
       "<polyline clip-path=\"url(#clip390)\" style=\"stroke:#000000; stroke-linecap:round; stroke-linejoin:round; stroke-width:4; stroke-opacity:1; fill:none\" points=\"429.792,1410.9 429.792,1392 \"/>\n",
       "<polyline clip-path=\"url(#clip390)\" style=\"stroke:#000000; stroke-linecap:round; stroke-linejoin:round; stroke-width:4; stroke-opacity:1; fill:none\" points=\"1526.65,1410.9 1526.65,1392 \"/>\n",
       "<path clip-path=\"url(#clip390)\" d=\"M379.211 1485.02 L386.85 1485.02 L386.85 1458.66 L378.54 1460.32 L378.54 1456.06 L386.804 1454.4 L391.48 1454.4 L391.48 1485.02 L399.119 1485.02 L399.119 1488.96 L379.211 1488.96 L379.211 1485.02 Z\" fill=\"#000000\" fill-rule=\"nonzero\" fill-opacity=\"1\" /><path clip-path=\"url(#clip390)\" d=\"M418.563 1457.48 Q414.952 1457.48 413.123 1461.04 Q411.318 1464.58 411.318 1471.71 Q411.318 1478.82 413.123 1482.38 Q414.952 1485.92 418.563 1485.92 Q422.197 1485.92 424.003 1482.38 Q425.831 1478.82 425.831 1471.71 Q425.831 1464.58 424.003 1461.04 Q422.197 1457.48 418.563 1457.48 M418.563 1453.77 Q424.373 1453.77 427.429 1458.38 Q430.507 1462.96 430.507 1471.71 Q430.507 1480.44 427.429 1485.04 Q424.373 1489.63 418.563 1489.63 Q412.753 1489.63 409.674 1485.04 Q406.619 1480.44 406.619 1471.71 Q406.619 1462.96 409.674 1458.38 Q412.753 1453.77 418.563 1453.77 Z\" fill=\"#000000\" fill-rule=\"nonzero\" fill-opacity=\"1\" /><path clip-path=\"url(#clip390)\" d=\"M430.507 1447.87 L454.619 1447.87 L454.619 1451.07 L430.507 1451.07 L430.507 1447.87 Z\" fill=\"#000000\" fill-rule=\"nonzero\" fill-opacity=\"1\" /><path clip-path=\"url(#clip390)\" d=\"M473.257 1436.78 L463.665 1451.77 L473.257 1451.77 L473.257 1436.78 M472.261 1433.47 L477.038 1433.47 L477.038 1451.77 L481.044 1451.77 L481.044 1454.93 L477.038 1454.93 L477.038 1461.55 L473.257 1461.55 L473.257 1454.93 L460.581 1454.93 L460.581 1451.26 L472.261 1433.47 Z\" fill=\"#000000\" fill-rule=\"nonzero\" fill-opacity=\"1\" /><path clip-path=\"url(#clip390)\" d=\"M1476.92 1485.02 L1484.56 1485.02 L1484.56 1458.66 L1476.25 1460.32 L1476.25 1456.06 L1484.51 1454.4 L1489.18 1454.4 L1489.18 1485.02 L1496.82 1485.02 L1496.82 1488.96 L1476.92 1488.96 L1476.92 1485.02 Z\" fill=\"#000000\" fill-rule=\"nonzero\" fill-opacity=\"1\" /><path clip-path=\"url(#clip390)\" d=\"M1516.27 1457.48 Q1512.66 1457.48 1510.83 1461.04 Q1509.02 1464.58 1509.02 1471.71 Q1509.02 1478.82 1510.83 1482.38 Q1512.66 1485.92 1516.27 1485.92 Q1519.9 1485.92 1521.71 1482.38 Q1523.54 1478.82 1523.54 1471.71 Q1523.54 1464.58 1521.71 1461.04 Q1519.9 1457.48 1516.27 1457.48 M1516.27 1453.77 Q1522.08 1453.77 1525.13 1458.38 Q1528.21 1462.96 1528.21 1471.71 Q1528.21 1480.44 1525.13 1485.04 Q1522.08 1489.63 1516.27 1489.63 Q1510.46 1489.63 1507.38 1485.04 Q1504.32 1480.44 1504.32 1471.71 Q1504.32 1462.96 1507.38 1458.38 Q1510.46 1453.77 1516.27 1453.77 Z\" fill=\"#000000\" fill-rule=\"nonzero\" fill-opacity=\"1\" /><path clip-path=\"url(#clip390)\" d=\"M1528.21 1447.87 L1552.32 1447.87 L1552.32 1451.07 L1528.21 1451.07 L1528.21 1447.87 Z\" fill=\"#000000\" fill-rule=\"nonzero\" fill-opacity=\"1\" /><path clip-path=\"url(#clip390)\" d=\"M1563.8 1458.35 L1577.06 1458.35 L1577.06 1461.55 L1559.23 1461.55 L1559.23 1458.35 Q1561.39 1456.11 1565.11 1452.35 Q1568.86 1448.57 1569.82 1447.48 Q1571.64 1445.43 1572.35 1444.02 Q1573.09 1442.59 1573.09 1441.22 Q1573.09 1438.98 1571.51 1437.57 Q1569.95 1436.16 1567.43 1436.16 Q1565.64 1436.16 1563.65 1436.78 Q1561.67 1437.4 1559.41 1438.66 L1559.41 1434.82 Q1561.71 1433.9 1563.7 1433.43 Q1565.7 1432.96 1567.35 1432.96 Q1571.71 1432.96 1574.31 1435.14 Q1576.91 1437.32 1576.91 1440.97 Q1576.91 1442.7 1576.25 1444.26 Q1575.61 1445.8 1573.9 1447.91 Q1573.43 1448.46 1570.91 1451.07 Q1568.39 1453.67 1563.8 1458.35 Z\" fill=\"#000000\" fill-rule=\"nonzero\" fill-opacity=\"1\" /><path clip-path=\"url(#clip390)\" d=\"M1317.69 1552.67 L1317.69 1574.19 L1311.83 1574.19 L1311.83 1552.86 Q1311.83 1547.8 1309.86 1545.29 Q1307.88 1542.77 1303.94 1542.77 Q1299.2 1542.77 1296.46 1545.79 Q1293.72 1548.82 1293.72 1554.04 L1293.72 1574.19 L1287.83 1574.19 L1287.83 1524.66 L1293.72 1524.66 L1293.72 1544.08 Q1295.82 1540.86 1298.65 1539.27 Q1301.52 1537.68 1305.24 1537.68 Q1311.39 1537.68 1314.54 1541.5 Q1317.69 1545.29 1317.69 1552.67 Z\" fill=\"#000000\" fill-rule=\"nonzero\" fill-opacity=\"1\" /><polyline clip-path=\"url(#clip392)\" style=\"stroke:#000000; stroke-linecap:round; stroke-linejoin:round; stroke-width:2; stroke-opacity:0.1; fill:none\" points=\"252.764,1227.12 2352.76,1227.12 \"/>\n",
       "<polyline clip-path=\"url(#clip392)\" style=\"stroke:#000000; stroke-linecap:round; stroke-linejoin:round; stroke-width:2; stroke-opacity:0.1; fill:none\" points=\"252.764,913.045 2352.76,913.045 \"/>\n",
       "<polyline clip-path=\"url(#clip392)\" style=\"stroke:#000000; stroke-linecap:round; stroke-linejoin:round; stroke-width:2; stroke-opacity:0.1; fill:none\" points=\"252.764,598.969 2352.76,598.969 \"/>\n",
       "<polyline clip-path=\"url(#clip392)\" style=\"stroke:#000000; stroke-linecap:round; stroke-linejoin:round; stroke-width:2; stroke-opacity:0.1; fill:none\" points=\"252.764,284.892 2352.76,284.892 \"/>\n",
       "<polyline clip-path=\"url(#clip390)\" style=\"stroke:#000000; stroke-linecap:round; stroke-linejoin:round; stroke-width:4; stroke-opacity:1; fill:none\" points=\"252.764,1410.9 252.764,123.472 \"/>\n",
       "<polyline clip-path=\"url(#clip390)\" style=\"stroke:#000000; stroke-linecap:round; stroke-linejoin:round; stroke-width:4; stroke-opacity:1; fill:none\" points=\"252.764,1227.12 271.662,1227.12 \"/>\n",
       "<polyline clip-path=\"url(#clip390)\" style=\"stroke:#000000; stroke-linecap:round; stroke-linejoin:round; stroke-width:4; stroke-opacity:1; fill:none\" points=\"252.764,913.045 271.662,913.045 \"/>\n",
       "<polyline clip-path=\"url(#clip390)\" style=\"stroke:#000000; stroke-linecap:round; stroke-linejoin:round; stroke-width:4; stroke-opacity:1; fill:none\" points=\"252.764,598.969 271.662,598.969 \"/>\n",
       "<polyline clip-path=\"url(#clip390)\" style=\"stroke:#000000; stroke-linecap:round; stroke-linejoin:round; stroke-width:4; stroke-opacity:1; fill:none\" points=\"252.764,284.892 271.662,284.892 \"/>\n",
       "<path clip-path=\"url(#clip390)\" d=\"M115.402 1246.91 L123.04 1246.91 L123.04 1220.55 L114.73 1222.22 L114.73 1217.96 L122.994 1216.29 L127.67 1216.29 L127.67 1246.91 L135.309 1246.91 L135.309 1250.85 L115.402 1250.85 L115.402 1246.91 Z\" fill=\"#000000\" fill-rule=\"nonzero\" fill-opacity=\"1\" /><path clip-path=\"url(#clip390)\" d=\"M154.753 1219.37 Q151.142 1219.37 149.313 1222.93 Q147.508 1226.47 147.508 1233.6 Q147.508 1240.71 149.313 1244.28 Q151.142 1247.82 154.753 1247.82 Q158.388 1247.82 160.193 1244.28 Q162.022 1240.71 162.022 1233.6 Q162.022 1226.47 160.193 1222.93 Q158.388 1219.37 154.753 1219.37 M154.753 1215.66 Q160.563 1215.66 163.619 1220.27 Q166.698 1224.85 166.698 1233.6 Q166.698 1242.33 163.619 1246.94 Q160.563 1251.52 154.753 1251.52 Q148.943 1251.52 145.864 1246.94 Q142.809 1242.33 142.809 1233.6 Q142.809 1224.85 145.864 1220.27 Q148.943 1215.66 154.753 1215.66 Z\" fill=\"#000000\" fill-rule=\"nonzero\" fill-opacity=\"1\" /><path clip-path=\"url(#clip390)\" d=\"M166.698 1209.77 L190.809 1209.77 L190.809 1212.96 L166.698 1212.96 L166.698 1209.77 Z\" fill=\"#000000\" fill-rule=\"nonzero\" fill-opacity=\"1\" /><path clip-path=\"url(#clip390)\" d=\"M207.134 1210.1 Q204.426 1210.1 202.865 1211.55 Q201.323 1213 201.323 1215.54 Q201.323 1218.08 202.865 1219.53 Q204.426 1220.97 207.134 1220.97 Q209.843 1220.97 211.404 1219.53 Q212.965 1218.06 212.965 1215.54 Q212.965 1213 211.404 1211.55 Q209.861 1210.1 207.134 1210.1 M203.335 1208.49 Q200.89 1207.88 199.517 1206.21 Q198.163 1204.54 198.163 1202.13 Q198.163 1198.76 200.552 1196.81 Q202.959 1194.85 207.134 1194.85 Q211.329 1194.85 213.717 1196.81 Q216.106 1198.76 216.106 1202.13 Q216.106 1204.54 214.733 1206.21 Q213.379 1207.88 210.952 1208.49 Q213.698 1209.13 215.222 1210.99 Q216.764 1212.85 216.764 1215.54 Q216.764 1219.62 214.263 1221.8 Q211.78 1223.98 207.134 1223.98 Q202.489 1223.98 199.987 1221.8 Q197.505 1219.62 197.505 1215.54 Q197.505 1212.85 199.047 1210.99 Q200.589 1209.13 203.335 1208.49 M201.943 1202.49 Q201.943 1204.67 203.298 1205.89 Q204.671 1207.11 207.134 1207.11 Q209.579 1207.11 210.952 1205.89 Q212.344 1204.67 212.344 1202.49 Q212.344 1200.31 210.952 1199.08 Q209.579 1197.86 207.134 1197.86 Q204.671 1197.86 203.298 1199.08 Q201.943 1200.31 201.943 1202.49 Z\" fill=\"#000000\" fill-rule=\"nonzero\" fill-opacity=\"1\" /><path clip-path=\"url(#clip390)\" d=\"M115.195 932.838 L122.834 932.838 L122.834 906.472 L114.523 908.139 L114.523 903.879 L122.787 902.213 L127.463 902.213 L127.463 932.838 L135.102 932.838 L135.102 936.773 L115.195 936.773 L115.195 932.838 Z\" fill=\"#000000\" fill-rule=\"nonzero\" fill-opacity=\"1\" /><path clip-path=\"url(#clip390)\" d=\"M154.546 905.291 Q150.935 905.291 149.107 908.856 Q147.301 912.398 147.301 919.527 Q147.301 926.634 149.107 930.199 Q150.935 933.74 154.546 933.74 Q158.181 933.74 159.986 930.199 Q161.815 926.634 161.815 919.527 Q161.815 912.398 159.986 908.856 Q158.181 905.291 154.546 905.291 M154.546 901.588 Q160.357 901.588 163.412 906.194 Q166.491 910.778 166.491 919.527 Q166.491 928.254 163.412 932.861 Q160.357 937.444 154.546 937.444 Q148.736 937.444 145.658 932.861 Q142.602 928.254 142.602 919.527 Q142.602 910.778 145.658 906.194 Q148.736 901.588 154.546 901.588 Z\" fill=\"#000000\" fill-rule=\"nonzero\" fill-opacity=\"1\" /><path clip-path=\"url(#clip390)\" d=\"M166.491 895.689 L190.602 895.689 L190.602 898.886 L166.491 898.886 L166.491 895.689 Z\" fill=\"#000000\" fill-rule=\"nonzero\" fill-opacity=\"1\" /><path clip-path=\"url(#clip390)\" d=\"M207.398 893.808 Q204.84 893.808 203.335 895.557 Q201.849 897.307 201.849 900.353 Q201.849 903.381 203.335 905.149 Q204.84 906.899 207.398 906.899 Q209.956 906.899 211.441 905.149 Q212.946 903.381 212.946 900.353 Q212.946 897.307 211.441 895.557 Q209.956 893.808 207.398 893.808 M214.94 881.903 L214.94 885.364 Q213.51 884.687 212.043 884.329 Q210.595 883.972 209.166 883.972 Q205.404 883.972 203.41 886.511 Q201.436 889.05 201.153 894.184 Q202.263 892.548 203.937 891.683 Q205.611 890.799 207.623 890.799 Q211.855 890.799 214.3 893.376 Q216.764 895.934 216.764 900.353 Q216.764 904.679 214.206 907.294 Q211.648 909.908 207.398 909.908 Q202.526 909.908 199.95 906.184 Q197.373 902.441 197.373 895.351 Q197.373 888.693 200.533 884.743 Q203.693 880.775 209.015 880.775 Q210.445 880.775 211.893 881.057 Q213.36 881.339 214.94 881.903 Z\" fill=\"#000000\" fill-rule=\"nonzero\" fill-opacity=\"1\" /><path clip-path=\"url(#clip390)\" d=\"M114.931 618.761 L122.57 618.761 L122.57 592.396 L114.26 594.062 L114.26 589.803 L122.524 588.136 L127.2 588.136 L127.2 618.761 L134.839 618.761 L134.839 622.696 L114.931 622.696 L114.931 618.761 Z\" fill=\"#000000\" fill-rule=\"nonzero\" fill-opacity=\"1\" /><path clip-path=\"url(#clip390)\" d=\"M154.283 591.215 Q150.672 591.215 148.843 594.78 Q147.038 598.321 147.038 605.451 Q147.038 612.557 148.843 616.122 Q150.672 619.664 154.283 619.664 Q157.917 619.664 159.723 616.122 Q161.552 612.557 161.552 605.451 Q161.552 598.321 159.723 594.78 Q157.917 591.215 154.283 591.215 M154.283 587.511 Q160.093 587.511 163.149 592.118 Q166.227 596.701 166.227 605.451 Q166.227 614.178 163.149 618.784 Q160.093 623.368 154.283 623.368 Q148.473 623.368 145.394 618.784 Q142.339 614.178 142.339 605.451 Q142.339 596.701 145.394 592.118 Q148.473 587.511 154.283 587.511 Z\" fill=\"#000000\" fill-rule=\"nonzero\" fill-opacity=\"1\" /><path clip-path=\"url(#clip390)\" d=\"M166.227 581.613 L190.339 581.613 L190.339 584.81 L166.227 584.81 L166.227 581.613 Z\" fill=\"#000000\" fill-rule=\"nonzero\" fill-opacity=\"1\" /><path clip-path=\"url(#clip390)\" d=\"M208.978 570.516 L199.386 585.506 L208.978 585.506 L208.978 570.516 M207.981 567.206 L212.758 567.206 L212.758 585.506 L216.764 585.506 L216.764 588.666 L212.758 588.666 L212.758 595.286 L208.978 595.286 L208.978 588.666 L196.301 588.666 L196.301 584.998 L207.981 567.206 Z\" fill=\"#000000\" fill-rule=\"nonzero\" fill-opacity=\"1\" /><path clip-path=\"url(#clip390)\" d=\"M116.624 304.685 L124.263 304.685 L124.263 278.319 L115.953 279.986 L115.953 275.727 L124.217 274.06 L128.893 274.06 L128.893 304.685 L136.531 304.685 L136.531 308.62 L116.624 308.62 L116.624 304.685 Z\" fill=\"#000000\" fill-rule=\"nonzero\" fill-opacity=\"1\" /><path clip-path=\"url(#clip390)\" d=\"M155.976 277.139 Q152.365 277.139 150.536 280.703 Q148.73 284.245 148.73 291.375 Q148.73 298.481 150.536 302.046 Q152.365 305.587 155.976 305.587 Q159.61 305.587 161.416 302.046 Q163.244 298.481 163.244 291.375 Q163.244 284.245 161.416 280.703 Q159.61 277.139 155.976 277.139 M155.976 273.435 Q161.786 273.435 164.841 278.041 Q167.92 282.625 167.92 291.375 Q167.92 300.101 164.841 304.708 Q161.786 309.291 155.976 309.291 Q150.166 309.291 147.087 304.708 Q144.031 300.101 144.031 291.375 Q144.031 282.625 147.087 278.041 Q150.166 273.435 155.976 273.435 Z\" fill=\"#000000\" fill-rule=\"nonzero\" fill-opacity=\"1\" /><path clip-path=\"url(#clip390)\" d=\"M167.92 267.536 L192.032 267.536 L192.032 270.734 L167.92 270.734 L167.92 267.536 Z\" fill=\"#000000\" fill-rule=\"nonzero\" fill-opacity=\"1\" /><path clip-path=\"url(#clip390)\" d=\"M203.504 278.012 L216.764 278.012 L216.764 281.209 L198.934 281.209 L198.934 278.012 Q201.097 275.774 204.821 272.012 Q208.564 268.232 209.523 267.141 Q211.347 265.091 212.062 263.681 Q212.796 262.251 212.796 260.878 Q212.796 258.64 211.216 257.23 Q209.655 255.819 207.134 255.819 Q205.348 255.819 203.354 256.44 Q201.379 257.06 199.122 258.32 L199.122 254.484 Q201.417 253.562 203.41 253.092 Q205.404 252.622 207.059 252.622 Q211.423 252.622 214.018 254.803 Q216.613 256.985 216.613 260.634 Q216.613 262.364 215.955 263.925 Q215.316 265.467 213.604 267.574 Q213.134 268.119 210.614 270.734 Q208.094 273.329 203.504 278.012 Z\" fill=\"#000000\" fill-rule=\"nonzero\" fill-opacity=\"1\" /><path clip-path=\"url(#clip390)\" d=\"M16.4842 828.247 L16.4842 798.201 L21.895 798.201 L21.895 821.818 L35.9632 821.818 L35.9632 799.188 L41.3741 799.188 L41.3741 821.818 L58.5933 821.818 L58.5933 797.628 L64.0042 797.628 L64.0042 828.247 L16.4842 828.247 Z\" fill=\"#000000\" fill-rule=\"nonzero\" fill-opacity=\"1\" /><path clip-path=\"url(#clip390)\" d=\"M33.8307 766.659 Q33.2578 767.646 33.0032 768.824 Q32.7167 769.969 32.7167 771.37 Q32.7167 776.335 35.9632 779.009 Q39.1779 781.65 45.2253 781.65 L64.0042 781.65 L64.0042 787.539 L28.3562 787.539 L28.3562 781.65 L33.8944 781.65 Q30.6479 779.804 29.0883 776.844 Q27.4968 773.884 27.4968 769.651 Q27.4968 769.046 27.5923 768.314 Q27.656 767.582 27.8151 766.691 L33.8307 766.659 Z\" fill=\"#000000\" fill-rule=\"nonzero\" fill-opacity=\"1\" /><path clip-path=\"url(#clip390)\" d=\"M33.8307 741.005 Q33.2578 741.992 33.0032 743.17 Q32.7167 744.316 32.7167 745.716 Q32.7167 750.681 35.9632 753.355 Q39.1779 755.997 45.2253 755.997 L64.0042 755.997 L64.0042 761.885 L28.3562 761.885 L28.3562 755.997 L33.8944 755.997 Q30.6479 754.151 29.0883 751.191 Q27.4968 748.23 27.4968 743.997 Q27.4968 743.393 27.5923 742.66 Q27.656 741.928 27.8151 741.037 L33.8307 741.005 Z\" fill=\"#000000\" fill-rule=\"nonzero\" fill-opacity=\"1\" /><path clip-path=\"url(#clip390)\" d=\"M32.4621 722.481 Q32.4621 727.192 36.1542 729.929 Q39.8145 732.666 46.212 732.666 Q52.6095 732.666 56.3017 729.961 Q59.9619 727.224 59.9619 722.481 Q59.9619 717.802 56.2698 715.065 Q52.5777 712.328 46.212 712.328 Q39.8781 712.328 36.186 715.065 Q32.4621 717.802 32.4621 722.481 M27.4968 722.481 Q27.4968 714.842 32.4621 710.482 Q37.4273 706.121 46.212 706.121 Q54.9649 706.121 59.9619 710.482 Q64.9272 714.842 64.9272 722.481 Q64.9272 730.152 59.9619 734.512 Q54.9649 738.841 46.212 738.841 Q37.4273 738.841 32.4621 734.512 Q27.4968 730.152 27.4968 722.481 Z\" fill=\"#000000\" fill-rule=\"nonzero\" fill-opacity=\"1\" /><path clip-path=\"url(#clip390)\" d=\"M748.981 12.096 L787.222 12.096 L787.222 18.9825 L757.164 18.9825 L757.164 36.8875 L785.966 36.8875 L785.966 43.7741 L757.164 43.7741 L757.164 65.6895 L787.951 65.6895 L787.951 72.576 L748.981 72.576 L748.981 12.096 Z\" fill=\"#000000\" fill-rule=\"nonzero\" fill-opacity=\"1\" /><path clip-path=\"url(#clip390)\" d=\"M829.999 28.5427 L829.999 35.5912 Q826.839 33.9709 823.437 33.1607 Q820.034 32.3505 816.388 32.3505 Q810.838 32.3505 808.043 34.0519 Q805.289 35.7533 805.289 39.156 Q805.289 41.7486 807.274 43.2475 Q809.259 44.7058 815.254 46.0426 L817.806 46.6097 Q825.746 48.3111 829.067 51.4303 Q832.43 54.509 832.43 60.0587 Q832.43 66.3781 827.407 70.0644 Q822.424 73.7508 813.674 73.7508 Q810.028 73.7508 806.058 73.0216 Q802.129 72.3329 797.754 70.9151 L797.754 63.2184 Q801.886 65.3654 805.896 66.4591 Q809.907 67.5124 813.836 67.5124 Q819.102 67.5124 821.938 65.73 Q824.773 63.9071 824.773 60.6258 Q824.773 57.5877 822.708 55.9673 Q820.682 54.3469 813.755 52.8481 L811.162 52.2405 Q804.235 50.7821 801.157 47.7845 Q798.078 44.7463 798.078 39.4801 Q798.078 33.0797 802.615 29.5959 Q807.152 26.1121 815.497 26.1121 Q819.629 26.1121 823.275 26.7198 Q826.92 27.3274 829.999 28.5427 Z\" fill=\"#000000\" fill-rule=\"nonzero\" fill-opacity=\"1\" /><path clip-path=\"url(#clip390)\" d=\"M851.671 14.324 L851.671 27.2059 L867.024 27.2059 L867.024 32.9987 L851.671 32.9987 L851.671 57.6282 Q851.671 63.1779 853.17 64.7578 Q854.71 66.3376 859.368 66.3376 L867.024 66.3376 L867.024 72.576 L859.368 72.576 Q850.74 72.576 847.459 69.3758 Q844.177 66.1351 844.177 57.6282 L844.177 32.9987 L838.709 32.9987 L838.709 27.2059 L844.177 27.2059 L844.177 14.324 L851.671 14.324 Z\" fill=\"#000000\" fill-rule=\"nonzero\" fill-opacity=\"1\" /><path clip-path=\"url(#clip390)\" d=\"M876.058 54.671 L876.058 27.2059 L883.512 27.2059 L883.512 54.3874 Q883.512 60.8284 886.023 64.0691 Q888.535 67.2693 893.558 67.2693 Q899.594 67.2693 903.077 63.421 Q906.602 59.5726 906.602 52.9291 L906.602 27.2059 L914.055 27.2059 L914.055 72.576 L906.602 72.576 L906.602 65.6084 Q903.888 69.7404 900.282 71.7658 Q896.718 73.7508 891.978 73.7508 Q884.16 73.7508 880.109 68.8897 Q876.058 64.0286 876.058 54.671 M894.814 26.1121 L894.814 26.1121 Z\" fill=\"#000000\" fill-rule=\"nonzero\" fill-opacity=\"1\" /><path clip-path=\"url(#clip390)\" d=\"M959.264 34.0924 L959.264 9.54393 L966.717 9.54393 L966.717 72.576 L959.264 72.576 L959.264 65.7705 Q956.914 69.8214 953.309 71.8063 Q949.744 73.7508 944.721 73.7508 Q936.497 73.7508 931.312 67.1883 Q926.168 60.6258 926.168 49.9314 Q926.168 39.2371 931.312 32.6746 Q936.497 26.1121 944.721 26.1121 Q949.744 26.1121 953.309 28.0971 Q956.914 30.0415 959.264 34.0924 M933.864 49.9314 Q933.864 58.1548 937.227 62.8538 Q940.629 67.5124 946.544 67.5124 Q952.458 67.5124 955.861 62.8538 Q959.264 58.1548 959.264 49.9314 Q959.264 41.7081 955.861 37.0496 Q952.458 32.3505 946.544 32.3505 Q940.629 32.3505 937.227 37.0496 Q933.864 41.7081 933.864 49.9314 Z\" fill=\"#000000\" fill-rule=\"nonzero\" fill-opacity=\"1\" /><path clip-path=\"url(#clip390)\" d=\"M999.651 32.4315 Q993.656 32.4315 990.172 37.1306 Q986.688 41.7891 986.688 49.9314 Q986.688 58.0738 990.131 62.7728 Q993.615 67.4314 999.651 67.4314 Q1005.61 67.4314 1009.09 62.7323 Q1012.57 58.0333 1012.57 49.9314 Q1012.57 41.8701 1009.09 37.1711 Q1005.61 32.4315 999.651 32.4315 M999.651 26.1121 Q1009.37 26.1121 1014.92 32.4315 Q1020.47 38.7509 1020.47 49.9314 Q1020.47 61.0714 1014.92 67.4314 Q1009.37 73.7508 999.651 73.7508 Q989.888 73.7508 984.339 67.4314 Q978.829 61.0714 978.829 49.9314 Q978.829 38.7509 984.339 32.4315 Q989.888 26.1121 999.651 26.1121 Z\" fill=\"#000000\" fill-rule=\"nonzero\" fill-opacity=\"1\" /><path clip-path=\"url(#clip390)\" d=\"M1089.05 34.0924 L1089.05 9.54393 L1096.51 9.54393 L1096.51 72.576 L1089.05 72.576 L1089.05 65.7705 Q1086.7 69.8214 1083.1 71.8063 Q1079.53 73.7508 1074.51 73.7508 Q1066.29 73.7508 1061.1 67.1883 Q1055.96 60.6258 1055.96 49.9314 Q1055.96 39.2371 1061.1 32.6746 Q1066.29 26.1121 1074.51 26.1121 Q1079.53 26.1121 1083.1 28.0971 Q1086.7 30.0415 1089.05 34.0924 M1063.66 49.9314 Q1063.66 58.1548 1067.02 62.8538 Q1070.42 67.5124 1076.33 67.5124 Q1082.25 67.5124 1085.65 62.8538 Q1089.05 58.1548 1089.05 49.9314 Q1089.05 41.7081 1085.65 37.0496 Q1082.25 32.3505 1076.33 32.3505 Q1070.42 32.3505 1067.02 37.0496 Q1063.66 41.7081 1063.66 49.9314 Z\" fill=\"#000000\" fill-rule=\"nonzero\" fill-opacity=\"1\" /><path clip-path=\"url(#clip390)\" d=\"M1129.44 32.4315 Q1123.45 32.4315 1119.96 37.1306 Q1116.48 41.7891 1116.48 49.9314 Q1116.48 58.0738 1119.92 62.7728 Q1123.41 67.4314 1129.44 67.4314 Q1135.4 67.4314 1138.88 62.7323 Q1142.36 58.0333 1142.36 49.9314 Q1142.36 41.8701 1138.88 37.1711 Q1135.4 32.4315 1129.44 32.4315 M1129.44 26.1121 Q1139.16 26.1121 1144.71 32.4315 Q1150.26 38.7509 1150.26 49.9314 Q1150.26 61.0714 1144.71 67.4314 Q1139.16 73.7508 1129.44 73.7508 Q1119.68 73.7508 1114.13 67.4314 Q1108.62 61.0714 1108.62 49.9314 Q1108.62 38.7509 1114.13 32.4315 Q1119.68 26.1121 1129.44 26.1121 Z\" fill=\"#000000\" fill-rule=\"nonzero\" fill-opacity=\"1\" /><path clip-path=\"url(#clip390)\" d=\"M1227.8 48.0275 L1227.8 51.6733 L1193.53 51.6733 Q1194.01 59.3701 1198.15 63.421 Q1202.32 67.4314 1209.73 67.4314 Q1214.02 67.4314 1218.04 66.3781 Q1222.09 65.3249 1226.06 63.2184 L1226.06 70.267 Q1222.05 71.9684 1217.83 72.8596 Q1213.62 73.7508 1209.29 73.7508 Q1198.43 73.7508 1192.07 67.4314 Q1185.75 61.1119 1185.75 50.3365 Q1185.75 39.1965 1191.74 32.6746 Q1197.78 26.1121 1207.99 26.1121 Q1217.14 26.1121 1222.45 32.0264 Q1227.8 37.9003 1227.8 48.0275 M1220.34 45.84 Q1220.26 39.7232 1216.9 36.0774 Q1213.58 32.4315 1208.07 32.4315 Q1201.83 32.4315 1198.06 35.9558 Q1194.34 39.4801 1193.77 45.8805 L1220.34 45.84 Z\" fill=\"#000000\" fill-rule=\"nonzero\" fill-opacity=\"1\" /><path clip-path=\"url(#clip390)\" d=\"M1266.32 34.1734 Q1265.07 33.4443 1263.57 33.1202 Q1262.11 32.7556 1260.33 32.7556 Q1254.01 32.7556 1250.6 36.8875 Q1247.24 40.9789 1247.24 48.6757 L1247.24 72.576 L1239.75 72.576 L1239.75 27.2059 L1247.24 27.2059 L1247.24 34.2544 Q1249.59 30.1225 1253.36 28.1376 Q1257.13 26.1121 1262.51 26.1121 Q1263.28 26.1121 1264.22 26.2337 Q1265.15 26.3147 1266.28 26.5172 L1266.32 34.1734 Z\" fill=\"#000000\" fill-rule=\"nonzero\" fill-opacity=\"1\" /><path clip-path=\"url(#clip390)\" d=\"M1298.97 34.1734 Q1297.72 33.4443 1296.22 33.1202 Q1294.76 32.7556 1292.98 32.7556 Q1286.66 32.7556 1283.25 36.8875 Q1279.89 40.9789 1279.89 48.6757 L1279.89 72.576 L1272.4 72.576 L1272.4 27.2059 L1279.89 27.2059 L1279.89 34.2544 Q1282.24 30.1225 1286.01 28.1376 Q1289.78 26.1121 1295.16 26.1121 Q1295.93 26.1121 1296.87 26.2337 Q1297.8 26.3147 1298.93 26.5172 L1298.97 34.1734 Z\" fill=\"#000000\" fill-rule=\"nonzero\" fill-opacity=\"1\" /><path clip-path=\"url(#clip390)\" d=\"M1322.55 32.4315 Q1316.55 32.4315 1313.07 37.1306 Q1309.59 41.7891 1309.59 49.9314 Q1309.59 58.0738 1313.03 62.7728 Q1316.51 67.4314 1322.55 67.4314 Q1328.5 67.4314 1331.99 62.7323 Q1335.47 58.0333 1335.47 49.9314 Q1335.47 41.8701 1331.99 37.1711 Q1328.5 32.4315 1322.55 32.4315 M1322.55 26.1121 Q1332.27 26.1121 1337.82 32.4315 Q1343.37 38.7509 1343.37 49.9314 Q1343.37 61.0714 1337.82 67.4314 Q1332.27 73.7508 1322.55 73.7508 Q1312.79 73.7508 1307.24 67.4314 Q1301.73 61.0714 1301.73 49.9314 Q1301.73 38.7509 1307.24 32.4315 Q1312.79 26.1121 1322.55 26.1121 Z\" fill=\"#000000\" fill-rule=\"nonzero\" fill-opacity=\"1\" /><path clip-path=\"url(#clip390)\" d=\"M1378.33 46.5287 L1400.16 46.5287 L1400.16 53.1722 L1378.33 53.1722 L1378.33 46.5287 Z\" fill=\"#000000\" fill-rule=\"nonzero\" fill-opacity=\"1\" /><path clip-path=\"url(#clip390)\" d=\"M1477.21 48.0275 L1477.21 51.6733 L1442.94 51.6733 Q1443.43 59.3701 1447.56 63.421 Q1451.73 67.4314 1459.15 67.4314 Q1463.44 67.4314 1467.45 66.3781 Q1471.5 65.3249 1475.47 63.2184 L1475.47 70.267 Q1471.46 71.9684 1467.25 72.8596 Q1463.03 73.7508 1458.7 73.7508 Q1447.84 73.7508 1441.48 67.4314 Q1435.16 61.1119 1435.16 50.3365 Q1435.16 39.1965 1441.16 32.6746 Q1447.19 26.1121 1457.4 26.1121 Q1466.56 26.1121 1471.86 32.0264 Q1477.21 37.9003 1477.21 48.0275 M1469.76 45.84 Q1469.68 39.7232 1466.32 36.0774 Q1462.99 32.4315 1457.48 32.4315 Q1451.25 32.4315 1447.48 35.9558 Q1443.75 39.4801 1443.18 45.8805 L1469.76 45.84 Z\" fill=\"#000000\" fill-rule=\"nonzero\" fill-opacity=\"1\" /><path clip-path=\"url(#clip390)\" d=\"M1525.7 27.2059 L1509.3 49.2833 L1526.55 72.576 L1517.76 72.576 L1504.56 54.752 L1491.35 72.576 L1482.56 72.576 L1500.18 48.8377 L1484.06 27.2059 L1492.85 27.2059 L1504.88 43.369 L1516.91 27.2059 L1525.7 27.2059 Z\" fill=\"#000000\" fill-rule=\"nonzero\" fill-opacity=\"1\" /><path clip-path=\"url(#clip390)\" d=\"M1573.34 48.0275 L1573.34 51.6733 L1539.07 51.6733 Q1539.56 59.3701 1543.69 63.421 Q1547.86 67.4314 1555.27 67.4314 Q1559.57 67.4314 1563.58 66.3781 Q1567.63 65.3249 1571.6 63.2184 L1571.6 70.267 Q1567.59 71.9684 1563.37 72.8596 Q1559.16 73.7508 1554.83 73.7508 Q1543.97 73.7508 1537.61 67.4314 Q1531.29 61.1119 1531.29 50.3365 Q1531.29 39.1965 1537.29 32.6746 Q1543.32 26.1121 1553.53 26.1121 Q1562.69 26.1121 1567.99 32.0264 Q1573.34 37.9003 1573.34 48.0275 M1565.89 45.84 Q1565.81 39.7232 1562.44 36.0774 Q1559.12 32.4315 1553.61 32.4315 Q1547.37 32.4315 1543.61 35.9558 Q1539.88 39.4801 1539.31 45.8805 L1565.89 45.84 Z\" fill=\"#000000\" fill-rule=\"nonzero\" fill-opacity=\"1\" /><path clip-path=\"url(#clip390)\" d=\"M1620.9 35.9153 Q1623.69 30.8922 1627.58 28.5022 Q1631.47 26.1121 1636.74 26.1121 Q1643.83 26.1121 1647.67 31.0947 Q1651.52 36.0368 1651.52 45.1919 L1651.52 72.576 L1644.03 72.576 L1644.03 45.4349 Q1644.03 38.913 1641.72 35.7533 Q1639.41 32.5936 1634.67 32.5936 Q1628.88 32.5936 1625.52 36.4419 Q1622.15 40.2903 1622.15 46.9338 L1622.15 72.576 L1614.66 72.576 L1614.66 45.4349 Q1614.66 38.8725 1612.35 35.7533 Q1610.04 32.5936 1605.22 32.5936 Q1599.51 32.5936 1596.15 36.4824 Q1592.78 40.3308 1592.78 46.9338 L1592.78 72.576 L1585.29 72.576 L1585.29 27.2059 L1592.78 27.2059 L1592.78 34.2544 Q1595.34 30.082 1598.9 28.0971 Q1602.47 26.1121 1607.37 26.1121 Q1612.31 26.1121 1615.75 28.6237 Q1619.24 31.1352 1620.9 35.9153 Z\" fill=\"#000000\" fill-rule=\"nonzero\" fill-opacity=\"1\" /><path clip-path=\"url(#clip390)\" d=\"M1673.6 65.7705 L1673.6 89.8329 L1666.11 89.8329 L1666.11 27.2059 L1673.6 27.2059 L1673.6 34.0924 Q1675.95 30.0415 1679.51 28.0971 Q1683.12 26.1121 1688.1 26.1121 Q1696.37 26.1121 1701.51 32.6746 Q1706.7 39.2371 1706.7 49.9314 Q1706.7 60.6258 1701.51 67.1883 Q1696.37 73.7508 1688.1 73.7508 Q1683.12 73.7508 1679.51 71.8063 Q1675.95 69.8214 1673.6 65.7705 M1698.96 49.9314 Q1698.96 41.7081 1695.56 37.0496 Q1692.19 32.3505 1686.28 32.3505 Q1680.36 32.3505 1676.96 37.0496 Q1673.6 41.7081 1673.6 49.9314 Q1673.6 58.1548 1676.96 62.8538 Q1680.36 67.5124 1686.28 67.5124 Q1692.19 67.5124 1695.56 62.8538 Q1698.96 58.1548 1698.96 49.9314 Z\" fill=\"#000000\" fill-rule=\"nonzero\" fill-opacity=\"1\" /><path clip-path=\"url(#clip390)\" d=\"M1719.05 9.54393 L1726.5 9.54393 L1726.5 72.576 L1719.05 72.576 L1719.05 9.54393 Z\" fill=\"#000000\" fill-rule=\"nonzero\" fill-opacity=\"1\" /><path clip-path=\"url(#clip390)\" d=\"M1759.68 32.4315 Q1753.69 32.4315 1750.2 37.1306 Q1746.72 41.7891 1746.72 49.9314 Q1746.72 58.0738 1750.16 62.7728 Q1753.65 67.4314 1759.68 67.4314 Q1765.64 67.4314 1769.12 62.7323 Q1772.6 58.0333 1772.6 49.9314 Q1772.6 41.8701 1769.12 37.1711 Q1765.64 32.4315 1759.68 32.4315 M1759.68 26.1121 Q1769.4 26.1121 1774.95 32.4315 Q1780.5 38.7509 1780.5 49.9314 Q1780.5 61.0714 1774.95 67.4314 Q1769.4 73.7508 1759.68 73.7508 Q1749.92 73.7508 1744.37 67.4314 Q1738.86 61.0714 1738.86 49.9314 Q1738.86 38.7509 1744.37 32.4315 Q1749.92 26.1121 1759.68 26.1121 Z\" fill=\"#000000\" fill-rule=\"nonzero\" fill-opacity=\"1\" /><path clip-path=\"url(#clip390)\" d=\"M1821.7 65.6895 L1835.07 65.6895 L1835.07 19.5497 L1820.53 22.4663 L1820.53 15.0127 L1834.99 12.096 L1843.17 12.096 L1843.17 65.6895 L1856.54 65.6895 L1856.54 72.576 L1821.7 72.576 L1821.7 65.6895 Z\" fill=\"#000000\" fill-rule=\"nonzero\" fill-opacity=\"1\" /><polyline clip-path=\"url(#clip392)\" style=\"stroke:#009af9; stroke-linecap:round; stroke-linejoin:round; stroke-width:12; stroke-opacity:1; fill:none\" points=\"2293.32,250.246 2128.23,328.116 1963.13,429.514 1798.04,524.763 1632.95,619.758 1467.85,714.277 1302.76,808.861 1137.67,903.413 972.573,997.959 807.479,1092.51 642.385,1186.98 477.291,1280.87 312.198,1374.46 \"/>\n",
       "<circle clip-path=\"url(#clip392)\" cx=\"2293.32\" cy=\"250.246\" r=\"14.4\" fill=\"#009af9\" fill-rule=\"evenodd\" fill-opacity=\"1\" stroke=\"#000000\" stroke-opacity=\"1\" stroke-width=\"3.2\"/>\n",
       "<circle clip-path=\"url(#clip392)\" cx=\"2128.23\" cy=\"328.116\" r=\"14.4\" fill=\"#009af9\" fill-rule=\"evenodd\" fill-opacity=\"1\" stroke=\"#000000\" stroke-opacity=\"1\" stroke-width=\"3.2\"/>\n",
       "<circle clip-path=\"url(#clip392)\" cx=\"1963.13\" cy=\"429.514\" r=\"14.4\" fill=\"#009af9\" fill-rule=\"evenodd\" fill-opacity=\"1\" stroke=\"#000000\" stroke-opacity=\"1\" stroke-width=\"3.2\"/>\n",
       "<circle clip-path=\"url(#clip392)\" cx=\"1798.04\" cy=\"524.763\" r=\"14.4\" fill=\"#009af9\" fill-rule=\"evenodd\" fill-opacity=\"1\" stroke=\"#000000\" stroke-opacity=\"1\" stroke-width=\"3.2\"/>\n",
       "<circle clip-path=\"url(#clip392)\" cx=\"1632.95\" cy=\"619.758\" r=\"14.4\" fill=\"#009af9\" fill-rule=\"evenodd\" fill-opacity=\"1\" stroke=\"#000000\" stroke-opacity=\"1\" stroke-width=\"3.2\"/>\n",
       "<circle clip-path=\"url(#clip392)\" cx=\"1467.85\" cy=\"714.277\" r=\"14.4\" fill=\"#009af9\" fill-rule=\"evenodd\" fill-opacity=\"1\" stroke=\"#000000\" stroke-opacity=\"1\" stroke-width=\"3.2\"/>\n",
       "<circle clip-path=\"url(#clip392)\" cx=\"1302.76\" cy=\"808.861\" r=\"14.4\" fill=\"#009af9\" fill-rule=\"evenodd\" fill-opacity=\"1\" stroke=\"#000000\" stroke-opacity=\"1\" stroke-width=\"3.2\"/>\n",
       "<circle clip-path=\"url(#clip392)\" cx=\"1137.67\" cy=\"903.413\" r=\"14.4\" fill=\"#009af9\" fill-rule=\"evenodd\" fill-opacity=\"1\" stroke=\"#000000\" stroke-opacity=\"1\" stroke-width=\"3.2\"/>\n",
       "<circle clip-path=\"url(#clip392)\" cx=\"972.573\" cy=\"997.959\" r=\"14.4\" fill=\"#009af9\" fill-rule=\"evenodd\" fill-opacity=\"1\" stroke=\"#000000\" stroke-opacity=\"1\" stroke-width=\"3.2\"/>\n",
       "<circle clip-path=\"url(#clip392)\" cx=\"807.479\" cy=\"1092.51\" r=\"14.4\" fill=\"#009af9\" fill-rule=\"evenodd\" fill-opacity=\"1\" stroke=\"#000000\" stroke-opacity=\"1\" stroke-width=\"3.2\"/>\n",
       "<circle clip-path=\"url(#clip392)\" cx=\"642.385\" cy=\"1186.98\" r=\"14.4\" fill=\"#009af9\" fill-rule=\"evenodd\" fill-opacity=\"1\" stroke=\"#000000\" stroke-opacity=\"1\" stroke-width=\"3.2\"/>\n",
       "<circle clip-path=\"url(#clip392)\" cx=\"477.291\" cy=\"1280.87\" r=\"14.4\" fill=\"#009af9\" fill-rule=\"evenodd\" fill-opacity=\"1\" stroke=\"#000000\" stroke-opacity=\"1\" stroke-width=\"3.2\"/>\n",
       "<circle clip-path=\"url(#clip392)\" cx=\"312.198\" cy=\"1374.46\" r=\"14.4\" fill=\"#009af9\" fill-rule=\"evenodd\" fill-opacity=\"1\" stroke=\"#000000\" stroke-opacity=\"1\" stroke-width=\"3.2\"/>\n",
       "<polyline clip-path=\"url(#clip392)\" style=\"stroke:#e26f46; stroke-linecap:round; stroke-linejoin:round; stroke-width:12; stroke-opacity:1; fill:none\" points=\"2293.32,159.909 2128.23,254.455 1963.13,349.002 1798.04,443.548 1632.95,538.094 1467.85,632.641 1302.76,727.187 1137.67,821.734 972.573,916.28 807.479,1010.83 642.385,1105.37 477.291,1199.92 312.198,1294.47 \"/>\n",
       "<path clip-path=\"url(#clip390)\" d=\"M322.764 321.906 L621.582 321.906 L621.582 166.386 L322.764 166.386  Z\" fill=\"#ffffff\" fill-rule=\"evenodd\" fill-opacity=\"1\"/>\n",
       "<polyline clip-path=\"url(#clip390)\" style=\"stroke:#000000; stroke-linecap:round; stroke-linejoin:round; stroke-width:4; stroke-opacity:1; fill:none\" points=\"322.764,321.906 621.582,321.906 621.582,166.386 322.764,166.386 322.764,321.906 \"/>\n",
       "<polyline clip-path=\"url(#clip390)\" style=\"stroke:#009af9; stroke-linecap:round; stroke-linejoin:round; stroke-width:12; stroke-opacity:1; fill:none\" points=\"346.097,218.226 486.096,218.226 \"/>\n",
       "<circle clip-path=\"url(#clip390)\" cx=\"416.097\" cy=\"218.226\" r=\"19.4444\" fill=\"#009af9\" fill-rule=\"evenodd\" fill-opacity=\"1\" stroke=\"#000000\" stroke-opacity=\"1\" stroke-width=\"4.55111\"/>\n",
       "<path clip-path=\"url(#clip390)\" d=\"M509.43 200.946 L531.281 200.946 L531.281 204.881 L514.106 204.881 L514.106 215.113 L530.564 215.113 L530.564 219.048 L514.106 219.048 L514.106 231.571 L531.698 231.571 L531.698 235.506 L509.43 235.506 L509.43 200.946 Z\" fill=\"#000000\" fill-rule=\"nonzero\" fill-opacity=\"1\" /><path clip-path=\"url(#clip390)\" d=\"M554.221 213.562 Q553.503 213.145 552.647 212.96 Q551.814 212.752 550.795 212.752 Q547.184 212.752 545.24 215.113 Q543.318 217.451 543.318 221.849 L543.318 235.506 L539.036 235.506 L539.036 209.58 L543.318 209.58 L543.318 213.608 Q544.661 211.247 546.814 210.113 Q548.966 208.955 552.045 208.955 Q552.485 208.955 553.017 209.025 Q553.55 209.071 554.198 209.187 L554.221 213.562 Z\" fill=\"#000000\" fill-rule=\"nonzero\" fill-opacity=\"1\" /><path clip-path=\"url(#clip390)\" d=\"M572.878 213.562 Q572.161 213.145 571.304 212.96 Q570.471 212.752 569.452 212.752 Q565.841 212.752 563.897 215.113 Q561.976 217.451 561.976 221.849 L561.976 235.506 L557.693 235.506 L557.693 209.58 L561.976 209.58 L561.976 213.608 Q563.318 211.247 565.471 210.113 Q567.624 208.955 570.702 208.955 Q571.142 208.955 571.675 209.025 Q572.207 209.071 572.855 209.187 L572.878 213.562 Z\" fill=\"#000000\" fill-rule=\"nonzero\" fill-opacity=\"1\" /><path clip-path=\"url(#clip390)\" d=\"M586.351 212.567 Q582.925 212.567 580.934 215.252 Q578.943 217.914 578.943 222.567 Q578.943 227.219 580.911 229.904 Q582.901 232.566 586.351 232.566 Q589.753 232.566 591.744 229.881 Q593.735 227.196 593.735 222.567 Q593.735 217.96 591.744 215.275 Q589.753 212.567 586.351 212.567 M586.351 208.955 Q591.906 208.955 595.077 212.567 Q598.249 216.178 598.249 222.567 Q598.249 228.932 595.077 232.566 Q591.906 236.178 586.351 236.178 Q580.772 236.178 577.601 232.566 Q574.452 228.932 574.452 222.567 Q574.452 216.178 577.601 212.567 Q580.772 208.955 586.351 208.955 Z\" fill=\"#000000\" fill-rule=\"nonzero\" fill-opacity=\"1\" /><polyline clip-path=\"url(#clip390)\" style=\"stroke:#e26f46; stroke-linecap:round; stroke-linejoin:round; stroke-width:12; stroke-opacity:1; fill:none\" points=\"346.097,270.066 486.096,270.066 \"/>\n",
       "<path clip-path=\"url(#clip390)\" d=\"M531.142 271.698 L531.142 287.346 L526.883 287.346 L526.883 271.837 Q526.883 268.157 525.448 266.328 Q524.013 264.499 521.143 264.499 Q517.693 264.499 515.703 266.698 Q513.712 268.897 513.712 272.694 L513.712 287.346 L509.43 287.346 L509.43 251.328 L513.712 251.328 L513.712 265.448 Q515.24 263.11 517.3 261.953 Q519.383 260.795 522.092 260.795 Q526.559 260.795 528.851 263.573 Q531.142 266.328 531.142 271.698 Z\" fill=\"#000000\" fill-rule=\"nonzero\" fill-opacity=\"1\" /><path clip-path=\"url(#clip390)\" d=\"M541.374 269.245 L551.189 269.245 L551.189 271.883 L537.346 271.883 L537.346 269.337 Q538.133 268.62 539.592 267.323 Q547.554 260.263 547.554 258.087 Q547.554 256.559 546.351 255.633 Q545.147 254.684 543.179 254.684 Q541.976 254.684 540.564 255.101 Q539.152 255.495 537.485 256.305 L537.485 253.458 Q539.267 252.809 540.795 252.485 Q542.346 252.161 543.666 252.161 Q547.022 252.161 549.036 253.689 Q551.05 255.217 551.05 257.717 Q551.05 260.934 543.388 267.508 Q542.091 268.62 541.374 269.245 Z\" fill=\"#000000\" fill-rule=\"nonzero\" fill-opacity=\"1\" /></svg>\n"
      ],
      "text/html": [
       "<?xml version=\"1.0\" encoding=\"utf-8\"?>\n",
       "<svg xmlns=\"http://www.w3.org/2000/svg\" xmlns:xlink=\"http://www.w3.org/1999/xlink\" width=\"600\" height=\"400\" viewBox=\"0 0 2400 1600\">\n",
       "<defs>\n",
       "  <clipPath id=\"clip440\">\n",
       "    <rect x=\"0\" y=\"0\" width=\"2400\" height=\"1600\"/>\n",
       "  </clipPath>\n",
       "</defs>\n",
       "<path clip-path=\"url(#clip440)\" d=\"M0 1600 L2400 1600 L2400 0 L0 0  Z\" fill=\"#ffffff\" fill-rule=\"evenodd\" fill-opacity=\"1\"/>\n",
       "<defs>\n",
       "  <clipPath id=\"clip441\">\n",
       "    <rect x=\"480\" y=\"0\" width=\"1681\" height=\"1600\"/>\n",
       "  </clipPath>\n",
       "</defs>\n",
       "<path clip-path=\"url(#clip440)\" d=\"M252.764 1410.9 L2352.76 1410.9 L2352.76 123.472 L252.764 123.472  Z\" fill=\"#ffffff\" fill-rule=\"evenodd\" fill-opacity=\"1\"/>\n",
       "<defs>\n",
       "  <clipPath id=\"clip442\">\n",
       "    <rect x=\"252\" y=\"123\" width=\"2101\" height=\"1288\"/>\n",
       "  </clipPath>\n",
       "</defs>\n",
       "<polyline clip-path=\"url(#clip442)\" style=\"stroke:#000000; stroke-linecap:round; stroke-linejoin:round; stroke-width:2; stroke-opacity:0.1; fill:none\" points=\"429.792,1410.9 429.792,123.472 \"/>\n",
       "<polyline clip-path=\"url(#clip442)\" style=\"stroke:#000000; stroke-linecap:round; stroke-linejoin:round; stroke-width:2; stroke-opacity:0.1; fill:none\" points=\"1526.65,1410.9 1526.65,123.472 \"/>\n",
       "<polyline clip-path=\"url(#clip440)\" style=\"stroke:#000000; stroke-linecap:round; stroke-linejoin:round; stroke-width:4; stroke-opacity:1; fill:none\" points=\"252.764,1410.9 2352.76,1410.9 \"/>\n",
       "<polyline clip-path=\"url(#clip440)\" style=\"stroke:#000000; stroke-linecap:round; stroke-linejoin:round; stroke-width:4; stroke-opacity:1; fill:none\" points=\"429.792,1410.9 429.792,1392 \"/>\n",
       "<polyline clip-path=\"url(#clip440)\" style=\"stroke:#000000; stroke-linecap:round; stroke-linejoin:round; stroke-width:4; stroke-opacity:1; fill:none\" points=\"1526.65,1410.9 1526.65,1392 \"/>\n",
       "<path clip-path=\"url(#clip440)\" d=\"M379.211 1485.02 L386.85 1485.02 L386.85 1458.66 L378.54 1460.32 L378.54 1456.06 L386.804 1454.4 L391.48 1454.4 L391.48 1485.02 L399.119 1485.02 L399.119 1488.96 L379.211 1488.96 L379.211 1485.02 Z\" fill=\"#000000\" fill-rule=\"nonzero\" fill-opacity=\"1\" /><path clip-path=\"url(#clip440)\" d=\"M418.563 1457.48 Q414.952 1457.48 413.123 1461.04 Q411.318 1464.58 411.318 1471.71 Q411.318 1478.82 413.123 1482.38 Q414.952 1485.92 418.563 1485.92 Q422.197 1485.92 424.003 1482.38 Q425.831 1478.82 425.831 1471.71 Q425.831 1464.58 424.003 1461.04 Q422.197 1457.48 418.563 1457.48 M418.563 1453.77 Q424.373 1453.77 427.429 1458.38 Q430.507 1462.96 430.507 1471.71 Q430.507 1480.44 427.429 1485.04 Q424.373 1489.63 418.563 1489.63 Q412.753 1489.63 409.674 1485.04 Q406.619 1480.44 406.619 1471.71 Q406.619 1462.96 409.674 1458.38 Q412.753 1453.77 418.563 1453.77 Z\" fill=\"#000000\" fill-rule=\"nonzero\" fill-opacity=\"1\" /><path clip-path=\"url(#clip440)\" d=\"M430.507 1447.87 L454.619 1447.87 L454.619 1451.07 L430.507 1451.07 L430.507 1447.87 Z\" fill=\"#000000\" fill-rule=\"nonzero\" fill-opacity=\"1\" /><path clip-path=\"url(#clip440)\" d=\"M473.257 1436.78 L463.665 1451.77 L473.257 1451.77 L473.257 1436.78 M472.261 1433.47 L477.038 1433.47 L477.038 1451.77 L481.044 1451.77 L481.044 1454.93 L477.038 1454.93 L477.038 1461.55 L473.257 1461.55 L473.257 1454.93 L460.581 1454.93 L460.581 1451.26 L472.261 1433.47 Z\" fill=\"#000000\" fill-rule=\"nonzero\" fill-opacity=\"1\" /><path clip-path=\"url(#clip440)\" d=\"M1476.92 1485.02 L1484.56 1485.02 L1484.56 1458.66 L1476.25 1460.32 L1476.25 1456.06 L1484.51 1454.4 L1489.18 1454.4 L1489.18 1485.02 L1496.82 1485.02 L1496.82 1488.96 L1476.92 1488.96 L1476.92 1485.02 Z\" fill=\"#000000\" fill-rule=\"nonzero\" fill-opacity=\"1\" /><path clip-path=\"url(#clip440)\" d=\"M1516.27 1457.48 Q1512.66 1457.48 1510.83 1461.04 Q1509.02 1464.58 1509.02 1471.71 Q1509.02 1478.82 1510.83 1482.38 Q1512.66 1485.92 1516.27 1485.92 Q1519.9 1485.92 1521.71 1482.38 Q1523.54 1478.82 1523.54 1471.71 Q1523.54 1464.58 1521.71 1461.04 Q1519.9 1457.48 1516.27 1457.48 M1516.27 1453.77 Q1522.08 1453.77 1525.13 1458.38 Q1528.21 1462.96 1528.21 1471.71 Q1528.21 1480.44 1525.13 1485.04 Q1522.08 1489.63 1516.27 1489.63 Q1510.46 1489.63 1507.38 1485.04 Q1504.32 1480.44 1504.32 1471.71 Q1504.32 1462.96 1507.38 1458.38 Q1510.46 1453.77 1516.27 1453.77 Z\" fill=\"#000000\" fill-rule=\"nonzero\" fill-opacity=\"1\" /><path clip-path=\"url(#clip440)\" d=\"M1528.21 1447.87 L1552.32 1447.87 L1552.32 1451.07 L1528.21 1451.07 L1528.21 1447.87 Z\" fill=\"#000000\" fill-rule=\"nonzero\" fill-opacity=\"1\" /><path clip-path=\"url(#clip440)\" d=\"M1563.8 1458.35 L1577.06 1458.35 L1577.06 1461.55 L1559.23 1461.55 L1559.23 1458.35 Q1561.39 1456.11 1565.11 1452.35 Q1568.86 1448.57 1569.82 1447.48 Q1571.64 1445.43 1572.35 1444.02 Q1573.09 1442.59 1573.09 1441.22 Q1573.09 1438.98 1571.51 1437.57 Q1569.95 1436.16 1567.43 1436.16 Q1565.64 1436.16 1563.65 1436.78 Q1561.67 1437.4 1559.41 1438.66 L1559.41 1434.82 Q1561.71 1433.9 1563.7 1433.43 Q1565.7 1432.96 1567.35 1432.96 Q1571.71 1432.96 1574.31 1435.14 Q1576.91 1437.32 1576.91 1440.97 Q1576.91 1442.7 1576.25 1444.26 Q1575.61 1445.8 1573.9 1447.91 Q1573.43 1448.46 1570.91 1451.07 Q1568.39 1453.67 1563.8 1458.35 Z\" fill=\"#000000\" fill-rule=\"nonzero\" fill-opacity=\"1\" /><path clip-path=\"url(#clip440)\" d=\"M1317.69 1552.67 L1317.69 1574.19 L1311.83 1574.19 L1311.83 1552.86 Q1311.83 1547.8 1309.86 1545.29 Q1307.88 1542.77 1303.94 1542.77 Q1299.2 1542.77 1296.46 1545.79 Q1293.72 1548.82 1293.72 1554.04 L1293.72 1574.19 L1287.83 1574.19 L1287.83 1524.66 L1293.72 1524.66 L1293.72 1544.08 Q1295.82 1540.86 1298.65 1539.27 Q1301.52 1537.68 1305.24 1537.68 Q1311.39 1537.68 1314.54 1541.5 Q1317.69 1545.29 1317.69 1552.67 Z\" fill=\"#000000\" fill-rule=\"nonzero\" fill-opacity=\"1\" /><polyline clip-path=\"url(#clip442)\" style=\"stroke:#000000; stroke-linecap:round; stroke-linejoin:round; stroke-width:2; stroke-opacity:0.1; fill:none\" points=\"252.764,1227.12 2352.76,1227.12 \"/>\n",
       "<polyline clip-path=\"url(#clip442)\" style=\"stroke:#000000; stroke-linecap:round; stroke-linejoin:round; stroke-width:2; stroke-opacity:0.1; fill:none\" points=\"252.764,913.045 2352.76,913.045 \"/>\n",
       "<polyline clip-path=\"url(#clip442)\" style=\"stroke:#000000; stroke-linecap:round; stroke-linejoin:round; stroke-width:2; stroke-opacity:0.1; fill:none\" points=\"252.764,598.969 2352.76,598.969 \"/>\n",
       "<polyline clip-path=\"url(#clip442)\" style=\"stroke:#000000; stroke-linecap:round; stroke-linejoin:round; stroke-width:2; stroke-opacity:0.1; fill:none\" points=\"252.764,284.892 2352.76,284.892 \"/>\n",
       "<polyline clip-path=\"url(#clip440)\" style=\"stroke:#000000; stroke-linecap:round; stroke-linejoin:round; stroke-width:4; stroke-opacity:1; fill:none\" points=\"252.764,1410.9 252.764,123.472 \"/>\n",
       "<polyline clip-path=\"url(#clip440)\" style=\"stroke:#000000; stroke-linecap:round; stroke-linejoin:round; stroke-width:4; stroke-opacity:1; fill:none\" points=\"252.764,1227.12 271.662,1227.12 \"/>\n",
       "<polyline clip-path=\"url(#clip440)\" style=\"stroke:#000000; stroke-linecap:round; stroke-linejoin:round; stroke-width:4; stroke-opacity:1; fill:none\" points=\"252.764,913.045 271.662,913.045 \"/>\n",
       "<polyline clip-path=\"url(#clip440)\" style=\"stroke:#000000; stroke-linecap:round; stroke-linejoin:round; stroke-width:4; stroke-opacity:1; fill:none\" points=\"252.764,598.969 271.662,598.969 \"/>\n",
       "<polyline clip-path=\"url(#clip440)\" style=\"stroke:#000000; stroke-linecap:round; stroke-linejoin:round; stroke-width:4; stroke-opacity:1; fill:none\" points=\"252.764,284.892 271.662,284.892 \"/>\n",
       "<path clip-path=\"url(#clip440)\" d=\"M115.402 1246.91 L123.04 1246.91 L123.04 1220.55 L114.73 1222.22 L114.73 1217.96 L122.994 1216.29 L127.67 1216.29 L127.67 1246.91 L135.309 1246.91 L135.309 1250.85 L115.402 1250.85 L115.402 1246.91 Z\" fill=\"#000000\" fill-rule=\"nonzero\" fill-opacity=\"1\" /><path clip-path=\"url(#clip440)\" d=\"M154.753 1219.37 Q151.142 1219.37 149.313 1222.93 Q147.508 1226.47 147.508 1233.6 Q147.508 1240.71 149.313 1244.28 Q151.142 1247.82 154.753 1247.82 Q158.388 1247.82 160.193 1244.28 Q162.022 1240.71 162.022 1233.6 Q162.022 1226.47 160.193 1222.93 Q158.388 1219.37 154.753 1219.37 M154.753 1215.66 Q160.563 1215.66 163.619 1220.27 Q166.698 1224.85 166.698 1233.6 Q166.698 1242.33 163.619 1246.94 Q160.563 1251.52 154.753 1251.52 Q148.943 1251.52 145.864 1246.94 Q142.809 1242.33 142.809 1233.6 Q142.809 1224.85 145.864 1220.27 Q148.943 1215.66 154.753 1215.66 Z\" fill=\"#000000\" fill-rule=\"nonzero\" fill-opacity=\"1\" /><path clip-path=\"url(#clip440)\" d=\"M166.698 1209.77 L190.809 1209.77 L190.809 1212.96 L166.698 1212.96 L166.698 1209.77 Z\" fill=\"#000000\" fill-rule=\"nonzero\" fill-opacity=\"1\" /><path clip-path=\"url(#clip440)\" d=\"M207.134 1210.1 Q204.426 1210.1 202.865 1211.55 Q201.323 1213 201.323 1215.54 Q201.323 1218.08 202.865 1219.53 Q204.426 1220.97 207.134 1220.97 Q209.843 1220.97 211.404 1219.53 Q212.965 1218.06 212.965 1215.54 Q212.965 1213 211.404 1211.55 Q209.861 1210.1 207.134 1210.1 M203.335 1208.49 Q200.89 1207.88 199.517 1206.21 Q198.163 1204.54 198.163 1202.13 Q198.163 1198.76 200.552 1196.81 Q202.959 1194.85 207.134 1194.85 Q211.329 1194.85 213.717 1196.81 Q216.106 1198.76 216.106 1202.13 Q216.106 1204.54 214.733 1206.21 Q213.379 1207.88 210.952 1208.49 Q213.698 1209.13 215.222 1210.99 Q216.764 1212.85 216.764 1215.54 Q216.764 1219.62 214.263 1221.8 Q211.78 1223.98 207.134 1223.98 Q202.489 1223.98 199.987 1221.8 Q197.505 1219.62 197.505 1215.54 Q197.505 1212.85 199.047 1210.99 Q200.589 1209.13 203.335 1208.49 M201.943 1202.49 Q201.943 1204.67 203.298 1205.89 Q204.671 1207.11 207.134 1207.11 Q209.579 1207.11 210.952 1205.89 Q212.344 1204.67 212.344 1202.49 Q212.344 1200.31 210.952 1199.08 Q209.579 1197.86 207.134 1197.86 Q204.671 1197.86 203.298 1199.08 Q201.943 1200.31 201.943 1202.49 Z\" fill=\"#000000\" fill-rule=\"nonzero\" fill-opacity=\"1\" /><path clip-path=\"url(#clip440)\" d=\"M115.195 932.838 L122.834 932.838 L122.834 906.472 L114.523 908.139 L114.523 903.879 L122.787 902.213 L127.463 902.213 L127.463 932.838 L135.102 932.838 L135.102 936.773 L115.195 936.773 L115.195 932.838 Z\" fill=\"#000000\" fill-rule=\"nonzero\" fill-opacity=\"1\" /><path clip-path=\"url(#clip440)\" d=\"M154.546 905.291 Q150.935 905.291 149.107 908.856 Q147.301 912.398 147.301 919.527 Q147.301 926.634 149.107 930.199 Q150.935 933.74 154.546 933.74 Q158.181 933.74 159.986 930.199 Q161.815 926.634 161.815 919.527 Q161.815 912.398 159.986 908.856 Q158.181 905.291 154.546 905.291 M154.546 901.588 Q160.357 901.588 163.412 906.194 Q166.491 910.778 166.491 919.527 Q166.491 928.254 163.412 932.861 Q160.357 937.444 154.546 937.444 Q148.736 937.444 145.658 932.861 Q142.602 928.254 142.602 919.527 Q142.602 910.778 145.658 906.194 Q148.736 901.588 154.546 901.588 Z\" fill=\"#000000\" fill-rule=\"nonzero\" fill-opacity=\"1\" /><path clip-path=\"url(#clip440)\" d=\"M166.491 895.689 L190.602 895.689 L190.602 898.886 L166.491 898.886 L166.491 895.689 Z\" fill=\"#000000\" fill-rule=\"nonzero\" fill-opacity=\"1\" /><path clip-path=\"url(#clip440)\" d=\"M207.398 893.808 Q204.84 893.808 203.335 895.557 Q201.849 897.307 201.849 900.353 Q201.849 903.381 203.335 905.149 Q204.84 906.899 207.398 906.899 Q209.956 906.899 211.441 905.149 Q212.946 903.381 212.946 900.353 Q212.946 897.307 211.441 895.557 Q209.956 893.808 207.398 893.808 M214.94 881.903 L214.94 885.364 Q213.51 884.687 212.043 884.329 Q210.595 883.972 209.166 883.972 Q205.404 883.972 203.41 886.511 Q201.436 889.05 201.153 894.184 Q202.263 892.548 203.937 891.683 Q205.611 890.799 207.623 890.799 Q211.855 890.799 214.3 893.376 Q216.764 895.934 216.764 900.353 Q216.764 904.679 214.206 907.294 Q211.648 909.908 207.398 909.908 Q202.526 909.908 199.95 906.184 Q197.373 902.441 197.373 895.351 Q197.373 888.693 200.533 884.743 Q203.693 880.775 209.015 880.775 Q210.445 880.775 211.893 881.057 Q213.36 881.339 214.94 881.903 Z\" fill=\"#000000\" fill-rule=\"nonzero\" fill-opacity=\"1\" /><path clip-path=\"url(#clip440)\" d=\"M114.931 618.761 L122.57 618.761 L122.57 592.396 L114.26 594.062 L114.26 589.803 L122.524 588.136 L127.2 588.136 L127.2 618.761 L134.839 618.761 L134.839 622.696 L114.931 622.696 L114.931 618.761 Z\" fill=\"#000000\" fill-rule=\"nonzero\" fill-opacity=\"1\" /><path clip-path=\"url(#clip440)\" d=\"M154.283 591.215 Q150.672 591.215 148.843 594.78 Q147.038 598.321 147.038 605.451 Q147.038 612.557 148.843 616.122 Q150.672 619.664 154.283 619.664 Q157.917 619.664 159.723 616.122 Q161.552 612.557 161.552 605.451 Q161.552 598.321 159.723 594.78 Q157.917 591.215 154.283 591.215 M154.283 587.511 Q160.093 587.511 163.149 592.118 Q166.227 596.701 166.227 605.451 Q166.227 614.178 163.149 618.784 Q160.093 623.368 154.283 623.368 Q148.473 623.368 145.394 618.784 Q142.339 614.178 142.339 605.451 Q142.339 596.701 145.394 592.118 Q148.473 587.511 154.283 587.511 Z\" fill=\"#000000\" fill-rule=\"nonzero\" fill-opacity=\"1\" /><path clip-path=\"url(#clip440)\" d=\"M166.227 581.613 L190.339 581.613 L190.339 584.81 L166.227 584.81 L166.227 581.613 Z\" fill=\"#000000\" fill-rule=\"nonzero\" fill-opacity=\"1\" /><path clip-path=\"url(#clip440)\" d=\"M208.978 570.516 L199.386 585.506 L208.978 585.506 L208.978 570.516 M207.981 567.206 L212.758 567.206 L212.758 585.506 L216.764 585.506 L216.764 588.666 L212.758 588.666 L212.758 595.286 L208.978 595.286 L208.978 588.666 L196.301 588.666 L196.301 584.998 L207.981 567.206 Z\" fill=\"#000000\" fill-rule=\"nonzero\" fill-opacity=\"1\" /><path clip-path=\"url(#clip440)\" d=\"M116.624 304.685 L124.263 304.685 L124.263 278.319 L115.953 279.986 L115.953 275.727 L124.217 274.06 L128.893 274.06 L128.893 304.685 L136.531 304.685 L136.531 308.62 L116.624 308.62 L116.624 304.685 Z\" fill=\"#000000\" fill-rule=\"nonzero\" fill-opacity=\"1\" /><path clip-path=\"url(#clip440)\" d=\"M155.976 277.139 Q152.365 277.139 150.536 280.703 Q148.73 284.245 148.73 291.375 Q148.73 298.481 150.536 302.046 Q152.365 305.587 155.976 305.587 Q159.61 305.587 161.416 302.046 Q163.244 298.481 163.244 291.375 Q163.244 284.245 161.416 280.703 Q159.61 277.139 155.976 277.139 M155.976 273.435 Q161.786 273.435 164.841 278.041 Q167.92 282.625 167.92 291.375 Q167.92 300.101 164.841 304.708 Q161.786 309.291 155.976 309.291 Q150.166 309.291 147.087 304.708 Q144.031 300.101 144.031 291.375 Q144.031 282.625 147.087 278.041 Q150.166 273.435 155.976 273.435 Z\" fill=\"#000000\" fill-rule=\"nonzero\" fill-opacity=\"1\" /><path clip-path=\"url(#clip440)\" d=\"M167.92 267.536 L192.032 267.536 L192.032 270.734 L167.92 270.734 L167.92 267.536 Z\" fill=\"#000000\" fill-rule=\"nonzero\" fill-opacity=\"1\" /><path clip-path=\"url(#clip440)\" d=\"M203.504 278.012 L216.764 278.012 L216.764 281.209 L198.934 281.209 L198.934 278.012 Q201.097 275.774 204.821 272.012 Q208.564 268.232 209.523 267.141 Q211.347 265.091 212.062 263.681 Q212.796 262.251 212.796 260.878 Q212.796 258.64 211.216 257.23 Q209.655 255.819 207.134 255.819 Q205.348 255.819 203.354 256.44 Q201.379 257.06 199.122 258.32 L199.122 254.484 Q201.417 253.562 203.41 253.092 Q205.404 252.622 207.059 252.622 Q211.423 252.622 214.018 254.803 Q216.613 256.985 216.613 260.634 Q216.613 262.364 215.955 263.925 Q215.316 265.467 213.604 267.574 Q213.134 268.119 210.614 270.734 Q208.094 273.329 203.504 278.012 Z\" fill=\"#000000\" fill-rule=\"nonzero\" fill-opacity=\"1\" /><path clip-path=\"url(#clip440)\" d=\"M16.4842 828.247 L16.4842 798.201 L21.895 798.201 L21.895 821.818 L35.9632 821.818 L35.9632 799.188 L41.3741 799.188 L41.3741 821.818 L58.5933 821.818 L58.5933 797.628 L64.0042 797.628 L64.0042 828.247 L16.4842 828.247 Z\" fill=\"#000000\" fill-rule=\"nonzero\" fill-opacity=\"1\" /><path clip-path=\"url(#clip440)\" d=\"M33.8307 766.659 Q33.2578 767.646 33.0032 768.824 Q32.7167 769.969 32.7167 771.37 Q32.7167 776.335 35.9632 779.009 Q39.1779 781.65 45.2253 781.65 L64.0042 781.65 L64.0042 787.539 L28.3562 787.539 L28.3562 781.65 L33.8944 781.65 Q30.6479 779.804 29.0883 776.844 Q27.4968 773.884 27.4968 769.651 Q27.4968 769.046 27.5923 768.314 Q27.656 767.582 27.8151 766.691 L33.8307 766.659 Z\" fill=\"#000000\" fill-rule=\"nonzero\" fill-opacity=\"1\" /><path clip-path=\"url(#clip440)\" d=\"M33.8307 741.005 Q33.2578 741.992 33.0032 743.17 Q32.7167 744.316 32.7167 745.716 Q32.7167 750.681 35.9632 753.355 Q39.1779 755.997 45.2253 755.997 L64.0042 755.997 L64.0042 761.885 L28.3562 761.885 L28.3562 755.997 L33.8944 755.997 Q30.6479 754.151 29.0883 751.191 Q27.4968 748.23 27.4968 743.997 Q27.4968 743.393 27.5923 742.66 Q27.656 741.928 27.8151 741.037 L33.8307 741.005 Z\" fill=\"#000000\" fill-rule=\"nonzero\" fill-opacity=\"1\" /><path clip-path=\"url(#clip440)\" d=\"M32.4621 722.481 Q32.4621 727.192 36.1542 729.929 Q39.8145 732.666 46.212 732.666 Q52.6095 732.666 56.3017 729.961 Q59.9619 727.224 59.9619 722.481 Q59.9619 717.802 56.2698 715.065 Q52.5777 712.328 46.212 712.328 Q39.8781 712.328 36.186 715.065 Q32.4621 717.802 32.4621 722.481 M27.4968 722.481 Q27.4968 714.842 32.4621 710.482 Q37.4273 706.121 46.212 706.121 Q54.9649 706.121 59.9619 710.482 Q64.9272 714.842 64.9272 722.481 Q64.9272 730.152 59.9619 734.512 Q54.9649 738.841 46.212 738.841 Q37.4273 738.841 32.4621 734.512 Q27.4968 730.152 27.4968 722.481 Z\" fill=\"#000000\" fill-rule=\"nonzero\" fill-opacity=\"1\" /><path clip-path=\"url(#clip440)\" d=\"M748.981 12.096 L787.222 12.096 L787.222 18.9825 L757.164 18.9825 L757.164 36.8875 L785.966 36.8875 L785.966 43.7741 L757.164 43.7741 L757.164 65.6895 L787.951 65.6895 L787.951 72.576 L748.981 72.576 L748.981 12.096 Z\" fill=\"#000000\" fill-rule=\"nonzero\" fill-opacity=\"1\" /><path clip-path=\"url(#clip440)\" d=\"M829.999 28.5427 L829.999 35.5912 Q826.839 33.9709 823.437 33.1607 Q820.034 32.3505 816.388 32.3505 Q810.838 32.3505 808.043 34.0519 Q805.289 35.7533 805.289 39.156 Q805.289 41.7486 807.274 43.2475 Q809.259 44.7058 815.254 46.0426 L817.806 46.6097 Q825.746 48.3111 829.067 51.4303 Q832.43 54.509 832.43 60.0587 Q832.43 66.3781 827.407 70.0644 Q822.424 73.7508 813.674 73.7508 Q810.028 73.7508 806.058 73.0216 Q802.129 72.3329 797.754 70.9151 L797.754 63.2184 Q801.886 65.3654 805.896 66.4591 Q809.907 67.5124 813.836 67.5124 Q819.102 67.5124 821.938 65.73 Q824.773 63.9071 824.773 60.6258 Q824.773 57.5877 822.708 55.9673 Q820.682 54.3469 813.755 52.8481 L811.162 52.2405 Q804.235 50.7821 801.157 47.7845 Q798.078 44.7463 798.078 39.4801 Q798.078 33.0797 802.615 29.5959 Q807.152 26.1121 815.497 26.1121 Q819.629 26.1121 823.275 26.7198 Q826.92 27.3274 829.999 28.5427 Z\" fill=\"#000000\" fill-rule=\"nonzero\" fill-opacity=\"1\" /><path clip-path=\"url(#clip440)\" d=\"M851.671 14.324 L851.671 27.2059 L867.024 27.2059 L867.024 32.9987 L851.671 32.9987 L851.671 57.6282 Q851.671 63.1779 853.17 64.7578 Q854.71 66.3376 859.368 66.3376 L867.024 66.3376 L867.024 72.576 L859.368 72.576 Q850.74 72.576 847.459 69.3758 Q844.177 66.1351 844.177 57.6282 L844.177 32.9987 L838.709 32.9987 L838.709 27.2059 L844.177 27.2059 L844.177 14.324 L851.671 14.324 Z\" fill=\"#000000\" fill-rule=\"nonzero\" fill-opacity=\"1\" /><path clip-path=\"url(#clip440)\" d=\"M876.058 54.671 L876.058 27.2059 L883.512 27.2059 L883.512 54.3874 Q883.512 60.8284 886.023 64.0691 Q888.535 67.2693 893.558 67.2693 Q899.594 67.2693 903.077 63.421 Q906.602 59.5726 906.602 52.9291 L906.602 27.2059 L914.055 27.2059 L914.055 72.576 L906.602 72.576 L906.602 65.6084 Q903.888 69.7404 900.282 71.7658 Q896.718 73.7508 891.978 73.7508 Q884.16 73.7508 880.109 68.8897 Q876.058 64.0286 876.058 54.671 M894.814 26.1121 L894.814 26.1121 Z\" fill=\"#000000\" fill-rule=\"nonzero\" fill-opacity=\"1\" /><path clip-path=\"url(#clip440)\" d=\"M959.264 34.0924 L959.264 9.54393 L966.717 9.54393 L966.717 72.576 L959.264 72.576 L959.264 65.7705 Q956.914 69.8214 953.309 71.8063 Q949.744 73.7508 944.721 73.7508 Q936.497 73.7508 931.312 67.1883 Q926.168 60.6258 926.168 49.9314 Q926.168 39.2371 931.312 32.6746 Q936.497 26.1121 944.721 26.1121 Q949.744 26.1121 953.309 28.0971 Q956.914 30.0415 959.264 34.0924 M933.864 49.9314 Q933.864 58.1548 937.227 62.8538 Q940.629 67.5124 946.544 67.5124 Q952.458 67.5124 955.861 62.8538 Q959.264 58.1548 959.264 49.9314 Q959.264 41.7081 955.861 37.0496 Q952.458 32.3505 946.544 32.3505 Q940.629 32.3505 937.227 37.0496 Q933.864 41.7081 933.864 49.9314 Z\" fill=\"#000000\" fill-rule=\"nonzero\" fill-opacity=\"1\" /><path clip-path=\"url(#clip440)\" d=\"M999.651 32.4315 Q993.656 32.4315 990.172 37.1306 Q986.688 41.7891 986.688 49.9314 Q986.688 58.0738 990.131 62.7728 Q993.615 67.4314 999.651 67.4314 Q1005.61 67.4314 1009.09 62.7323 Q1012.57 58.0333 1012.57 49.9314 Q1012.57 41.8701 1009.09 37.1711 Q1005.61 32.4315 999.651 32.4315 M999.651 26.1121 Q1009.37 26.1121 1014.92 32.4315 Q1020.47 38.7509 1020.47 49.9314 Q1020.47 61.0714 1014.92 67.4314 Q1009.37 73.7508 999.651 73.7508 Q989.888 73.7508 984.339 67.4314 Q978.829 61.0714 978.829 49.9314 Q978.829 38.7509 984.339 32.4315 Q989.888 26.1121 999.651 26.1121 Z\" fill=\"#000000\" fill-rule=\"nonzero\" fill-opacity=\"1\" /><path clip-path=\"url(#clip440)\" d=\"M1089.05 34.0924 L1089.05 9.54393 L1096.51 9.54393 L1096.51 72.576 L1089.05 72.576 L1089.05 65.7705 Q1086.7 69.8214 1083.1 71.8063 Q1079.53 73.7508 1074.51 73.7508 Q1066.29 73.7508 1061.1 67.1883 Q1055.96 60.6258 1055.96 49.9314 Q1055.96 39.2371 1061.1 32.6746 Q1066.29 26.1121 1074.51 26.1121 Q1079.53 26.1121 1083.1 28.0971 Q1086.7 30.0415 1089.05 34.0924 M1063.66 49.9314 Q1063.66 58.1548 1067.02 62.8538 Q1070.42 67.5124 1076.33 67.5124 Q1082.25 67.5124 1085.65 62.8538 Q1089.05 58.1548 1089.05 49.9314 Q1089.05 41.7081 1085.65 37.0496 Q1082.25 32.3505 1076.33 32.3505 Q1070.42 32.3505 1067.02 37.0496 Q1063.66 41.7081 1063.66 49.9314 Z\" fill=\"#000000\" fill-rule=\"nonzero\" fill-opacity=\"1\" /><path clip-path=\"url(#clip440)\" d=\"M1129.44 32.4315 Q1123.45 32.4315 1119.96 37.1306 Q1116.48 41.7891 1116.48 49.9314 Q1116.48 58.0738 1119.92 62.7728 Q1123.41 67.4314 1129.44 67.4314 Q1135.4 67.4314 1138.88 62.7323 Q1142.36 58.0333 1142.36 49.9314 Q1142.36 41.8701 1138.88 37.1711 Q1135.4 32.4315 1129.44 32.4315 M1129.44 26.1121 Q1139.16 26.1121 1144.71 32.4315 Q1150.26 38.7509 1150.26 49.9314 Q1150.26 61.0714 1144.71 67.4314 Q1139.16 73.7508 1129.44 73.7508 Q1119.68 73.7508 1114.13 67.4314 Q1108.62 61.0714 1108.62 49.9314 Q1108.62 38.7509 1114.13 32.4315 Q1119.68 26.1121 1129.44 26.1121 Z\" fill=\"#000000\" fill-rule=\"nonzero\" fill-opacity=\"1\" /><path clip-path=\"url(#clip440)\" d=\"M1227.8 48.0275 L1227.8 51.6733 L1193.53 51.6733 Q1194.01 59.3701 1198.15 63.421 Q1202.32 67.4314 1209.73 67.4314 Q1214.02 67.4314 1218.04 66.3781 Q1222.09 65.3249 1226.06 63.2184 L1226.06 70.267 Q1222.05 71.9684 1217.83 72.8596 Q1213.62 73.7508 1209.29 73.7508 Q1198.43 73.7508 1192.07 67.4314 Q1185.75 61.1119 1185.75 50.3365 Q1185.75 39.1965 1191.74 32.6746 Q1197.78 26.1121 1207.99 26.1121 Q1217.14 26.1121 1222.45 32.0264 Q1227.8 37.9003 1227.8 48.0275 M1220.34 45.84 Q1220.26 39.7232 1216.9 36.0774 Q1213.58 32.4315 1208.07 32.4315 Q1201.83 32.4315 1198.06 35.9558 Q1194.34 39.4801 1193.77 45.8805 L1220.34 45.84 Z\" fill=\"#000000\" fill-rule=\"nonzero\" fill-opacity=\"1\" /><path clip-path=\"url(#clip440)\" d=\"M1266.32 34.1734 Q1265.07 33.4443 1263.57 33.1202 Q1262.11 32.7556 1260.33 32.7556 Q1254.01 32.7556 1250.6 36.8875 Q1247.24 40.9789 1247.24 48.6757 L1247.24 72.576 L1239.75 72.576 L1239.75 27.2059 L1247.24 27.2059 L1247.24 34.2544 Q1249.59 30.1225 1253.36 28.1376 Q1257.13 26.1121 1262.51 26.1121 Q1263.28 26.1121 1264.22 26.2337 Q1265.15 26.3147 1266.28 26.5172 L1266.32 34.1734 Z\" fill=\"#000000\" fill-rule=\"nonzero\" fill-opacity=\"1\" /><path clip-path=\"url(#clip440)\" d=\"M1298.97 34.1734 Q1297.72 33.4443 1296.22 33.1202 Q1294.76 32.7556 1292.98 32.7556 Q1286.66 32.7556 1283.25 36.8875 Q1279.89 40.9789 1279.89 48.6757 L1279.89 72.576 L1272.4 72.576 L1272.4 27.2059 L1279.89 27.2059 L1279.89 34.2544 Q1282.24 30.1225 1286.01 28.1376 Q1289.78 26.1121 1295.16 26.1121 Q1295.93 26.1121 1296.87 26.2337 Q1297.8 26.3147 1298.93 26.5172 L1298.97 34.1734 Z\" fill=\"#000000\" fill-rule=\"nonzero\" fill-opacity=\"1\" /><path clip-path=\"url(#clip440)\" d=\"M1322.55 32.4315 Q1316.55 32.4315 1313.07 37.1306 Q1309.59 41.7891 1309.59 49.9314 Q1309.59 58.0738 1313.03 62.7728 Q1316.51 67.4314 1322.55 67.4314 Q1328.5 67.4314 1331.99 62.7323 Q1335.47 58.0333 1335.47 49.9314 Q1335.47 41.8701 1331.99 37.1711 Q1328.5 32.4315 1322.55 32.4315 M1322.55 26.1121 Q1332.27 26.1121 1337.82 32.4315 Q1343.37 38.7509 1343.37 49.9314 Q1343.37 61.0714 1337.82 67.4314 Q1332.27 73.7508 1322.55 73.7508 Q1312.79 73.7508 1307.24 67.4314 Q1301.73 61.0714 1301.73 49.9314 Q1301.73 38.7509 1307.24 32.4315 Q1312.79 26.1121 1322.55 26.1121 Z\" fill=\"#000000\" fill-rule=\"nonzero\" fill-opacity=\"1\" /><path clip-path=\"url(#clip440)\" d=\"M1378.33 46.5287 L1400.16 46.5287 L1400.16 53.1722 L1378.33 53.1722 L1378.33 46.5287 Z\" fill=\"#000000\" fill-rule=\"nonzero\" fill-opacity=\"1\" /><path clip-path=\"url(#clip440)\" d=\"M1477.21 48.0275 L1477.21 51.6733 L1442.94 51.6733 Q1443.43 59.3701 1447.56 63.421 Q1451.73 67.4314 1459.15 67.4314 Q1463.44 67.4314 1467.45 66.3781 Q1471.5 65.3249 1475.47 63.2184 L1475.47 70.267 Q1471.46 71.9684 1467.25 72.8596 Q1463.03 73.7508 1458.7 73.7508 Q1447.84 73.7508 1441.48 67.4314 Q1435.16 61.1119 1435.16 50.3365 Q1435.16 39.1965 1441.16 32.6746 Q1447.19 26.1121 1457.4 26.1121 Q1466.56 26.1121 1471.86 32.0264 Q1477.21 37.9003 1477.21 48.0275 M1469.76 45.84 Q1469.68 39.7232 1466.32 36.0774 Q1462.99 32.4315 1457.48 32.4315 Q1451.25 32.4315 1447.48 35.9558 Q1443.75 39.4801 1443.18 45.8805 L1469.76 45.84 Z\" fill=\"#000000\" fill-rule=\"nonzero\" fill-opacity=\"1\" /><path clip-path=\"url(#clip440)\" d=\"M1525.7 27.2059 L1509.3 49.2833 L1526.55 72.576 L1517.76 72.576 L1504.56 54.752 L1491.35 72.576 L1482.56 72.576 L1500.18 48.8377 L1484.06 27.2059 L1492.85 27.2059 L1504.88 43.369 L1516.91 27.2059 L1525.7 27.2059 Z\" fill=\"#000000\" fill-rule=\"nonzero\" fill-opacity=\"1\" /><path clip-path=\"url(#clip440)\" d=\"M1573.34 48.0275 L1573.34 51.6733 L1539.07 51.6733 Q1539.56 59.3701 1543.69 63.421 Q1547.86 67.4314 1555.27 67.4314 Q1559.57 67.4314 1563.58 66.3781 Q1567.63 65.3249 1571.6 63.2184 L1571.6 70.267 Q1567.59 71.9684 1563.37 72.8596 Q1559.16 73.7508 1554.83 73.7508 Q1543.97 73.7508 1537.61 67.4314 Q1531.29 61.1119 1531.29 50.3365 Q1531.29 39.1965 1537.29 32.6746 Q1543.32 26.1121 1553.53 26.1121 Q1562.69 26.1121 1567.99 32.0264 Q1573.34 37.9003 1573.34 48.0275 M1565.89 45.84 Q1565.81 39.7232 1562.44 36.0774 Q1559.12 32.4315 1553.61 32.4315 Q1547.37 32.4315 1543.61 35.9558 Q1539.88 39.4801 1539.31 45.8805 L1565.89 45.84 Z\" fill=\"#000000\" fill-rule=\"nonzero\" fill-opacity=\"1\" /><path clip-path=\"url(#clip440)\" d=\"M1620.9 35.9153 Q1623.69 30.8922 1627.58 28.5022 Q1631.47 26.1121 1636.74 26.1121 Q1643.83 26.1121 1647.67 31.0947 Q1651.52 36.0368 1651.52 45.1919 L1651.52 72.576 L1644.03 72.576 L1644.03 45.4349 Q1644.03 38.913 1641.72 35.7533 Q1639.41 32.5936 1634.67 32.5936 Q1628.88 32.5936 1625.52 36.4419 Q1622.15 40.2903 1622.15 46.9338 L1622.15 72.576 L1614.66 72.576 L1614.66 45.4349 Q1614.66 38.8725 1612.35 35.7533 Q1610.04 32.5936 1605.22 32.5936 Q1599.51 32.5936 1596.15 36.4824 Q1592.78 40.3308 1592.78 46.9338 L1592.78 72.576 L1585.29 72.576 L1585.29 27.2059 L1592.78 27.2059 L1592.78 34.2544 Q1595.34 30.082 1598.9 28.0971 Q1602.47 26.1121 1607.37 26.1121 Q1612.31 26.1121 1615.75 28.6237 Q1619.24 31.1352 1620.9 35.9153 Z\" fill=\"#000000\" fill-rule=\"nonzero\" fill-opacity=\"1\" /><path clip-path=\"url(#clip440)\" d=\"M1673.6 65.7705 L1673.6 89.8329 L1666.11 89.8329 L1666.11 27.2059 L1673.6 27.2059 L1673.6 34.0924 Q1675.95 30.0415 1679.51 28.0971 Q1683.12 26.1121 1688.1 26.1121 Q1696.37 26.1121 1701.51 32.6746 Q1706.7 39.2371 1706.7 49.9314 Q1706.7 60.6258 1701.51 67.1883 Q1696.37 73.7508 1688.1 73.7508 Q1683.12 73.7508 1679.51 71.8063 Q1675.95 69.8214 1673.6 65.7705 M1698.96 49.9314 Q1698.96 41.7081 1695.56 37.0496 Q1692.19 32.3505 1686.28 32.3505 Q1680.36 32.3505 1676.96 37.0496 Q1673.6 41.7081 1673.6 49.9314 Q1673.6 58.1548 1676.96 62.8538 Q1680.36 67.5124 1686.28 67.5124 Q1692.19 67.5124 1695.56 62.8538 Q1698.96 58.1548 1698.96 49.9314 Z\" fill=\"#000000\" fill-rule=\"nonzero\" fill-opacity=\"1\" /><path clip-path=\"url(#clip440)\" d=\"M1719.05 9.54393 L1726.5 9.54393 L1726.5 72.576 L1719.05 72.576 L1719.05 9.54393 Z\" fill=\"#000000\" fill-rule=\"nonzero\" fill-opacity=\"1\" /><path clip-path=\"url(#clip440)\" d=\"M1759.68 32.4315 Q1753.69 32.4315 1750.2 37.1306 Q1746.72 41.7891 1746.72 49.9314 Q1746.72 58.0738 1750.16 62.7728 Q1753.65 67.4314 1759.68 67.4314 Q1765.64 67.4314 1769.12 62.7323 Q1772.6 58.0333 1772.6 49.9314 Q1772.6 41.8701 1769.12 37.1711 Q1765.64 32.4315 1759.68 32.4315 M1759.68 26.1121 Q1769.4 26.1121 1774.95 32.4315 Q1780.5 38.7509 1780.5 49.9314 Q1780.5 61.0714 1774.95 67.4314 Q1769.4 73.7508 1759.68 73.7508 Q1749.92 73.7508 1744.37 67.4314 Q1738.86 61.0714 1738.86 49.9314 Q1738.86 38.7509 1744.37 32.4315 Q1749.92 26.1121 1759.68 26.1121 Z\" fill=\"#000000\" fill-rule=\"nonzero\" fill-opacity=\"1\" /><path clip-path=\"url(#clip440)\" d=\"M1821.7 65.6895 L1835.07 65.6895 L1835.07 19.5497 L1820.53 22.4663 L1820.53 15.0127 L1834.99 12.096 L1843.17 12.096 L1843.17 65.6895 L1856.54 65.6895 L1856.54 72.576 L1821.7 72.576 L1821.7 65.6895 Z\" fill=\"#000000\" fill-rule=\"nonzero\" fill-opacity=\"1\" /><polyline clip-path=\"url(#clip442)\" style=\"stroke:#009af9; stroke-linecap:round; stroke-linejoin:round; stroke-width:12; stroke-opacity:1; fill:none\" points=\"2293.32,250.246 2128.23,328.116 1963.13,429.514 1798.04,524.763 1632.95,619.758 1467.85,714.277 1302.76,808.861 1137.67,903.413 972.573,997.959 807.479,1092.51 642.385,1186.98 477.291,1280.87 312.198,1374.46 \"/>\n",
       "<circle clip-path=\"url(#clip442)\" cx=\"2293.32\" cy=\"250.246\" r=\"14.4\" fill=\"#009af9\" fill-rule=\"evenodd\" fill-opacity=\"1\" stroke=\"#000000\" stroke-opacity=\"1\" stroke-width=\"3.2\"/>\n",
       "<circle clip-path=\"url(#clip442)\" cx=\"2128.23\" cy=\"328.116\" r=\"14.4\" fill=\"#009af9\" fill-rule=\"evenodd\" fill-opacity=\"1\" stroke=\"#000000\" stroke-opacity=\"1\" stroke-width=\"3.2\"/>\n",
       "<circle clip-path=\"url(#clip442)\" cx=\"1963.13\" cy=\"429.514\" r=\"14.4\" fill=\"#009af9\" fill-rule=\"evenodd\" fill-opacity=\"1\" stroke=\"#000000\" stroke-opacity=\"1\" stroke-width=\"3.2\"/>\n",
       "<circle clip-path=\"url(#clip442)\" cx=\"1798.04\" cy=\"524.763\" r=\"14.4\" fill=\"#009af9\" fill-rule=\"evenodd\" fill-opacity=\"1\" stroke=\"#000000\" stroke-opacity=\"1\" stroke-width=\"3.2\"/>\n",
       "<circle clip-path=\"url(#clip442)\" cx=\"1632.95\" cy=\"619.758\" r=\"14.4\" fill=\"#009af9\" fill-rule=\"evenodd\" fill-opacity=\"1\" stroke=\"#000000\" stroke-opacity=\"1\" stroke-width=\"3.2\"/>\n",
       "<circle clip-path=\"url(#clip442)\" cx=\"1467.85\" cy=\"714.277\" r=\"14.4\" fill=\"#009af9\" fill-rule=\"evenodd\" fill-opacity=\"1\" stroke=\"#000000\" stroke-opacity=\"1\" stroke-width=\"3.2\"/>\n",
       "<circle clip-path=\"url(#clip442)\" cx=\"1302.76\" cy=\"808.861\" r=\"14.4\" fill=\"#009af9\" fill-rule=\"evenodd\" fill-opacity=\"1\" stroke=\"#000000\" stroke-opacity=\"1\" stroke-width=\"3.2\"/>\n",
       "<circle clip-path=\"url(#clip442)\" cx=\"1137.67\" cy=\"903.413\" r=\"14.4\" fill=\"#009af9\" fill-rule=\"evenodd\" fill-opacity=\"1\" stroke=\"#000000\" stroke-opacity=\"1\" stroke-width=\"3.2\"/>\n",
       "<circle clip-path=\"url(#clip442)\" cx=\"972.573\" cy=\"997.959\" r=\"14.4\" fill=\"#009af9\" fill-rule=\"evenodd\" fill-opacity=\"1\" stroke=\"#000000\" stroke-opacity=\"1\" stroke-width=\"3.2\"/>\n",
       "<circle clip-path=\"url(#clip442)\" cx=\"807.479\" cy=\"1092.51\" r=\"14.4\" fill=\"#009af9\" fill-rule=\"evenodd\" fill-opacity=\"1\" stroke=\"#000000\" stroke-opacity=\"1\" stroke-width=\"3.2\"/>\n",
       "<circle clip-path=\"url(#clip442)\" cx=\"642.385\" cy=\"1186.98\" r=\"14.4\" fill=\"#009af9\" fill-rule=\"evenodd\" fill-opacity=\"1\" stroke=\"#000000\" stroke-opacity=\"1\" stroke-width=\"3.2\"/>\n",
       "<circle clip-path=\"url(#clip442)\" cx=\"477.291\" cy=\"1280.87\" r=\"14.4\" fill=\"#009af9\" fill-rule=\"evenodd\" fill-opacity=\"1\" stroke=\"#000000\" stroke-opacity=\"1\" stroke-width=\"3.2\"/>\n",
       "<circle clip-path=\"url(#clip442)\" cx=\"312.198\" cy=\"1374.46\" r=\"14.4\" fill=\"#009af9\" fill-rule=\"evenodd\" fill-opacity=\"1\" stroke=\"#000000\" stroke-opacity=\"1\" stroke-width=\"3.2\"/>\n",
       "<polyline clip-path=\"url(#clip442)\" style=\"stroke:#e26f46; stroke-linecap:round; stroke-linejoin:round; stroke-width:12; stroke-opacity:1; fill:none\" points=\"2293.32,159.909 2128.23,254.455 1963.13,349.002 1798.04,443.548 1632.95,538.094 1467.85,632.641 1302.76,727.187 1137.67,821.734 972.573,916.28 807.479,1010.83 642.385,1105.37 477.291,1199.92 312.198,1294.47 \"/>\n",
       "<path clip-path=\"url(#clip440)\" d=\"M322.764 321.906 L621.582 321.906 L621.582 166.386 L322.764 166.386  Z\" fill=\"#ffffff\" fill-rule=\"evenodd\" fill-opacity=\"1\"/>\n",
       "<polyline clip-path=\"url(#clip440)\" style=\"stroke:#000000; stroke-linecap:round; stroke-linejoin:round; stroke-width:4; stroke-opacity:1; fill:none\" points=\"322.764,321.906 621.582,321.906 621.582,166.386 322.764,166.386 322.764,321.906 \"/>\n",
       "<polyline clip-path=\"url(#clip440)\" style=\"stroke:#009af9; stroke-linecap:round; stroke-linejoin:round; stroke-width:12; stroke-opacity:1; fill:none\" points=\"346.097,218.226 486.096,218.226 \"/>\n",
       "<circle clip-path=\"url(#clip440)\" cx=\"416.097\" cy=\"218.226\" r=\"19.4444\" fill=\"#009af9\" fill-rule=\"evenodd\" fill-opacity=\"1\" stroke=\"#000000\" stroke-opacity=\"1\" stroke-width=\"4.55111\"/>\n",
       "<path clip-path=\"url(#clip440)\" d=\"M509.43 200.946 L531.281 200.946 L531.281 204.881 L514.106 204.881 L514.106 215.113 L530.564 215.113 L530.564 219.048 L514.106 219.048 L514.106 231.571 L531.698 231.571 L531.698 235.506 L509.43 235.506 L509.43 200.946 Z\" fill=\"#000000\" fill-rule=\"nonzero\" fill-opacity=\"1\" /><path clip-path=\"url(#clip440)\" d=\"M554.221 213.562 Q553.503 213.145 552.647 212.96 Q551.814 212.752 550.795 212.752 Q547.184 212.752 545.24 215.113 Q543.318 217.451 543.318 221.849 L543.318 235.506 L539.036 235.506 L539.036 209.58 L543.318 209.58 L543.318 213.608 Q544.661 211.247 546.814 210.113 Q548.966 208.955 552.045 208.955 Q552.485 208.955 553.017 209.025 Q553.55 209.071 554.198 209.187 L554.221 213.562 Z\" fill=\"#000000\" fill-rule=\"nonzero\" fill-opacity=\"1\" /><path clip-path=\"url(#clip440)\" d=\"M572.878 213.562 Q572.161 213.145 571.304 212.96 Q570.471 212.752 569.452 212.752 Q565.841 212.752 563.897 215.113 Q561.976 217.451 561.976 221.849 L561.976 235.506 L557.693 235.506 L557.693 209.58 L561.976 209.58 L561.976 213.608 Q563.318 211.247 565.471 210.113 Q567.624 208.955 570.702 208.955 Q571.142 208.955 571.675 209.025 Q572.207 209.071 572.855 209.187 L572.878 213.562 Z\" fill=\"#000000\" fill-rule=\"nonzero\" fill-opacity=\"1\" /><path clip-path=\"url(#clip440)\" d=\"M586.351 212.567 Q582.925 212.567 580.934 215.252 Q578.943 217.914 578.943 222.567 Q578.943 227.219 580.911 229.904 Q582.901 232.566 586.351 232.566 Q589.753 232.566 591.744 229.881 Q593.735 227.196 593.735 222.567 Q593.735 217.96 591.744 215.275 Q589.753 212.567 586.351 212.567 M586.351 208.955 Q591.906 208.955 595.077 212.567 Q598.249 216.178 598.249 222.567 Q598.249 228.932 595.077 232.566 Q591.906 236.178 586.351 236.178 Q580.772 236.178 577.601 232.566 Q574.452 228.932 574.452 222.567 Q574.452 216.178 577.601 212.567 Q580.772 208.955 586.351 208.955 Z\" fill=\"#000000\" fill-rule=\"nonzero\" fill-opacity=\"1\" /><polyline clip-path=\"url(#clip440)\" style=\"stroke:#e26f46; stroke-linecap:round; stroke-linejoin:round; stroke-width:12; stroke-opacity:1; fill:none\" points=\"346.097,270.066 486.096,270.066 \"/>\n",
       "<path clip-path=\"url(#clip440)\" d=\"M531.142 271.698 L531.142 287.346 L526.883 287.346 L526.883 271.837 Q526.883 268.157 525.448 266.328 Q524.013 264.499 521.143 264.499 Q517.693 264.499 515.703 266.698 Q513.712 268.897 513.712 272.694 L513.712 287.346 L509.43 287.346 L509.43 251.328 L513.712 251.328 L513.712 265.448 Q515.24 263.11 517.3 261.953 Q519.383 260.795 522.092 260.795 Q526.559 260.795 528.851 263.573 Q531.142 266.328 531.142 271.698 Z\" fill=\"#000000\" fill-rule=\"nonzero\" fill-opacity=\"1\" /><path clip-path=\"url(#clip440)\" d=\"M541.374 269.245 L551.189 269.245 L551.189 271.883 L537.346 271.883 L537.346 269.337 Q538.133 268.62 539.592 267.323 Q547.554 260.263 547.554 258.087 Q547.554 256.559 546.351 255.633 Q545.147 254.684 543.179 254.684 Q541.976 254.684 540.564 255.101 Q539.152 255.495 537.485 256.305 L537.485 253.458 Q539.267 252.809 540.795 252.485 Q542.346 252.161 543.666 252.161 Q547.022 252.161 549.036 253.689 Q551.05 255.217 551.05 257.717 Q551.05 260.934 543.388 267.508 Q542.091 268.62 541.374 269.245 Z\" fill=\"#000000\" fill-rule=\"nonzero\" fill-opacity=\"1\" /></svg>\n"
      ]
     },
     "metadata": {},
     "output_type": "display_data"
    },
    {
     "data": {
      "text/plain": [
       "\"Tabela com os valores de h e erro - exemplo 1\""
      ]
     },
     "metadata": {},
     "output_type": "display_data"
    },
    {
     "data": {
      "text/html": [
       "<div><div style = \"float: left;\"><span>13×2 DataFrame</span></div><div style = \"clear: both;\"></div></div><div class = \"data-frame\" style = \"overflow-x: scroll;\"><table class = \"data-frame\" style = \"margin-bottom: 6px;\"><thead><tr class = \"header\"><th class = \"rowNumber\" style = \"font-weight: bold; text-align: right;\">Row</th><th style = \"text-align: left;\">h</th><th style = \"text-align: left;\">erro</th></tr><tr class = \"subheader headerLastRow\"><th class = \"rowNumber\" style = \"font-weight: bold; text-align: right;\"></th><th title = \"Float64\" style = \"text-align: left;\">Float64</th><th title = \"Float64\" style = \"text-align: left;\">Float64</th></tr></thead><tbody><tr><td class = \"rowNumber\" style = \"font-weight: bold; text-align: right;\">1</td><td style = \"text-align: right;\">0.25</td><td style = \"text-align: right;\">0.0166198</td></tr><tr><td class = \"rowNumber\" style = \"font-weight: bold; text-align: right;\">2</td><td style = \"text-align: right;\">0.125</td><td style = \"text-align: right;\">0.00530589</td></tr><tr><td class = \"rowNumber\" style = \"font-weight: bold; text-align: right;\">3</td><td style = \"text-align: right;\">0.0625</td><td style = \"text-align: right;\">0.00119968</td></tr><tr><td class = \"rowNumber\" style = \"font-weight: bold; text-align: right;\">4</td><td style = \"text-align: right;\">0.03125</td><td style = \"text-align: right;\">0.000296845</td></tr><tr><td class = \"rowNumber\" style = \"font-weight: bold; text-align: right;\">5</td><td style = \"text-align: right;\">0.015625</td><td style = \"text-align: right;\">7.37256e-5</td></tr><tr><td class = \"rowNumber\" style = \"font-weight: bold; text-align: right;\">6</td><td style = \"text-align: right;\">0.0078125</td><td style = \"text-align: right;\">1.84386e-5</td></tr><tr><td class = \"rowNumber\" style = \"font-weight: bold; text-align: right;\">7</td><td style = \"text-align: right;\">0.00390625</td><td style = \"text-align: right;\">4.60717e-6</td></tr><tr><td class = \"rowNumber\" style = \"font-weight: bold; text-align: right;\">8</td><td style = \"text-align: right;\">0.00195312</td><td style = \"text-align: right;\">1.15169e-6</td></tr><tr><td class = \"rowNumber\" style = \"font-weight: bold; text-align: right;\">9</td><td style = \"text-align: right;\">0.000976562</td><td style = \"text-align: right;\">2.87924e-7</td></tr><tr><td class = \"rowNumber\" style = \"font-weight: bold; text-align: right;\">10</td><td style = \"text-align: right;\">0.000488281</td><td style = \"text-align: right;\">7.1981e-8</td></tr><tr><td class = \"rowNumber\" style = \"font-weight: bold; text-align: right;\">11</td><td style = \"text-align: right;\">0.000244141</td><td style = \"text-align: right;\">1.8015e-8</td></tr><tr><td class = \"rowNumber\" style = \"font-weight: bold; text-align: right;\">12</td><td style = \"text-align: right;\">0.00012207</td><td style = \"text-align: right;\">4.54712e-9</td></tr><tr><td class = \"rowNumber\" style = \"font-weight: bold; text-align: right;\">13</td><td style = \"text-align: right;\">6.10352e-5</td><td style = \"text-align: right;\">1.15283e-9</td></tr></tbody></table></div>"
      ],
      "text/latex": [
       "\\begin{tabular}{r|cc}\n",
       "\t& h & erro\\\\\n",
       "\t\\hline\n",
       "\t& Float64 & Float64\\\\\n",
       "\t\\hline\n",
       "\t1 & 0.25 & 0.0166198 \\\\\n",
       "\t2 & 0.125 & 0.00530589 \\\\\n",
       "\t3 & 0.0625 & 0.00119968 \\\\\n",
       "\t4 & 0.03125 & 0.000296845 \\\\\n",
       "\t5 & 0.015625 & 7.37256e-5 \\\\\n",
       "\t6 & 0.0078125 & 1.84386e-5 \\\\\n",
       "\t7 & 0.00390625 & 4.60717e-6 \\\\\n",
       "\t8 & 0.00195312 & 1.15169e-6 \\\\\n",
       "\t9 & 0.000976562 & 2.87924e-7 \\\\\n",
       "\t10 & 0.000488281 & 7.1981e-8 \\\\\n",
       "\t11 & 0.000244141 & 1.8015e-8 \\\\\n",
       "\t12 & 0.00012207 & 4.54712e-9 \\\\\n",
       "\t13 & 6.10352e-5 & 1.15283e-9 \\\\\n",
       "\\end{tabular}\n"
      ],
      "text/plain": [
       "\u001b[1m13×2 DataFrame\u001b[0m\n",
       "\u001b[1m Row \u001b[0m│\u001b[1m h           \u001b[0m\u001b[1m erro        \u001b[0m\n",
       "     │\u001b[90m Float64     \u001b[0m\u001b[90m Float64     \u001b[0m\n",
       "─────┼──────────────────────────\n",
       "   1 │ 0.25         0.0166198\n",
       "   2 │ 0.125        0.00530589\n",
       "   3 │ 0.0625       0.00119968\n",
       "   4 │ 0.03125      0.000296845\n",
       "   5 │ 0.015625     7.37256e-5\n",
       "   6 │ 0.0078125    1.84386e-5\n",
       "   7 │ 0.00390625   4.60717e-6\n",
       "   8 │ 0.00195312   1.15169e-6\n",
       "   9 │ 0.000976562  2.87924e-7\n",
       "  10 │ 0.000488281  7.1981e-8\n",
       "  11 │ 0.000244141  1.8015e-8\n",
       "  12 │ 0.00012207   4.54712e-9\n",
       "  13 │ 6.10352e-5   1.15283e-9"
      ]
     },
     "metadata": {},
     "output_type": "display_data"
    },
    {
     "name": "stdout",
     "output_type": "stream",
     "text": [
      " 36.269687 seconds (1.08 G allocations: 58.796 GiB, 6.43% gc time, 0.20% compilation time)\n"
     ]
    }
   ],
   "source": [
    "exemplo = 1\n",
    "caso_C⁰ = 1\n",
    "@time begin\n",
    "     vec_ne, vec_erros = estudo_do_erro(exemplo, caso_C⁰)\n",
    "end\n",
    "\n",
    "display_erros(vec_ne, vec_erros, exemplo)"
   ]
  },
  {
   "cell_type": "code",
   "execution_count": 17,
   "metadata": {},
   "outputs": [
    {
     "data": {
      "image/png": "[encoded data removed]",
      "image/svg+xml": [
       "<?xml version=\"1.0\" encoding=\"utf-8\"?>\n",
       "<svg xmlns=\"http://www.w3.org/2000/svg\" xmlns:xlink=\"http://www.w3.org/1999/xlink\" width=\"600\" height=\"400\" viewBox=\"0 0 2400 1600\">\n",
       "<defs>\n",
       "  <clipPath id=\"clip570\">\n",
       "    <rect x=\"0\" y=\"0\" width=\"2400\" height=\"1600\"/>\n",
       "  </clipPath>\n",
       "</defs>\n",
       "<path clip-path=\"url(#clip570)\" d=\"M0 1600 L2400 1600 L2400 0 L0 0  Z\" fill=\"#ffffff\" fill-rule=\"evenodd\" fill-opacity=\"1\"/>\n",
       "<defs>\n",
       "  <clipPath id=\"clip571\">\n",
       "    <rect x=\"480\" y=\"0\" width=\"1681\" height=\"1600\"/>\n",
       "  </clipPath>\n",
       "</defs>\n",
       "<path clip-path=\"url(#clip570)\" d=\"M252.764 1410.9 L2352.76 1410.9 L2352.76 123.472 L252.764 123.472  Z\" fill=\"#ffffff\" fill-rule=\"evenodd\" fill-opacity=\"1\"/>\n",
       "<defs>\n",
       "  <clipPath id=\"clip572\">\n",
       "    <rect x=\"252\" y=\"123\" width=\"2101\" height=\"1288\"/>\n",
       "  </clipPath>\n",
       "</defs>\n",
       "<polyline clip-path=\"url(#clip572)\" style=\"stroke:#000000; stroke-linecap:round; stroke-linejoin:round; stroke-width:2; stroke-opacity:0.1; fill:none\" points=\"429.792,1410.9 429.792,123.472 \"/>\n",
       "<polyline clip-path=\"url(#clip572)\" style=\"stroke:#000000; stroke-linecap:round; stroke-linejoin:round; stroke-width:2; stroke-opacity:0.1; fill:none\" points=\"1526.65,1410.9 1526.65,123.472 \"/>\n",
       "<polyline clip-path=\"url(#clip570)\" style=\"stroke:#000000; stroke-linecap:round; stroke-linejoin:round; stroke-width:4; stroke-opacity:1; fill:none\" points=\"252.764,1410.9 2352.76,1410.9 \"/>\n",
       "<polyline clip-path=\"url(#clip570)\" style=\"stroke:#000000; stroke-linecap:round; stroke-linejoin:round; stroke-width:4; stroke-opacity:1; fill:none\" points=\"429.792,1410.9 429.792,1392 \"/>\n",
       "<polyline clip-path=\"url(#clip570)\" style=\"stroke:#000000; stroke-linecap:round; stroke-linejoin:round; stroke-width:4; stroke-opacity:1; fill:none\" points=\"1526.65,1410.9 1526.65,1392 \"/>\n",
       "<path clip-path=\"url(#clip570)\" d=\"M379.211 1485.02 L386.85 1485.02 L386.85 1458.66 L378.54 1460.32 L378.54 1456.06 L386.804 1454.4 L391.48 1454.4 L391.48 1485.02 L399.119 1485.02 L399.119 1488.96 L379.211 1488.96 L379.211 1485.02 Z\" fill=\"#000000\" fill-rule=\"nonzero\" fill-opacity=\"1\" /><path clip-path=\"url(#clip570)\" d=\"M418.563 1457.48 Q414.952 1457.48 413.123 1461.04 Q411.318 1464.58 411.318 1471.71 Q411.318 1478.82 413.123 1482.38 Q414.952 1485.92 418.563 1485.92 Q422.197 1485.92 424.003 1482.38 Q425.831 1478.82 425.831 1471.71 Q425.831 1464.58 424.003 1461.04 Q422.197 1457.48 418.563 1457.48 M418.563 1453.77 Q424.373 1453.77 427.429 1458.38 Q430.507 1462.96 430.507 1471.71 Q430.507 1480.44 427.429 1485.04 Q424.373 1489.63 418.563 1489.63 Q412.753 1489.63 409.674 1485.04 Q406.619 1480.44 406.619 1471.71 Q406.619 1462.96 409.674 1458.38 Q412.753 1453.77 418.563 1453.77 Z\" fill=\"#000000\" fill-rule=\"nonzero\" fill-opacity=\"1\" /><path clip-path=\"url(#clip570)\" d=\"M430.507 1447.87 L454.619 1447.87 L454.619 1451.07 L430.507 1451.07 L430.507 1447.87 Z\" fill=\"#000000\" fill-rule=\"nonzero\" fill-opacity=\"1\" /><path clip-path=\"url(#clip570)\" d=\"M473.257 1436.78 L463.665 1451.77 L473.257 1451.77 L473.257 1436.78 M472.261 1433.47 L477.038 1433.47 L477.038 1451.77 L481.044 1451.77 L481.044 1454.93 L477.038 1454.93 L477.038 1461.55 L473.257 1461.55 L473.257 1454.93 L460.581 1454.93 L460.581 1451.26 L472.261 1433.47 Z\" fill=\"#000000\" fill-rule=\"nonzero\" fill-opacity=\"1\" /><path clip-path=\"url(#clip570)\" d=\"M1476.92 1485.02 L1484.56 1485.02 L1484.56 1458.66 L1476.25 1460.32 L1476.25 1456.06 L1484.51 1454.4 L1489.18 1454.4 L1489.18 1485.02 L1496.82 1485.02 L1496.82 1488.96 L1476.92 1488.96 L1476.92 1485.02 Z\" fill=\"#000000\" fill-rule=\"nonzero\" fill-opacity=\"1\" /><path clip-path=\"url(#clip570)\" d=\"M1516.27 1457.48 Q1512.66 1457.48 1510.83 1461.04 Q1509.02 1464.58 1509.02 1471.71 Q1509.02 1478.82 1510.83 1482.38 Q1512.66 1485.92 1516.27 1485.92 Q1519.9 1485.92 1521.71 1482.38 Q1523.54 1478.82 1523.54 1471.71 Q1523.54 1464.58 1521.71 1461.04 Q1519.9 1457.48 1516.27 1457.48 M1516.27 1453.77 Q1522.08 1453.77 1525.13 1458.38 Q1528.21 1462.96 1528.21 1471.71 Q1528.21 1480.44 1525.13 1485.04 Q1522.08 1489.63 1516.27 1489.63 Q1510.46 1489.63 1507.38 1485.04 Q1504.32 1480.44 1504.32 1471.71 Q1504.32 1462.96 1507.38 1458.38 Q1510.46 1453.77 1516.27 1453.77 Z\" fill=\"#000000\" fill-rule=\"nonzero\" fill-opacity=\"1\" /><path clip-path=\"url(#clip570)\" d=\"M1528.21 1447.87 L1552.32 1447.87 L1552.32 1451.07 L1528.21 1451.07 L1528.21 1447.87 Z\" fill=\"#000000\" fill-rule=\"nonzero\" fill-opacity=\"1\" /><path clip-path=\"url(#clip570)\" d=\"M1563.8 1458.35 L1577.06 1458.35 L1577.06 1461.55 L1559.23 1461.55 L1559.23 1458.35 Q1561.39 1456.11 1565.11 1452.35 Q1568.86 1448.57 1569.82 1447.48 Q1571.64 1445.43 1572.35 1444.02 Q1573.09 1442.59 1573.09 1441.22 Q1573.09 1438.98 1571.51 1437.57 Q1569.95 1436.16 1567.43 1436.16 Q1565.64 1436.16 1563.65 1436.78 Q1561.67 1437.4 1559.41 1438.66 L1559.41 1434.82 Q1561.71 1433.9 1563.7 1433.43 Q1565.7 1432.96 1567.35 1432.96 Q1571.71 1432.96 1574.31 1435.14 Q1576.91 1437.32 1576.91 1440.97 Q1576.91 1442.7 1576.25 1444.26 Q1575.61 1445.8 1573.9 1447.91 Q1573.43 1448.46 1570.91 1451.07 Q1568.39 1453.67 1563.8 1458.35 Z\" fill=\"#000000\" fill-rule=\"nonzero\" fill-opacity=\"1\" /><path clip-path=\"url(#clip570)\" d=\"M1317.69 1552.67 L1317.69 1574.19 L1311.83 1574.19 L1311.83 1552.86 Q1311.83 1547.8 1309.86 1545.29 Q1307.88 1542.77 1303.94 1542.77 Q1299.2 1542.77 1296.46 1545.79 Q1293.72 1548.82 1293.72 1554.04 L1293.72 1574.19 L1287.83 1574.19 L1287.83 1524.66 L1293.72 1524.66 L1293.72 1544.08 Q1295.82 1540.86 1298.65 1539.27 Q1301.52 1537.68 1305.24 1537.68 Q1311.39 1537.68 1314.54 1541.5 Q1317.69 1545.29 1317.69 1552.67 Z\" fill=\"#000000\" fill-rule=\"nonzero\" fill-opacity=\"1\" /><polyline clip-path=\"url(#clip572)\" style=\"stroke:#000000; stroke-linecap:round; stroke-linejoin:round; stroke-width:2; stroke-opacity:0.1; fill:none\" points=\"252.764,1149.03 2352.76,1149.03 \"/>\n",
       "<polyline clip-path=\"url(#clip572)\" style=\"stroke:#000000; stroke-linecap:round; stroke-linejoin:round; stroke-width:2; stroke-opacity:0.1; fill:none\" points=\"252.764,857.938 2352.76,857.938 \"/>\n",
       "<polyline clip-path=\"url(#clip572)\" style=\"stroke:#000000; stroke-linecap:round; stroke-linejoin:round; stroke-width:2; stroke-opacity:0.1; fill:none\" points=\"252.764,566.843 2352.76,566.843 \"/>\n",
       "<polyline clip-path=\"url(#clip572)\" style=\"stroke:#000000; stroke-linecap:round; stroke-linejoin:round; stroke-width:2; stroke-opacity:0.1; fill:none\" points=\"252.764,275.747 2352.76,275.747 \"/>\n",
       "<polyline clip-path=\"url(#clip570)\" style=\"stroke:#000000; stroke-linecap:round; stroke-linejoin:round; stroke-width:4; stroke-opacity:1; fill:none\" points=\"252.764,1410.9 252.764,123.472 \"/>\n",
       "<polyline clip-path=\"url(#clip570)\" style=\"stroke:#000000; stroke-linecap:round; stroke-linejoin:round; stroke-width:4; stroke-opacity:1; fill:none\" points=\"252.764,1149.03 271.662,1149.03 \"/>\n",
       "<polyline clip-path=\"url(#clip570)\" style=\"stroke:#000000; stroke-linecap:round; stroke-linejoin:round; stroke-width:4; stroke-opacity:1; fill:none\" points=\"252.764,857.938 271.662,857.938 \"/>\n",
       "<polyline clip-path=\"url(#clip570)\" style=\"stroke:#000000; stroke-linecap:round; stroke-linejoin:round; stroke-width:4; stroke-opacity:1; fill:none\" points=\"252.764,566.843 271.662,566.843 \"/>\n",
       "<polyline clip-path=\"url(#clip570)\" style=\"stroke:#000000; stroke-linecap:round; stroke-linejoin:round; stroke-width:4; stroke-opacity:1; fill:none\" points=\"252.764,275.747 271.662,275.747 \"/>\n",
       "<path clip-path=\"url(#clip570)\" d=\"M115.402 1168.83 L123.04 1168.83 L123.04 1142.46 L114.73 1144.13 L114.73 1139.87 L122.994 1138.2 L127.67 1138.2 L127.67 1168.83 L135.309 1168.83 L135.309 1172.76 L115.402 1172.76 L115.402 1168.83 Z\" fill=\"#000000\" fill-rule=\"nonzero\" fill-opacity=\"1\" /><path clip-path=\"url(#clip570)\" d=\"M154.753 1141.28 Q151.142 1141.28 149.313 1144.84 Q147.508 1148.39 147.508 1155.52 Q147.508 1162.62 149.313 1166.19 Q151.142 1169.73 154.753 1169.73 Q158.388 1169.73 160.193 1166.19 Q162.022 1162.62 162.022 1155.52 Q162.022 1148.39 160.193 1144.84 Q158.388 1141.28 154.753 1141.28 M154.753 1137.58 Q160.563 1137.58 163.619 1142.18 Q166.698 1146.77 166.698 1155.52 Q166.698 1164.24 163.619 1168.85 Q160.563 1173.43 154.753 1173.43 Q148.943 1173.43 145.864 1168.85 Q142.809 1164.24 142.809 1155.52 Q142.809 1146.77 145.864 1142.18 Q148.943 1137.58 154.753 1137.58 Z\" fill=\"#000000\" fill-rule=\"nonzero\" fill-opacity=\"1\" /><path clip-path=\"url(#clip570)\" d=\"M166.698 1131.68 L190.809 1131.68 L190.809 1134.88 L166.698 1134.88 L166.698 1131.68 Z\" fill=\"#000000\" fill-rule=\"nonzero\" fill-opacity=\"1\" /><path clip-path=\"url(#clip570)\" d=\"M207.134 1132.02 Q204.426 1132.02 202.865 1133.46 Q201.323 1134.91 201.323 1137.45 Q201.323 1139.99 202.865 1141.44 Q204.426 1142.89 207.134 1142.89 Q209.843 1142.89 211.404 1141.44 Q212.965 1139.97 212.965 1137.45 Q212.965 1134.91 211.404 1133.46 Q209.861 1132.02 207.134 1132.02 M203.335 1130.4 Q200.89 1129.8 199.517 1128.12 Q198.163 1126.45 198.163 1124.04 Q198.163 1120.68 200.552 1118.72 Q202.959 1116.76 207.134 1116.76 Q211.329 1116.76 213.717 1118.72 Q216.106 1120.68 216.106 1124.04 Q216.106 1126.45 214.733 1128.12 Q213.379 1129.8 210.952 1130.4 Q213.698 1131.04 215.222 1132.9 Q216.764 1134.76 216.764 1137.45 Q216.764 1141.53 214.263 1143.71 Q211.78 1145.9 207.134 1145.9 Q202.489 1145.9 199.987 1143.71 Q197.505 1141.53 197.505 1137.45 Q197.505 1134.76 199.047 1132.9 Q200.589 1131.04 203.335 1130.4 M201.943 1124.4 Q201.943 1126.58 203.298 1127.8 Q204.671 1129.03 207.134 1129.03 Q209.579 1129.03 210.952 1127.8 Q212.344 1126.58 212.344 1124.4 Q212.344 1122.22 210.952 1120.99 Q209.579 1119.77 207.134 1119.77 Q204.671 1119.77 203.298 1120.99 Q201.943 1122.22 201.943 1124.4 Z\" fill=\"#000000\" fill-rule=\"nonzero\" fill-opacity=\"1\" /><path clip-path=\"url(#clip570)\" d=\"M115.195 877.731 L122.834 877.731 L122.834 851.365 L114.523 853.032 L114.523 848.773 L122.787 847.106 L127.463 847.106 L127.463 877.731 L135.102 877.731 L135.102 881.666 L115.195 881.666 L115.195 877.731 Z\" fill=\"#000000\" fill-rule=\"nonzero\" fill-opacity=\"1\" /><path clip-path=\"url(#clip570)\" d=\"M154.546 850.185 Q150.935 850.185 149.107 853.749 Q147.301 857.291 147.301 864.421 Q147.301 871.527 149.107 875.092 Q150.935 878.634 154.546 878.634 Q158.181 878.634 159.986 875.092 Q161.815 871.527 161.815 864.421 Q161.815 857.291 159.986 853.749 Q158.181 850.185 154.546 850.185 M154.546 846.481 Q160.357 846.481 163.412 851.087 Q166.491 855.671 166.491 864.421 Q166.491 873.147 163.412 877.754 Q160.357 882.337 154.546 882.337 Q148.736 882.337 145.658 877.754 Q142.602 873.147 142.602 864.421 Q142.602 855.671 145.658 851.087 Q148.736 846.481 154.546 846.481 Z\" fill=\"#000000\" fill-rule=\"nonzero\" fill-opacity=\"1\" /><path clip-path=\"url(#clip570)\" d=\"M166.491 840.582 L190.602 840.582 L190.602 843.78 L166.491 843.78 L166.491 840.582 Z\" fill=\"#000000\" fill-rule=\"nonzero\" fill-opacity=\"1\" /><path clip-path=\"url(#clip570)\" d=\"M207.398 838.701 Q204.84 838.701 203.335 840.451 Q201.849 842.2 201.849 845.247 Q201.849 848.275 203.335 850.043 Q204.84 851.792 207.398 851.792 Q209.956 851.792 211.441 850.043 Q212.946 848.275 212.946 845.247 Q212.946 842.2 211.441 840.451 Q209.956 838.701 207.398 838.701 M214.94 826.796 L214.94 830.257 Q213.51 829.58 212.043 829.222 Q210.595 828.865 209.166 828.865 Q205.404 828.865 203.41 831.404 Q201.436 833.943 201.153 839.078 Q202.263 837.441 203.937 836.576 Q205.611 835.692 207.623 835.692 Q211.855 835.692 214.3 838.269 Q216.764 840.827 216.764 845.247 Q216.764 849.572 214.206 852.187 Q211.648 854.801 207.398 854.801 Q202.526 854.801 199.95 851.077 Q197.373 847.334 197.373 840.244 Q197.373 833.586 200.533 829.636 Q203.693 825.668 209.015 825.668 Q210.445 825.668 211.893 825.95 Q213.36 826.232 214.94 826.796 Z\" fill=\"#000000\" fill-rule=\"nonzero\" fill-opacity=\"1\" /><path clip-path=\"url(#clip570)\" d=\"M114.931 586.635 L122.57 586.635 L122.57 560.27 L114.26 561.936 L114.26 557.677 L122.524 556.01 L127.2 556.01 L127.2 586.635 L134.839 586.635 L134.839 590.57 L114.931 590.57 L114.931 586.635 Z\" fill=\"#000000\" fill-rule=\"nonzero\" fill-opacity=\"1\" /><path clip-path=\"url(#clip570)\" d=\"M154.283 559.089 Q150.672 559.089 148.843 562.654 Q147.038 566.196 147.038 573.325 Q147.038 580.432 148.843 583.996 Q150.672 587.538 154.283 587.538 Q157.917 587.538 159.723 583.996 Q161.552 580.432 161.552 573.325 Q161.552 566.196 159.723 562.654 Q157.917 559.089 154.283 559.089 M154.283 555.385 Q160.093 555.385 163.149 559.992 Q166.227 564.575 166.227 573.325 Q166.227 582.052 163.149 586.658 Q160.093 591.242 154.283 591.242 Q148.473 591.242 145.394 586.658 Q142.339 582.052 142.339 573.325 Q142.339 564.575 145.394 559.992 Q148.473 555.385 154.283 555.385 Z\" fill=\"#000000\" fill-rule=\"nonzero\" fill-opacity=\"1\" /><path clip-path=\"url(#clip570)\" d=\"M166.227 549.487 L190.339 549.487 L190.339 552.684 L166.227 552.684 L166.227 549.487 Z\" fill=\"#000000\" fill-rule=\"nonzero\" fill-opacity=\"1\" /><path clip-path=\"url(#clip570)\" d=\"M208.978 538.39 L199.386 553.38 L208.978 553.38 L208.978 538.39 M207.981 535.08 L212.758 535.08 L212.758 553.38 L216.764 553.38 L216.764 556.54 L212.758 556.54 L212.758 563.16 L208.978 563.16 L208.978 556.54 L196.301 556.54 L196.301 552.872 L207.981 535.08 Z\" fill=\"#000000\" fill-rule=\"nonzero\" fill-opacity=\"1\" /><path clip-path=\"url(#clip570)\" d=\"M116.624 295.54 L124.263 295.54 L124.263 269.174 L115.953 270.841 L115.953 266.581 L124.217 264.915 L128.893 264.915 L128.893 295.54 L136.531 295.54 L136.531 299.475 L116.624 299.475 L116.624 295.54 Z\" fill=\"#000000\" fill-rule=\"nonzero\" fill-opacity=\"1\" /><path clip-path=\"url(#clip570)\" d=\"M155.976 267.994 Q152.365 267.994 150.536 271.558 Q148.73 275.1 148.73 282.23 Q148.73 289.336 150.536 292.901 Q152.365 296.442 155.976 296.442 Q159.61 296.442 161.416 292.901 Q163.244 289.336 163.244 282.23 Q163.244 275.1 161.416 271.558 Q159.61 267.994 155.976 267.994 M155.976 264.29 Q161.786 264.29 164.841 268.896 Q167.92 273.48 167.92 282.23 Q167.92 290.956 164.841 295.563 Q161.786 300.146 155.976 300.146 Q150.166 300.146 147.087 295.563 Q144.031 290.956 144.031 282.23 Q144.031 273.48 147.087 268.896 Q150.166 264.29 155.976 264.29 Z\" fill=\"#000000\" fill-rule=\"nonzero\" fill-opacity=\"1\" /><path clip-path=\"url(#clip570)\" d=\"M167.92 258.391 L192.032 258.391 L192.032 261.589 L167.92 261.589 L167.92 258.391 Z\" fill=\"#000000\" fill-rule=\"nonzero\" fill-opacity=\"1\" /><path clip-path=\"url(#clip570)\" d=\"M203.504 268.867 L216.764 268.867 L216.764 272.064 L198.934 272.064 L198.934 268.867 Q201.097 266.629 204.821 262.867 Q208.564 259.087 209.523 257.996 Q211.347 255.946 212.062 254.536 Q212.796 253.106 212.796 251.733 Q212.796 249.495 211.216 248.085 Q209.655 246.674 207.134 246.674 Q205.348 246.674 203.354 247.295 Q201.379 247.915 199.122 249.175 L199.122 245.339 Q201.417 244.417 203.41 243.947 Q205.404 243.477 207.059 243.477 Q211.423 243.477 214.018 245.658 Q216.613 247.84 216.613 251.489 Q216.613 253.219 215.955 254.78 Q215.316 256.322 213.604 258.429 Q213.134 258.974 210.614 261.589 Q208.094 264.184 203.504 268.867 Z\" fill=\"#000000\" fill-rule=\"nonzero\" fill-opacity=\"1\" /><path clip-path=\"url(#clip570)\" d=\"M16.4842 828.247 L16.4842 798.201 L21.895 798.201 L21.895 821.818 L35.9632 821.818 L35.9632 799.188 L41.3741 799.188 L41.3741 821.818 L58.5933 821.818 L58.5933 797.628 L64.0042 797.628 L64.0042 828.247 L16.4842 828.247 Z\" fill=\"#000000\" fill-rule=\"nonzero\" fill-opacity=\"1\" /><path clip-path=\"url(#clip570)\" d=\"M33.8307 766.659 Q33.2578 767.646 33.0032 768.824 Q32.7167 769.969 32.7167 771.37 Q32.7167 776.335 35.9632 779.009 Q39.1779 781.65 45.2253 781.65 L64.0042 781.65 L64.0042 787.539 L28.3562 787.539 L28.3562 781.65 L33.8944 781.65 Q30.6479 779.804 29.0883 776.844 Q27.4968 773.884 27.4968 769.651 Q27.4968 769.046 27.5923 768.314 Q27.656 767.582 27.8151 766.691 L33.8307 766.659 Z\" fill=\"#000000\" fill-rule=\"nonzero\" fill-opacity=\"1\" /><path clip-path=\"url(#clip570)\" d=\"M33.8307 741.005 Q33.2578 741.992 33.0032 743.17 Q32.7167 744.316 32.7167 745.716 Q32.7167 750.681 35.9632 753.355 Q39.1779 755.997 45.2253 755.997 L64.0042 755.997 L64.0042 761.885 L28.3562 761.885 L28.3562 755.997 L33.8944 755.997 Q30.6479 754.151 29.0883 751.191 Q27.4968 748.23 27.4968 743.997 Q27.4968 743.393 27.5923 742.66 Q27.656 741.928 27.8151 741.037 L33.8307 741.005 Z\" fill=\"#000000\" fill-rule=\"nonzero\" fill-opacity=\"1\" /><path clip-path=\"url(#clip570)\" d=\"M32.4621 722.481 Q32.4621 727.192 36.1542 729.929 Q39.8145 732.666 46.212 732.666 Q52.6095 732.666 56.3017 729.961 Q59.9619 727.224 59.9619 722.481 Q59.9619 717.802 56.2698 715.065 Q52.5777 712.328 46.212 712.328 Q39.8781 712.328 36.186 715.065 Q32.4621 717.802 32.4621 722.481 M27.4968 722.481 Q27.4968 714.842 32.4621 710.482 Q37.4273 706.121 46.212 706.121 Q54.9649 706.121 59.9619 710.482 Q64.9272 714.842 64.9272 722.481 Q64.9272 730.152 59.9619 734.512 Q54.9649 738.841 46.212 738.841 Q37.4273 738.841 32.4621 734.512 Q27.4968 730.152 27.4968 722.481 Z\" fill=\"#000000\" fill-rule=\"nonzero\" fill-opacity=\"1\" /><path clip-path=\"url(#clip570)\" d=\"M749.305 12.096 L787.546 12.096 L787.546 18.9825 L757.488 18.9825 L757.488 36.8875 L786.29 36.8875 L786.29 43.7741 L757.488 43.7741 L757.488 65.6895 L788.275 65.6895 L788.275 72.576 L749.305 72.576 L749.305 12.096 Z\" fill=\"#000000\" fill-rule=\"nonzero\" fill-opacity=\"1\" /><path clip-path=\"url(#clip570)\" d=\"M830.323 28.5427 L830.323 35.5912 Q827.164 33.9709 823.761 33.1607 Q820.358 32.3505 816.712 32.3505 Q811.162 32.3505 808.367 34.0519 Q805.613 35.7533 805.613 39.156 Q805.613 41.7486 807.598 43.2475 Q809.583 44.7058 815.578 46.0426 L818.13 46.6097 Q826.07 48.3111 829.392 51.4303 Q832.754 54.509 832.754 60.0587 Q832.754 66.3781 827.731 70.0644 Q822.748 73.7508 813.998 73.7508 Q810.352 73.7508 806.382 73.0216 Q802.453 72.3329 798.078 70.9151 L798.078 63.2184 Q802.21 65.3654 806.22 66.4591 Q810.231 67.5124 814.16 67.5124 Q819.426 67.5124 822.262 65.73 Q825.098 63.9071 825.098 60.6258 Q825.098 57.5877 823.032 55.9673 Q821.006 54.3469 814.079 52.8481 L811.487 52.2405 Q804.559 50.7821 801.481 47.7845 Q798.402 44.7463 798.402 39.4801 Q798.402 33.0797 802.939 29.5959 Q807.476 26.1121 815.821 26.1121 Q819.953 26.1121 823.599 26.7198 Q827.245 27.3274 830.323 28.5427 Z\" fill=\"#000000\" fill-rule=\"nonzero\" fill-opacity=\"1\" /><path clip-path=\"url(#clip570)\" d=\"M851.996 14.324 L851.996 27.2059 L867.348 27.2059 L867.348 32.9987 L851.996 32.9987 L851.996 57.6282 Q851.996 63.1779 853.494 64.7578 Q855.034 66.3376 859.692 66.3376 L867.348 66.3376 L867.348 72.576 L859.692 72.576 Q851.064 72.576 847.783 69.3758 Q844.501 66.1351 844.501 57.6282 L844.501 32.9987 L839.033 32.9987 L839.033 27.2059 L844.501 27.2059 L844.501 14.324 L851.996 14.324 Z\" fill=\"#000000\" fill-rule=\"nonzero\" fill-opacity=\"1\" /><path clip-path=\"url(#clip570)\" d=\"M876.382 54.671 L876.382 27.2059 L883.836 27.2059 L883.836 54.3874 Q883.836 60.8284 886.347 64.0691 Q888.859 67.2693 893.882 67.2693 Q899.918 67.2693 903.402 63.421 Q906.926 59.5726 906.926 52.9291 L906.926 27.2059 L914.379 27.2059 L914.379 72.576 L906.926 72.576 L906.926 65.6084 Q904.212 69.7404 900.606 71.7658 Q897.042 73.7508 892.302 73.7508 Q884.484 73.7508 880.433 68.8897 Q876.382 64.0286 876.382 54.671 M895.138 26.1121 L895.138 26.1121 Z\" fill=\"#000000\" fill-rule=\"nonzero\" fill-opacity=\"1\" /><path clip-path=\"url(#clip570)\" d=\"M959.588 34.0924 L959.588 9.54393 L967.041 9.54393 L967.041 72.576 L959.588 72.576 L959.588 65.7705 Q957.238 69.8214 953.633 71.8063 Q950.068 73.7508 945.045 73.7508 Q936.821 73.7508 931.636 67.1883 Q926.492 60.6258 926.492 49.9314 Q926.492 39.2371 931.636 32.6746 Q936.821 26.1121 945.045 26.1121 Q950.068 26.1121 953.633 28.0971 Q957.238 30.0415 959.588 34.0924 M934.188 49.9314 Q934.188 58.1548 937.551 62.8538 Q940.953 67.5124 946.868 67.5124 Q952.782 67.5124 956.185 62.8538 Q959.588 58.1548 959.588 49.9314 Q959.588 41.7081 956.185 37.0496 Q952.782 32.3505 946.868 32.3505 Q940.953 32.3505 937.551 37.0496 Q934.188 41.7081 934.188 49.9314 Z\" fill=\"#000000\" fill-rule=\"nonzero\" fill-opacity=\"1\" /><path clip-path=\"url(#clip570)\" d=\"M999.975 32.4315 Q993.98 32.4315 990.496 37.1306 Q987.012 41.7891 987.012 49.9314 Q987.012 58.0738 990.455 62.7728 Q993.939 67.4314 999.975 67.4314 Q1005.93 67.4314 1009.41 62.7323 Q1012.9 58.0333 1012.9 49.9314 Q1012.9 41.8701 1009.41 37.1711 Q1005.93 32.4315 999.975 32.4315 M999.975 26.1121 Q1009.7 26.1121 1015.25 32.4315 Q1020.8 38.7509 1020.8 49.9314 Q1020.8 61.0714 1015.25 67.4314 Q1009.7 73.7508 999.975 73.7508 Q990.212 73.7508 984.663 67.4314 Q979.153 61.0714 979.153 49.9314 Q979.153 38.7509 984.663 32.4315 Q990.212 26.1121 999.975 26.1121 Z\" fill=\"#000000\" fill-rule=\"nonzero\" fill-opacity=\"1\" /><path clip-path=\"url(#clip570)\" d=\"M1089.38 34.0924 L1089.38 9.54393 L1096.83 9.54393 L1096.83 72.576 L1089.38 72.576 L1089.38 65.7705 Q1087.03 69.8214 1083.42 71.8063 Q1079.86 73.7508 1074.84 73.7508 Q1066.61 73.7508 1061.43 67.1883 Q1056.28 60.6258 1056.28 49.9314 Q1056.28 39.2371 1061.43 32.6746 Q1066.61 26.1121 1074.84 26.1121 Q1079.86 26.1121 1083.42 28.0971 Q1087.03 30.0415 1089.38 34.0924 M1063.98 49.9314 Q1063.98 58.1548 1067.34 62.8538 Q1070.74 67.5124 1076.66 67.5124 Q1082.57 67.5124 1085.98 62.8538 Q1089.38 58.1548 1089.38 49.9314 Q1089.38 41.7081 1085.98 37.0496 Q1082.57 32.3505 1076.66 32.3505 Q1070.74 32.3505 1067.34 37.0496 Q1063.98 41.7081 1063.98 49.9314 Z\" fill=\"#000000\" fill-rule=\"nonzero\" fill-opacity=\"1\" /><path clip-path=\"url(#clip570)\" d=\"M1129.77 32.4315 Q1123.77 32.4315 1120.29 37.1306 Q1116.8 41.7891 1116.8 49.9314 Q1116.8 58.0738 1120.25 62.7728 Q1123.73 67.4314 1129.77 67.4314 Q1135.72 67.4314 1139.2 62.7323 Q1142.69 58.0333 1142.69 49.9314 Q1142.69 41.8701 1139.2 37.1711 Q1135.72 32.4315 1129.77 32.4315 M1129.77 26.1121 Q1139.49 26.1121 1145.04 32.4315 Q1150.59 38.7509 1150.59 49.9314 Q1150.59 61.0714 1145.04 67.4314 Q1139.49 73.7508 1129.77 73.7508 Q1120 73.7508 1114.45 67.4314 Q1108.94 61.0714 1108.94 49.9314 Q1108.94 38.7509 1114.45 32.4315 Q1120 26.1121 1129.77 26.1121 Z\" fill=\"#000000\" fill-rule=\"nonzero\" fill-opacity=\"1\" /><path clip-path=\"url(#clip570)\" d=\"M1228.12 48.0275 L1228.12 51.6733 L1193.85 51.6733 Q1194.34 59.3701 1198.47 63.421 Q1202.64 67.4314 1210.05 67.4314 Q1214.35 67.4314 1218.36 66.3781 Q1222.41 65.3249 1226.38 63.2184 L1226.38 70.267 Q1222.37 71.9684 1218.16 72.8596 Q1213.94 73.7508 1209.61 73.7508 Q1198.75 73.7508 1192.39 67.4314 Q1186.07 61.1119 1186.07 50.3365 Q1186.07 39.1965 1192.07 32.6746 Q1198.1 26.1121 1208.31 26.1121 Q1217.47 26.1121 1222.77 32.0264 Q1228.12 37.9003 1228.12 48.0275 M1220.67 45.84 Q1220.59 39.7232 1217.23 36.0774 Q1213.9 32.4315 1208.39 32.4315 Q1202.16 32.4315 1198.39 35.9558 Q1194.66 39.4801 1194.09 45.8805 L1220.67 45.84 Z\" fill=\"#000000\" fill-rule=\"nonzero\" fill-opacity=\"1\" /><path clip-path=\"url(#clip570)\" d=\"M1266.65 34.1734 Q1265.39 33.4443 1263.89 33.1202 Q1262.43 32.7556 1260.65 32.7556 Q1254.33 32.7556 1250.93 36.8875 Q1247.57 40.9789 1247.57 48.6757 L1247.57 72.576 L1240.07 72.576 L1240.07 27.2059 L1247.57 27.2059 L1247.57 34.2544 Q1249.92 30.1225 1253.68 28.1376 Q1257.45 26.1121 1262.84 26.1121 Q1263.61 26.1121 1264.54 26.2337 Q1265.47 26.3147 1266.61 26.5172 L1266.65 34.1734 Z\" fill=\"#000000\" fill-rule=\"nonzero\" fill-opacity=\"1\" /><path clip-path=\"url(#clip570)\" d=\"M1299.3 34.1734 Q1298.04 33.4443 1296.54 33.1202 Q1295.08 32.7556 1293.3 32.7556 Q1286.98 32.7556 1283.58 36.8875 Q1280.22 40.9789 1280.22 48.6757 L1280.22 72.576 L1272.72 72.576 L1272.72 27.2059 L1280.22 27.2059 L1280.22 34.2544 Q1282.57 30.1225 1286.33 28.1376 Q1290.1 26.1121 1295.49 26.1121 Q1296.26 26.1121 1297.19 26.2337 Q1298.12 26.3147 1299.26 26.5172 L1299.3 34.1734 Z\" fill=\"#000000\" fill-rule=\"nonzero\" fill-opacity=\"1\" /><path clip-path=\"url(#clip570)\" d=\"M1322.87 32.4315 Q1316.88 32.4315 1313.39 37.1306 Q1309.91 41.7891 1309.91 49.9314 Q1309.91 58.0738 1313.35 62.7728 Q1316.84 67.4314 1322.87 67.4314 Q1328.83 67.4314 1332.31 62.7323 Q1335.8 58.0333 1335.8 49.9314 Q1335.8 41.8701 1332.31 37.1711 Q1328.83 32.4315 1322.87 32.4315 M1322.87 26.1121 Q1332.59 26.1121 1338.14 32.4315 Q1343.69 38.7509 1343.69 49.9314 Q1343.69 61.0714 1338.14 67.4314 Q1332.59 73.7508 1322.87 73.7508 Q1313.11 73.7508 1307.56 67.4314 Q1302.05 61.0714 1302.05 49.9314 Q1302.05 38.7509 1307.56 32.4315 Q1313.11 26.1121 1322.87 26.1121 Z\" fill=\"#000000\" fill-rule=\"nonzero\" fill-opacity=\"1\" /><path clip-path=\"url(#clip570)\" d=\"M1378.65 46.5287 L1400.49 46.5287 L1400.49 53.1722 L1378.65 53.1722 L1378.65 46.5287 Z\" fill=\"#000000\" fill-rule=\"nonzero\" fill-opacity=\"1\" /><path clip-path=\"url(#clip570)\" d=\"M1477.54 48.0275 L1477.54 51.6733 L1443.27 51.6733 Q1443.75 59.3701 1447.88 63.421 Q1452.06 67.4314 1459.47 67.4314 Q1463.76 67.4314 1467.77 66.3781 Q1471.82 65.3249 1475.79 63.2184 L1475.79 70.267 Q1471.78 71.9684 1467.57 72.8596 Q1463.36 73.7508 1459.02 73.7508 Q1448.17 73.7508 1441.81 67.4314 Q1435.49 61.1119 1435.49 50.3365 Q1435.49 39.1965 1441.48 32.6746 Q1447.52 26.1121 1457.73 26.1121 Q1466.88 26.1121 1472.19 32.0264 Q1477.54 37.9003 1477.54 48.0275 M1470.08 45.84 Q1470 39.7232 1466.64 36.0774 Q1463.32 32.4315 1457.81 32.4315 Q1451.57 32.4315 1447.8 35.9558 Q1444.08 39.4801 1443.51 45.8805 L1470.08 45.84 Z\" fill=\"#000000\" fill-rule=\"nonzero\" fill-opacity=\"1\" /><path clip-path=\"url(#clip570)\" d=\"M1526.03 27.2059 L1509.62 49.2833 L1526.88 72.576 L1518.09 72.576 L1504.88 54.752 L1491.67 72.576 L1482.88 72.576 L1500.5 48.8377 L1484.38 27.2059 L1493.17 27.2059 L1505.2 43.369 L1517.24 27.2059 L1526.03 27.2059 Z\" fill=\"#000000\" fill-rule=\"nonzero\" fill-opacity=\"1\" /><path clip-path=\"url(#clip570)\" d=\"M1573.66 48.0275 L1573.66 51.6733 L1539.39 51.6733 Q1539.88 59.3701 1544.01 63.421 Q1548.18 67.4314 1555.6 67.4314 Q1559.89 67.4314 1563.9 66.3781 Q1567.95 65.3249 1571.92 63.2184 L1571.92 70.267 Q1567.91 71.9684 1563.7 72.8596 Q1559.49 73.7508 1555.15 73.7508 Q1544.3 73.7508 1537.94 67.4314 Q1531.62 61.1119 1531.62 50.3365 Q1531.62 39.1965 1537.61 32.6746 Q1543.65 26.1121 1553.86 26.1121 Q1563.01 26.1121 1568.32 32.0264 Q1573.66 37.9003 1573.66 48.0275 M1566.21 45.84 Q1566.13 39.7232 1562.77 36.0774 Q1559.45 32.4315 1553.94 32.4315 Q1547.7 32.4315 1543.93 35.9558 Q1540.2 39.4801 1539.64 45.8805 L1566.21 45.84 Z\" fill=\"#000000\" fill-rule=\"nonzero\" fill-opacity=\"1\" /><path clip-path=\"url(#clip570)\" d=\"M1621.22 35.9153 Q1624.02 30.8922 1627.91 28.5022 Q1631.79 26.1121 1637.06 26.1121 Q1644.15 26.1121 1648 31.0947 Q1651.85 36.0368 1651.85 45.1919 L1651.85 72.576 L1644.35 72.576 L1644.35 45.4349 Q1644.35 38.913 1642.04 35.7533 Q1639.73 32.5936 1634.99 32.5936 Q1629.2 32.5936 1625.84 36.4419 Q1622.48 40.2903 1622.48 46.9338 L1622.48 72.576 L1614.98 72.576 L1614.98 45.4349 Q1614.98 38.8725 1612.67 35.7533 Q1610.37 32.5936 1605.54 32.5936 Q1599.83 32.5936 1596.47 36.4824 Q1593.11 40.3308 1593.11 46.9338 L1593.11 72.576 L1585.61 72.576 L1585.61 27.2059 L1593.11 27.2059 L1593.11 34.2544 Q1595.66 30.082 1599.23 28.0971 Q1602.79 26.1121 1607.69 26.1121 Q1612.63 26.1121 1616.08 28.6237 Q1619.56 31.1352 1621.22 35.9153 Z\" fill=\"#000000\" fill-rule=\"nonzero\" fill-opacity=\"1\" /><path clip-path=\"url(#clip570)\" d=\"M1673.92 65.7705 L1673.92 89.8329 L1666.43 89.8329 L1666.43 27.2059 L1673.92 27.2059 L1673.92 34.0924 Q1676.27 30.0415 1679.84 28.0971 Q1683.44 26.1121 1688.43 26.1121 Q1696.69 26.1121 1701.83 32.6746 Q1707.02 39.2371 1707.02 49.9314 Q1707.02 60.6258 1701.83 67.1883 Q1696.69 73.7508 1688.43 73.7508 Q1683.44 73.7508 1679.84 71.8063 Q1676.27 69.8214 1673.92 65.7705 M1699.28 49.9314 Q1699.28 41.7081 1695.88 37.0496 Q1692.52 32.3505 1686.6 32.3505 Q1680.69 32.3505 1677.29 37.0496 Q1673.92 41.7081 1673.92 49.9314 Q1673.92 58.1548 1677.29 62.8538 Q1680.69 67.5124 1686.6 67.5124 Q1692.52 67.5124 1695.88 62.8538 Q1699.28 58.1548 1699.28 49.9314 Z\" fill=\"#000000\" fill-rule=\"nonzero\" fill-opacity=\"1\" /><path clip-path=\"url(#clip570)\" d=\"M1719.38 9.54393 L1726.83 9.54393 L1726.83 72.576 L1719.38 72.576 L1719.38 9.54393 Z\" fill=\"#000000\" fill-rule=\"nonzero\" fill-opacity=\"1\" /><path clip-path=\"url(#clip570)\" d=\"M1760.01 32.4315 Q1754.01 32.4315 1750.53 37.1306 Q1747.04 41.7891 1747.04 49.9314 Q1747.04 58.0738 1750.49 62.7728 Q1753.97 67.4314 1760.01 67.4314 Q1765.96 67.4314 1769.44 62.7323 Q1772.93 58.0333 1772.93 49.9314 Q1772.93 41.8701 1769.44 37.1711 Q1765.96 32.4315 1760.01 32.4315 M1760.01 26.1121 Q1769.73 26.1121 1775.28 32.4315 Q1780.83 38.7509 1780.83 49.9314 Q1780.83 61.0714 1775.28 67.4314 Q1769.73 73.7508 1760.01 73.7508 Q1750.24 73.7508 1744.69 67.4314 Q1739.18 61.0714 1739.18 49.9314 Q1739.18 38.7509 1744.69 32.4315 Q1750.24 26.1121 1760.01 26.1121 Z\" fill=\"#000000\" fill-rule=\"nonzero\" fill-opacity=\"1\" /><path clip-path=\"url(#clip570)\" d=\"M1827.66 65.6895 L1856.21 65.6895 L1856.21 72.576 L1817.81 72.576 L1817.81 65.6895 Q1822.47 60.8689 1830.49 52.7671 Q1838.55 44.6248 1840.62 42.2752 Q1844.55 37.8598 1846.09 34.8216 Q1847.67 31.7429 1847.67 28.7857 Q1847.67 23.9651 1844.26 20.927 Q1840.9 17.8888 1835.47 17.8888 Q1831.63 17.8888 1827.33 19.2256 Q1823.08 20.5624 1818.22 23.2765 L1818.22 15.0127 Q1823.16 13.0277 1827.45 12.015 Q1831.75 11.0023 1835.31 11.0023 Q1844.71 11.0023 1850.3 15.7013 Q1855.89 20.4004 1855.89 28.2591 Q1855.89 31.9859 1854.47 35.3482 Q1853.1 38.6699 1849.41 43.2069 Q1848.4 44.3817 1842.97 50.0125 Q1837.54 55.6027 1827.66 65.6895 Z\" fill=\"#000000\" fill-rule=\"nonzero\" fill-opacity=\"1\" /><polyline clip-path=\"url(#clip572)\" style=\"stroke:#009af9; stroke-linecap:round; stroke-linejoin:round; stroke-width:12; stroke-opacity:1; fill:none\" points=\"2293.32,333.978 2128.23,420.967 1963.13,508.433 1798.04,595.744 1632.95,683.378 1467.85,771.004 1302.76,858.629 1137.67,946.258 972.573,1033.89 807.479,1121.51 642.385,1208.91 477.291,1293.18 312.198,1374.46 \"/>\n",
       "<circle clip-path=\"url(#clip572)\" cx=\"2293.32\" cy=\"333.978\" r=\"14.4\" fill=\"#009af9\" fill-rule=\"evenodd\" fill-opacity=\"1\" stroke=\"#000000\" stroke-opacity=\"1\" stroke-width=\"3.2\"/>\n",
       "<circle clip-path=\"url(#clip572)\" cx=\"2128.23\" cy=\"420.967\" r=\"14.4\" fill=\"#009af9\" fill-rule=\"evenodd\" fill-opacity=\"1\" stroke=\"#000000\" stroke-opacity=\"1\" stroke-width=\"3.2\"/>\n",
       "<circle clip-path=\"url(#clip572)\" cx=\"1963.13\" cy=\"508.433\" r=\"14.4\" fill=\"#009af9\" fill-rule=\"evenodd\" fill-opacity=\"1\" stroke=\"#000000\" stroke-opacity=\"1\" stroke-width=\"3.2\"/>\n",
       "<circle clip-path=\"url(#clip572)\" cx=\"1798.04\" cy=\"595.744\" r=\"14.4\" fill=\"#009af9\" fill-rule=\"evenodd\" fill-opacity=\"1\" stroke=\"#000000\" stroke-opacity=\"1\" stroke-width=\"3.2\"/>\n",
       "<circle clip-path=\"url(#clip572)\" cx=\"1632.95\" cy=\"683.378\" r=\"14.4\" fill=\"#009af9\" fill-rule=\"evenodd\" fill-opacity=\"1\" stroke=\"#000000\" stroke-opacity=\"1\" stroke-width=\"3.2\"/>\n",
       "<circle clip-path=\"url(#clip572)\" cx=\"1467.85\" cy=\"771.004\" r=\"14.4\" fill=\"#009af9\" fill-rule=\"evenodd\" fill-opacity=\"1\" stroke=\"#000000\" stroke-opacity=\"1\" stroke-width=\"3.2\"/>\n",
       "<circle clip-path=\"url(#clip572)\" cx=\"1302.76\" cy=\"858.629\" r=\"14.4\" fill=\"#009af9\" fill-rule=\"evenodd\" fill-opacity=\"1\" stroke=\"#000000\" stroke-opacity=\"1\" stroke-width=\"3.2\"/>\n",
       "<circle clip-path=\"url(#clip572)\" cx=\"1137.67\" cy=\"946.258\" r=\"14.4\" fill=\"#009af9\" fill-rule=\"evenodd\" fill-opacity=\"1\" stroke=\"#000000\" stroke-opacity=\"1\" stroke-width=\"3.2\"/>\n",
       "<circle clip-path=\"url(#clip572)\" cx=\"972.573\" cy=\"1033.89\" r=\"14.4\" fill=\"#009af9\" fill-rule=\"evenodd\" fill-opacity=\"1\" stroke=\"#000000\" stroke-opacity=\"1\" stroke-width=\"3.2\"/>\n",
       "<circle clip-path=\"url(#clip572)\" cx=\"807.479\" cy=\"1121.51\" r=\"14.4\" fill=\"#009af9\" fill-rule=\"evenodd\" fill-opacity=\"1\" stroke=\"#000000\" stroke-opacity=\"1\" stroke-width=\"3.2\"/>\n",
       "<circle clip-path=\"url(#clip572)\" cx=\"642.385\" cy=\"1208.91\" r=\"14.4\" fill=\"#009af9\" fill-rule=\"evenodd\" fill-opacity=\"1\" stroke=\"#000000\" stroke-opacity=\"1\" stroke-width=\"3.2\"/>\n",
       "<circle clip-path=\"url(#clip572)\" cx=\"477.291\" cy=\"1293.18\" r=\"14.4\" fill=\"#009af9\" fill-rule=\"evenodd\" fill-opacity=\"1\" stroke=\"#000000\" stroke-opacity=\"1\" stroke-width=\"3.2\"/>\n",
       "<circle clip-path=\"url(#clip572)\" cx=\"312.198\" cy=\"1374.46\" r=\"14.4\" fill=\"#009af9\" fill-rule=\"evenodd\" fill-opacity=\"1\" stroke=\"#000000\" stroke-opacity=\"1\" stroke-width=\"3.2\"/>\n",
       "<polyline clip-path=\"url(#clip572)\" style=\"stroke:#e26f46; stroke-linecap:round; stroke-linejoin:round; stroke-width:12; stroke-opacity:1; fill:none\" points=\"2293.32,159.909 2128.23,247.537 1963.13,335.166 1798.04,422.794 1632.95,510.423 1467.85,598.051 1302.76,685.68 1137.67,773.308 972.573,860.937 807.479,948.565 642.385,1036.19 477.291,1123.82 312.198,1211.45 \"/>\n",
       "<path clip-path=\"url(#clip570)\" d=\"M322.764 321.906 L621.582 321.906 L621.582 166.386 L322.764 166.386  Z\" fill=\"#ffffff\" fill-rule=\"evenodd\" fill-opacity=\"1\"/>\n",
       "<polyline clip-path=\"url(#clip570)\" style=\"stroke:#000000; stroke-linecap:round; stroke-linejoin:round; stroke-width:4; stroke-opacity:1; fill:none\" points=\"322.764,321.906 621.582,321.906 621.582,166.386 322.764,166.386 322.764,321.906 \"/>\n",
       "<polyline clip-path=\"url(#clip570)\" style=\"stroke:#009af9; stroke-linecap:round; stroke-linejoin:round; stroke-width:12; stroke-opacity:1; fill:none\" points=\"346.097,218.226 486.096,218.226 \"/>\n",
       "<circle clip-path=\"url(#clip570)\" cx=\"416.097\" cy=\"218.226\" r=\"19.4444\" fill=\"#009af9\" fill-rule=\"evenodd\" fill-opacity=\"1\" stroke=\"#000000\" stroke-opacity=\"1\" stroke-width=\"4.55111\"/>\n",
       "<path clip-path=\"url(#clip570)\" d=\"M509.43 200.946 L531.281 200.946 L531.281 204.881 L514.106 204.881 L514.106 215.113 L530.564 215.113 L530.564 219.048 L514.106 219.048 L514.106 231.571 L531.698 231.571 L531.698 235.506 L509.43 235.506 L509.43 200.946 Z\" fill=\"#000000\" fill-rule=\"nonzero\" fill-opacity=\"1\" /><path clip-path=\"url(#clip570)\" d=\"M554.221 213.562 Q553.503 213.145 552.647 212.96 Q551.814 212.752 550.795 212.752 Q547.184 212.752 545.24 215.113 Q543.318 217.451 543.318 221.849 L543.318 235.506 L539.036 235.506 L539.036 209.58 L543.318 209.58 L543.318 213.608 Q544.661 211.247 546.814 210.113 Q548.966 208.955 552.045 208.955 Q552.485 208.955 553.017 209.025 Q553.55 209.071 554.198 209.187 L554.221 213.562 Z\" fill=\"#000000\" fill-rule=\"nonzero\" fill-opacity=\"1\" /><path clip-path=\"url(#clip570)\" d=\"M572.878 213.562 Q572.161 213.145 571.304 212.96 Q570.471 212.752 569.452 212.752 Q565.841 212.752 563.897 215.113 Q561.976 217.451 561.976 221.849 L561.976 235.506 L557.693 235.506 L557.693 209.58 L561.976 209.58 L561.976 213.608 Q563.318 211.247 565.471 210.113 Q567.624 208.955 570.702 208.955 Q571.142 208.955 571.675 209.025 Q572.207 209.071 572.855 209.187 L572.878 213.562 Z\" fill=\"#000000\" fill-rule=\"nonzero\" fill-opacity=\"1\" /><path clip-path=\"url(#clip570)\" d=\"M586.351 212.567 Q582.925 212.567 580.934 215.252 Q578.943 217.914 578.943 222.567 Q578.943 227.219 580.911 229.904 Q582.901 232.566 586.351 232.566 Q589.753 232.566 591.744 229.881 Q593.735 227.196 593.735 222.567 Q593.735 217.96 591.744 215.275 Q589.753 212.567 586.351 212.567 M586.351 208.955 Q591.906 208.955 595.077 212.567 Q598.249 216.178 598.249 222.567 Q598.249 228.932 595.077 232.566 Q591.906 236.178 586.351 236.178 Q580.772 236.178 577.601 232.566 Q574.452 228.932 574.452 222.567 Q574.452 216.178 577.601 212.567 Q580.772 208.955 586.351 208.955 Z\" fill=\"#000000\" fill-rule=\"nonzero\" fill-opacity=\"1\" /><polyline clip-path=\"url(#clip570)\" style=\"stroke:#e26f46; stroke-linecap:round; stroke-linejoin:round; stroke-width:12; stroke-opacity:1; fill:none\" points=\"346.097,270.066 486.096,270.066 \"/>\n",
       "<path clip-path=\"url(#clip570)\" d=\"M531.142 271.698 L531.142 287.346 L526.883 287.346 L526.883 271.837 Q526.883 268.157 525.448 266.328 Q524.013 264.499 521.143 264.499 Q517.693 264.499 515.703 266.698 Q513.712 268.897 513.712 272.694 L513.712 287.346 L509.43 287.346 L509.43 251.328 L513.712 251.328 L513.712 265.448 Q515.24 263.11 517.3 261.953 Q519.383 260.795 522.092 260.795 Q526.559 260.795 528.851 263.573 Q531.142 266.328 531.142 271.698 Z\" fill=\"#000000\" fill-rule=\"nonzero\" fill-opacity=\"1\" /><path clip-path=\"url(#clip570)\" d=\"M541.374 269.245 L551.189 269.245 L551.189 271.883 L537.346 271.883 L537.346 269.337 Q538.133 268.62 539.592 267.323 Q547.554 260.263 547.554 258.087 Q547.554 256.559 546.351 255.633 Q545.147 254.684 543.179 254.684 Q541.976 254.684 540.564 255.101 Q539.152 255.495 537.485 256.305 L537.485 253.458 Q539.267 252.809 540.795 252.485 Q542.346 252.161 543.666 252.161 Q547.022 252.161 549.036 253.689 Q551.05 255.217 551.05 257.717 Q551.05 260.934 543.388 267.508 Q542.091 268.62 541.374 269.245 Z\" fill=\"#000000\" fill-rule=\"nonzero\" fill-opacity=\"1\" /></svg>\n"
      ],
      "text/html": [
       "<?xml version=\"1.0\" encoding=\"utf-8\"?>\n",
       "<svg xmlns=\"http://www.w3.org/2000/svg\" xmlns:xlink=\"http://www.w3.org/1999/xlink\" width=\"600\" height=\"400\" viewBox=\"0 0 2400 1600\">\n",
       "<defs>\n",
       "  <clipPath id=\"clip620\">\n",
       "    <rect x=\"0\" y=\"0\" width=\"2400\" height=\"1600\"/>\n",
       "  </clipPath>\n",
       "</defs>\n",
       "<path clip-path=\"url(#clip620)\" d=\"M0 1600 L2400 1600 L2400 0 L0 0  Z\" fill=\"#ffffff\" fill-rule=\"evenodd\" fill-opacity=\"1\"/>\n",
       "<defs>\n",
       "  <clipPath id=\"clip621\">\n",
       "    <rect x=\"480\" y=\"0\" width=\"1681\" height=\"1600\"/>\n",
       "  </clipPath>\n",
       "</defs>\n",
       "<path clip-path=\"url(#clip620)\" d=\"M252.764 1410.9 L2352.76 1410.9 L2352.76 123.472 L252.764 123.472  Z\" fill=\"#ffffff\" fill-rule=\"evenodd\" fill-opacity=\"1\"/>\n",
       "<defs>\n",
       "  <clipPath id=\"clip622\">\n",
       "    <rect x=\"252\" y=\"123\" width=\"2101\" height=\"1288\"/>\n",
       "  </clipPath>\n",
       "</defs>\n",
       "<polyline clip-path=\"url(#clip622)\" style=\"stroke:#000000; stroke-linecap:round; stroke-linejoin:round; stroke-width:2; stroke-opacity:0.1; fill:none\" points=\"429.792,1410.9 429.792,123.472 \"/>\n",
       "<polyline clip-path=\"url(#clip622)\" style=\"stroke:#000000; stroke-linecap:round; stroke-linejoin:round; stroke-width:2; stroke-opacity:0.1; fill:none\" points=\"1526.65,1410.9 1526.65,123.472 \"/>\n",
       "<polyline clip-path=\"url(#clip620)\" style=\"stroke:#000000; stroke-linecap:round; stroke-linejoin:round; stroke-width:4; stroke-opacity:1; fill:none\" points=\"252.764,1410.9 2352.76,1410.9 \"/>\n",
       "<polyline clip-path=\"url(#clip620)\" style=\"stroke:#000000; stroke-linecap:round; stroke-linejoin:round; stroke-width:4; stroke-opacity:1; fill:none\" points=\"429.792,1410.9 429.792,1392 \"/>\n",
       "<polyline clip-path=\"url(#clip620)\" style=\"stroke:#000000; stroke-linecap:round; stroke-linejoin:round; stroke-width:4; stroke-opacity:1; fill:none\" points=\"1526.65,1410.9 1526.65,1392 \"/>\n",
       "<path clip-path=\"url(#clip620)\" d=\"M379.211 1485.02 L386.85 1485.02 L386.85 1458.66 L378.54 1460.32 L378.54 1456.06 L386.804 1454.4 L391.48 1454.4 L391.48 1485.02 L399.119 1485.02 L399.119 1488.96 L379.211 1488.96 L379.211 1485.02 Z\" fill=\"#000000\" fill-rule=\"nonzero\" fill-opacity=\"1\" /><path clip-path=\"url(#clip620)\" d=\"M418.563 1457.48 Q414.952 1457.48 413.123 1461.04 Q411.318 1464.58 411.318 1471.71 Q411.318 1478.82 413.123 1482.38 Q414.952 1485.92 418.563 1485.92 Q422.197 1485.92 424.003 1482.38 Q425.831 1478.82 425.831 1471.71 Q425.831 1464.58 424.003 1461.04 Q422.197 1457.48 418.563 1457.48 M418.563 1453.77 Q424.373 1453.77 427.429 1458.38 Q430.507 1462.96 430.507 1471.71 Q430.507 1480.44 427.429 1485.04 Q424.373 1489.63 418.563 1489.63 Q412.753 1489.63 409.674 1485.04 Q406.619 1480.44 406.619 1471.71 Q406.619 1462.96 409.674 1458.38 Q412.753 1453.77 418.563 1453.77 Z\" fill=\"#000000\" fill-rule=\"nonzero\" fill-opacity=\"1\" /><path clip-path=\"url(#clip620)\" d=\"M430.507 1447.87 L454.619 1447.87 L454.619 1451.07 L430.507 1451.07 L430.507 1447.87 Z\" fill=\"#000000\" fill-rule=\"nonzero\" fill-opacity=\"1\" /><path clip-path=\"url(#clip620)\" d=\"M473.257 1436.78 L463.665 1451.77 L473.257 1451.77 L473.257 1436.78 M472.261 1433.47 L477.038 1433.47 L477.038 1451.77 L481.044 1451.77 L481.044 1454.93 L477.038 1454.93 L477.038 1461.55 L473.257 1461.55 L473.257 1454.93 L460.581 1454.93 L460.581 1451.26 L472.261 1433.47 Z\" fill=\"#000000\" fill-rule=\"nonzero\" fill-opacity=\"1\" /><path clip-path=\"url(#clip620)\" d=\"M1476.92 1485.02 L1484.56 1485.02 L1484.56 1458.66 L1476.25 1460.32 L1476.25 1456.06 L1484.51 1454.4 L1489.18 1454.4 L1489.18 1485.02 L1496.82 1485.02 L1496.82 1488.96 L1476.92 1488.96 L1476.92 1485.02 Z\" fill=\"#000000\" fill-rule=\"nonzero\" fill-opacity=\"1\" /><path clip-path=\"url(#clip620)\" d=\"M1516.27 1457.48 Q1512.66 1457.48 1510.83 1461.04 Q1509.02 1464.58 1509.02 1471.71 Q1509.02 1478.82 1510.83 1482.38 Q1512.66 1485.92 1516.27 1485.92 Q1519.9 1485.92 1521.71 1482.38 Q1523.54 1478.82 1523.54 1471.71 Q1523.54 1464.58 1521.71 1461.04 Q1519.9 1457.48 1516.27 1457.48 M1516.27 1453.77 Q1522.08 1453.77 1525.13 1458.38 Q1528.21 1462.96 1528.21 1471.71 Q1528.21 1480.44 1525.13 1485.04 Q1522.08 1489.63 1516.27 1489.63 Q1510.46 1489.63 1507.38 1485.04 Q1504.32 1480.44 1504.32 1471.71 Q1504.32 1462.96 1507.38 1458.38 Q1510.46 1453.77 1516.27 1453.77 Z\" fill=\"#000000\" fill-rule=\"nonzero\" fill-opacity=\"1\" /><path clip-path=\"url(#clip620)\" d=\"M1528.21 1447.87 L1552.32 1447.87 L1552.32 1451.07 L1528.21 1451.07 L1528.21 1447.87 Z\" fill=\"#000000\" fill-rule=\"nonzero\" fill-opacity=\"1\" /><path clip-path=\"url(#clip620)\" d=\"M1563.8 1458.35 L1577.06 1458.35 L1577.06 1461.55 L1559.23 1461.55 L1559.23 1458.35 Q1561.39 1456.11 1565.11 1452.35 Q1568.86 1448.57 1569.82 1447.48 Q1571.64 1445.43 1572.35 1444.02 Q1573.09 1442.59 1573.09 1441.22 Q1573.09 1438.98 1571.51 1437.57 Q1569.95 1436.16 1567.43 1436.16 Q1565.64 1436.16 1563.65 1436.78 Q1561.67 1437.4 1559.41 1438.66 L1559.41 1434.82 Q1561.71 1433.9 1563.7 1433.43 Q1565.7 1432.96 1567.35 1432.96 Q1571.71 1432.96 1574.31 1435.14 Q1576.91 1437.32 1576.91 1440.97 Q1576.91 1442.7 1576.25 1444.26 Q1575.61 1445.8 1573.9 1447.91 Q1573.43 1448.46 1570.91 1451.07 Q1568.39 1453.67 1563.8 1458.35 Z\" fill=\"#000000\" fill-rule=\"nonzero\" fill-opacity=\"1\" /><path clip-path=\"url(#clip620)\" d=\"M1317.69 1552.67 L1317.69 1574.19 L1311.83 1574.19 L1311.83 1552.86 Q1311.83 1547.8 1309.86 1545.29 Q1307.88 1542.77 1303.94 1542.77 Q1299.2 1542.77 1296.46 1545.79 Q1293.72 1548.82 1293.72 1554.04 L1293.72 1574.19 L1287.83 1574.19 L1287.83 1524.66 L1293.72 1524.66 L1293.72 1544.08 Q1295.82 1540.86 1298.65 1539.27 Q1301.52 1537.68 1305.24 1537.68 Q1311.39 1537.68 1314.54 1541.5 Q1317.69 1545.29 1317.69 1552.67 Z\" fill=\"#000000\" fill-rule=\"nonzero\" fill-opacity=\"1\" /><polyline clip-path=\"url(#clip622)\" style=\"stroke:#000000; stroke-linecap:round; stroke-linejoin:round; stroke-width:2; stroke-opacity:0.1; fill:none\" points=\"252.764,1149.03 2352.76,1149.03 \"/>\n",
       "<polyline clip-path=\"url(#clip622)\" style=\"stroke:#000000; stroke-linecap:round; stroke-linejoin:round; stroke-width:2; stroke-opacity:0.1; fill:none\" points=\"252.764,857.938 2352.76,857.938 \"/>\n",
       "<polyline clip-path=\"url(#clip622)\" style=\"stroke:#000000; stroke-linecap:round; stroke-linejoin:round; stroke-width:2; stroke-opacity:0.1; fill:none\" points=\"252.764,566.843 2352.76,566.843 \"/>\n",
       "<polyline clip-path=\"url(#clip622)\" style=\"stroke:#000000; stroke-linecap:round; stroke-linejoin:round; stroke-width:2; stroke-opacity:0.1; fill:none\" points=\"252.764,275.747 2352.76,275.747 \"/>\n",
       "<polyline clip-path=\"url(#clip620)\" style=\"stroke:#000000; stroke-linecap:round; stroke-linejoin:round; stroke-width:4; stroke-opacity:1; fill:none\" points=\"252.764,1410.9 252.764,123.472 \"/>\n",
       "<polyline clip-path=\"url(#clip620)\" style=\"stroke:#000000; stroke-linecap:round; stroke-linejoin:round; stroke-width:4; stroke-opacity:1; fill:none\" points=\"252.764,1149.03 271.662,1149.03 \"/>\n",
       "<polyline clip-path=\"url(#clip620)\" style=\"stroke:#000000; stroke-linecap:round; stroke-linejoin:round; stroke-width:4; stroke-opacity:1; fill:none\" points=\"252.764,857.938 271.662,857.938 \"/>\n",
       "<polyline clip-path=\"url(#clip620)\" style=\"stroke:#000000; stroke-linecap:round; stroke-linejoin:round; stroke-width:4; stroke-opacity:1; fill:none\" points=\"252.764,566.843 271.662,566.843 \"/>\n",
       "<polyline clip-path=\"url(#clip620)\" style=\"stroke:#000000; stroke-linecap:round; stroke-linejoin:round; stroke-width:4; stroke-opacity:1; fill:none\" points=\"252.764,275.747 271.662,275.747 \"/>\n",
       "<path clip-path=\"url(#clip620)\" d=\"M115.402 1168.83 L123.04 1168.83 L123.04 1142.46 L114.73 1144.13 L114.73 1139.87 L122.994 1138.2 L127.67 1138.2 L127.67 1168.83 L135.309 1168.83 L135.309 1172.76 L115.402 1172.76 L115.402 1168.83 Z\" fill=\"#000000\" fill-rule=\"nonzero\" fill-opacity=\"1\" /><path clip-path=\"url(#clip620)\" d=\"M154.753 1141.28 Q151.142 1141.28 149.313 1144.84 Q147.508 1148.39 147.508 1155.52 Q147.508 1162.62 149.313 1166.19 Q151.142 1169.73 154.753 1169.73 Q158.388 1169.73 160.193 1166.19 Q162.022 1162.62 162.022 1155.52 Q162.022 1148.39 160.193 1144.84 Q158.388 1141.28 154.753 1141.28 M154.753 1137.58 Q160.563 1137.58 163.619 1142.18 Q166.698 1146.77 166.698 1155.52 Q166.698 1164.24 163.619 1168.85 Q160.563 1173.43 154.753 1173.43 Q148.943 1173.43 145.864 1168.85 Q142.809 1164.24 142.809 1155.52 Q142.809 1146.77 145.864 1142.18 Q148.943 1137.58 154.753 1137.58 Z\" fill=\"#000000\" fill-rule=\"nonzero\" fill-opacity=\"1\" /><path clip-path=\"url(#clip620)\" d=\"M166.698 1131.68 L190.809 1131.68 L190.809 1134.88 L166.698 1134.88 L166.698 1131.68 Z\" fill=\"#000000\" fill-rule=\"nonzero\" fill-opacity=\"1\" /><path clip-path=\"url(#clip620)\" d=\"M207.134 1132.02 Q204.426 1132.02 202.865 1133.46 Q201.323 1134.91 201.323 1137.45 Q201.323 1139.99 202.865 1141.44 Q204.426 1142.89 207.134 1142.89 Q209.843 1142.89 211.404 1141.44 Q212.965 1139.97 212.965 1137.45 Q212.965 1134.91 211.404 1133.46 Q209.861 1132.02 207.134 1132.02 M203.335 1130.4 Q200.89 1129.8 199.517 1128.12 Q198.163 1126.45 198.163 1124.04 Q198.163 1120.68 200.552 1118.72 Q202.959 1116.76 207.134 1116.76 Q211.329 1116.76 213.717 1118.72 Q216.106 1120.68 216.106 1124.04 Q216.106 1126.45 214.733 1128.12 Q213.379 1129.8 210.952 1130.4 Q213.698 1131.04 215.222 1132.9 Q216.764 1134.76 216.764 1137.45 Q216.764 1141.53 214.263 1143.71 Q211.78 1145.9 207.134 1145.9 Q202.489 1145.9 199.987 1143.71 Q197.505 1141.53 197.505 1137.45 Q197.505 1134.76 199.047 1132.9 Q200.589 1131.04 203.335 1130.4 M201.943 1124.4 Q201.943 1126.58 203.298 1127.8 Q204.671 1129.03 207.134 1129.03 Q209.579 1129.03 210.952 1127.8 Q212.344 1126.58 212.344 1124.4 Q212.344 1122.22 210.952 1120.99 Q209.579 1119.77 207.134 1119.77 Q204.671 1119.77 203.298 1120.99 Q201.943 1122.22 201.943 1124.4 Z\" fill=\"#000000\" fill-rule=\"nonzero\" fill-opacity=\"1\" /><path clip-path=\"url(#clip620)\" d=\"M115.195 877.731 L122.834 877.731 L122.834 851.365 L114.523 853.032 L114.523 848.773 L122.787 847.106 L127.463 847.106 L127.463 877.731 L135.102 877.731 L135.102 881.666 L115.195 881.666 L115.195 877.731 Z\" fill=\"#000000\" fill-rule=\"nonzero\" fill-opacity=\"1\" /><path clip-path=\"url(#clip620)\" d=\"M154.546 850.185 Q150.935 850.185 149.107 853.749 Q147.301 857.291 147.301 864.421 Q147.301 871.527 149.107 875.092 Q150.935 878.634 154.546 878.634 Q158.181 878.634 159.986 875.092 Q161.815 871.527 161.815 864.421 Q161.815 857.291 159.986 853.749 Q158.181 850.185 154.546 850.185 M154.546 846.481 Q160.357 846.481 163.412 851.087 Q166.491 855.671 166.491 864.421 Q166.491 873.147 163.412 877.754 Q160.357 882.337 154.546 882.337 Q148.736 882.337 145.658 877.754 Q142.602 873.147 142.602 864.421 Q142.602 855.671 145.658 851.087 Q148.736 846.481 154.546 846.481 Z\" fill=\"#000000\" fill-rule=\"nonzero\" fill-opacity=\"1\" /><path clip-path=\"url(#clip620)\" d=\"M166.491 840.582 L190.602 840.582 L190.602 843.78 L166.491 843.78 L166.491 840.582 Z\" fill=\"#000000\" fill-rule=\"nonzero\" fill-opacity=\"1\" /><path clip-path=\"url(#clip620)\" d=\"M207.398 838.701 Q204.84 838.701 203.335 840.451 Q201.849 842.2 201.849 845.247 Q201.849 848.275 203.335 850.043 Q204.84 851.792 207.398 851.792 Q209.956 851.792 211.441 850.043 Q212.946 848.275 212.946 845.247 Q212.946 842.2 211.441 840.451 Q209.956 838.701 207.398 838.701 M214.94 826.796 L214.94 830.257 Q213.51 829.58 212.043 829.222 Q210.595 828.865 209.166 828.865 Q205.404 828.865 203.41 831.404 Q201.436 833.943 201.153 839.078 Q202.263 837.441 203.937 836.576 Q205.611 835.692 207.623 835.692 Q211.855 835.692 214.3 838.269 Q216.764 840.827 216.764 845.247 Q216.764 849.572 214.206 852.187 Q211.648 854.801 207.398 854.801 Q202.526 854.801 199.95 851.077 Q197.373 847.334 197.373 840.244 Q197.373 833.586 200.533 829.636 Q203.693 825.668 209.015 825.668 Q210.445 825.668 211.893 825.95 Q213.36 826.232 214.94 826.796 Z\" fill=\"#000000\" fill-rule=\"nonzero\" fill-opacity=\"1\" /><path clip-path=\"url(#clip620)\" d=\"M114.931 586.635 L122.57 586.635 L122.57 560.27 L114.26 561.936 L114.26 557.677 L122.524 556.01 L127.2 556.01 L127.2 586.635 L134.839 586.635 L134.839 590.57 L114.931 590.57 L114.931 586.635 Z\" fill=\"#000000\" fill-rule=\"nonzero\" fill-opacity=\"1\" /><path clip-path=\"url(#clip620)\" d=\"M154.283 559.089 Q150.672 559.089 148.843 562.654 Q147.038 566.196 147.038 573.325 Q147.038 580.432 148.843 583.996 Q150.672 587.538 154.283 587.538 Q157.917 587.538 159.723 583.996 Q161.552 580.432 161.552 573.325 Q161.552 566.196 159.723 562.654 Q157.917 559.089 154.283 559.089 M154.283 555.385 Q160.093 555.385 163.149 559.992 Q166.227 564.575 166.227 573.325 Q166.227 582.052 163.149 586.658 Q160.093 591.242 154.283 591.242 Q148.473 591.242 145.394 586.658 Q142.339 582.052 142.339 573.325 Q142.339 564.575 145.394 559.992 Q148.473 555.385 154.283 555.385 Z\" fill=\"#000000\" fill-rule=\"nonzero\" fill-opacity=\"1\" /><path clip-path=\"url(#clip620)\" d=\"M166.227 549.487 L190.339 549.487 L190.339 552.684 L166.227 552.684 L166.227 549.487 Z\" fill=\"#000000\" fill-rule=\"nonzero\" fill-opacity=\"1\" /><path clip-path=\"url(#clip620)\" d=\"M208.978 538.39 L199.386 553.38 L208.978 553.38 L208.978 538.39 M207.981 535.08 L212.758 535.08 L212.758 553.38 L216.764 553.38 L216.764 556.54 L212.758 556.54 L212.758 563.16 L208.978 563.16 L208.978 556.54 L196.301 556.54 L196.301 552.872 L207.981 535.08 Z\" fill=\"#000000\" fill-rule=\"nonzero\" fill-opacity=\"1\" /><path clip-path=\"url(#clip620)\" d=\"M116.624 295.54 L124.263 295.54 L124.263 269.174 L115.953 270.841 L115.953 266.581 L124.217 264.915 L128.893 264.915 L128.893 295.54 L136.531 295.54 L136.531 299.475 L116.624 299.475 L116.624 295.54 Z\" fill=\"#000000\" fill-rule=\"nonzero\" fill-opacity=\"1\" /><path clip-path=\"url(#clip620)\" d=\"M155.976 267.994 Q152.365 267.994 150.536 271.558 Q148.73 275.1 148.73 282.23 Q148.73 289.336 150.536 292.901 Q152.365 296.442 155.976 296.442 Q159.61 296.442 161.416 292.901 Q163.244 289.336 163.244 282.23 Q163.244 275.1 161.416 271.558 Q159.61 267.994 155.976 267.994 M155.976 264.29 Q161.786 264.29 164.841 268.896 Q167.92 273.48 167.92 282.23 Q167.92 290.956 164.841 295.563 Q161.786 300.146 155.976 300.146 Q150.166 300.146 147.087 295.563 Q144.031 290.956 144.031 282.23 Q144.031 273.48 147.087 268.896 Q150.166 264.29 155.976 264.29 Z\" fill=\"#000000\" fill-rule=\"nonzero\" fill-opacity=\"1\" /><path clip-path=\"url(#clip620)\" d=\"M167.92 258.391 L192.032 258.391 L192.032 261.589 L167.92 261.589 L167.92 258.391 Z\" fill=\"#000000\" fill-rule=\"nonzero\" fill-opacity=\"1\" /><path clip-path=\"url(#clip620)\" d=\"M203.504 268.867 L216.764 268.867 L216.764 272.064 L198.934 272.064 L198.934 268.867 Q201.097 266.629 204.821 262.867 Q208.564 259.087 209.523 257.996 Q211.347 255.946 212.062 254.536 Q212.796 253.106 212.796 251.733 Q212.796 249.495 211.216 248.085 Q209.655 246.674 207.134 246.674 Q205.348 246.674 203.354 247.295 Q201.379 247.915 199.122 249.175 L199.122 245.339 Q201.417 244.417 203.41 243.947 Q205.404 243.477 207.059 243.477 Q211.423 243.477 214.018 245.658 Q216.613 247.84 216.613 251.489 Q216.613 253.219 215.955 254.78 Q215.316 256.322 213.604 258.429 Q213.134 258.974 210.614 261.589 Q208.094 264.184 203.504 268.867 Z\" fill=\"#000000\" fill-rule=\"nonzero\" fill-opacity=\"1\" /><path clip-path=\"url(#clip620)\" d=\"M16.4842 828.247 L16.4842 798.201 L21.895 798.201 L21.895 821.818 L35.9632 821.818 L35.9632 799.188 L41.3741 799.188 L41.3741 821.818 L58.5933 821.818 L58.5933 797.628 L64.0042 797.628 L64.0042 828.247 L16.4842 828.247 Z\" fill=\"#000000\" fill-rule=\"nonzero\" fill-opacity=\"1\" /><path clip-path=\"url(#clip620)\" d=\"M33.8307 766.659 Q33.2578 767.646 33.0032 768.824 Q32.7167 769.969 32.7167 771.37 Q32.7167 776.335 35.9632 779.009 Q39.1779 781.65 45.2253 781.65 L64.0042 781.65 L64.0042 787.539 L28.3562 787.539 L28.3562 781.65 L33.8944 781.65 Q30.6479 779.804 29.0883 776.844 Q27.4968 773.884 27.4968 769.651 Q27.4968 769.046 27.5923 768.314 Q27.656 767.582 27.8151 766.691 L33.8307 766.659 Z\" fill=\"#000000\" fill-rule=\"nonzero\" fill-opacity=\"1\" /><path clip-path=\"url(#clip620)\" d=\"M33.8307 741.005 Q33.2578 741.992 33.0032 743.17 Q32.7167 744.316 32.7167 745.716 Q32.7167 750.681 35.9632 753.355 Q39.1779 755.997 45.2253 755.997 L64.0042 755.997 L64.0042 761.885 L28.3562 761.885 L28.3562 755.997 L33.8944 755.997 Q30.6479 754.151 29.0883 751.191 Q27.4968 748.23 27.4968 743.997 Q27.4968 743.393 27.5923 742.66 Q27.656 741.928 27.8151 741.037 L33.8307 741.005 Z\" fill=\"#000000\" fill-rule=\"nonzero\" fill-opacity=\"1\" /><path clip-path=\"url(#clip620)\" d=\"M32.4621 722.481 Q32.4621 727.192 36.1542 729.929 Q39.8145 732.666 46.212 732.666 Q52.6095 732.666 56.3017 729.961 Q59.9619 727.224 59.9619 722.481 Q59.9619 717.802 56.2698 715.065 Q52.5777 712.328 46.212 712.328 Q39.8781 712.328 36.186 715.065 Q32.4621 717.802 32.4621 722.481 M27.4968 722.481 Q27.4968 714.842 32.4621 710.482 Q37.4273 706.121 46.212 706.121 Q54.9649 706.121 59.9619 710.482 Q64.9272 714.842 64.9272 722.481 Q64.9272 730.152 59.9619 734.512 Q54.9649 738.841 46.212 738.841 Q37.4273 738.841 32.4621 734.512 Q27.4968 730.152 27.4968 722.481 Z\" fill=\"#000000\" fill-rule=\"nonzero\" fill-opacity=\"1\" /><path clip-path=\"url(#clip620)\" d=\"M749.305 12.096 L787.546 12.096 L787.546 18.9825 L757.488 18.9825 L757.488 36.8875 L786.29 36.8875 L786.29 43.7741 L757.488 43.7741 L757.488 65.6895 L788.275 65.6895 L788.275 72.576 L749.305 72.576 L749.305 12.096 Z\" fill=\"#000000\" fill-rule=\"nonzero\" fill-opacity=\"1\" /><path clip-path=\"url(#clip620)\" d=\"M830.323 28.5427 L830.323 35.5912 Q827.164 33.9709 823.761 33.1607 Q820.358 32.3505 816.712 32.3505 Q811.162 32.3505 808.367 34.0519 Q805.613 35.7533 805.613 39.156 Q805.613 41.7486 807.598 43.2475 Q809.583 44.7058 815.578 46.0426 L818.13 46.6097 Q826.07 48.3111 829.392 51.4303 Q832.754 54.509 832.754 60.0587 Q832.754 66.3781 827.731 70.0644 Q822.748 73.7508 813.998 73.7508 Q810.352 73.7508 806.382 73.0216 Q802.453 72.3329 798.078 70.9151 L798.078 63.2184 Q802.21 65.3654 806.22 66.4591 Q810.231 67.5124 814.16 67.5124 Q819.426 67.5124 822.262 65.73 Q825.098 63.9071 825.098 60.6258 Q825.098 57.5877 823.032 55.9673 Q821.006 54.3469 814.079 52.8481 L811.487 52.2405 Q804.559 50.7821 801.481 47.7845 Q798.402 44.7463 798.402 39.4801 Q798.402 33.0797 802.939 29.5959 Q807.476 26.1121 815.821 26.1121 Q819.953 26.1121 823.599 26.7198 Q827.245 27.3274 830.323 28.5427 Z\" fill=\"#000000\" fill-rule=\"nonzero\" fill-opacity=\"1\" /><path clip-path=\"url(#clip620)\" d=\"M851.996 14.324 L851.996 27.2059 L867.348 27.2059 L867.348 32.9987 L851.996 32.9987 L851.996 57.6282 Q851.996 63.1779 853.494 64.7578 Q855.034 66.3376 859.692 66.3376 L867.348 66.3376 L867.348 72.576 L859.692 72.576 Q851.064 72.576 847.783 69.3758 Q844.501 66.1351 844.501 57.6282 L844.501 32.9987 L839.033 32.9987 L839.033 27.2059 L844.501 27.2059 L844.501 14.324 L851.996 14.324 Z\" fill=\"#000000\" fill-rule=\"nonzero\" fill-opacity=\"1\" /><path clip-path=\"url(#clip620)\" d=\"M876.382 54.671 L876.382 27.2059 L883.836 27.2059 L883.836 54.3874 Q883.836 60.8284 886.347 64.0691 Q888.859 67.2693 893.882 67.2693 Q899.918 67.2693 903.402 63.421 Q906.926 59.5726 906.926 52.9291 L906.926 27.2059 L914.379 27.2059 L914.379 72.576 L906.926 72.576 L906.926 65.6084 Q904.212 69.7404 900.606 71.7658 Q897.042 73.7508 892.302 73.7508 Q884.484 73.7508 880.433 68.8897 Q876.382 64.0286 876.382 54.671 M895.138 26.1121 L895.138 26.1121 Z\" fill=\"#000000\" fill-rule=\"nonzero\" fill-opacity=\"1\" /><path clip-path=\"url(#clip620)\" d=\"M959.588 34.0924 L959.588 9.54393 L967.041 9.54393 L967.041 72.576 L959.588 72.576 L959.588 65.7705 Q957.238 69.8214 953.633 71.8063 Q950.068 73.7508 945.045 73.7508 Q936.821 73.7508 931.636 67.1883 Q926.492 60.6258 926.492 49.9314 Q926.492 39.2371 931.636 32.6746 Q936.821 26.1121 945.045 26.1121 Q950.068 26.1121 953.633 28.0971 Q957.238 30.0415 959.588 34.0924 M934.188 49.9314 Q934.188 58.1548 937.551 62.8538 Q940.953 67.5124 946.868 67.5124 Q952.782 67.5124 956.185 62.8538 Q959.588 58.1548 959.588 49.9314 Q959.588 41.7081 956.185 37.0496 Q952.782 32.3505 946.868 32.3505 Q940.953 32.3505 937.551 37.0496 Q934.188 41.7081 934.188 49.9314 Z\" fill=\"#000000\" fill-rule=\"nonzero\" fill-opacity=\"1\" /><path clip-path=\"url(#clip620)\" d=\"M999.975 32.4315 Q993.98 32.4315 990.496 37.1306 Q987.012 41.7891 987.012 49.9314 Q987.012 58.0738 990.455 62.7728 Q993.939 67.4314 999.975 67.4314 Q1005.93 67.4314 1009.41 62.7323 Q1012.9 58.0333 1012.9 49.9314 Q1012.9 41.8701 1009.41 37.1711 Q1005.93 32.4315 999.975 32.4315 M999.975 26.1121 Q1009.7 26.1121 1015.25 32.4315 Q1020.8 38.7509 1020.8 49.9314 Q1020.8 61.0714 1015.25 67.4314 Q1009.7 73.7508 999.975 73.7508 Q990.212 73.7508 984.663 67.4314 Q979.153 61.0714 979.153 49.9314 Q979.153 38.7509 984.663 32.4315 Q990.212 26.1121 999.975 26.1121 Z\" fill=\"#000000\" fill-rule=\"nonzero\" fill-opacity=\"1\" /><path clip-path=\"url(#clip620)\" d=\"M1089.38 34.0924 L1089.38 9.54393 L1096.83 9.54393 L1096.83 72.576 L1089.38 72.576 L1089.38 65.7705 Q1087.03 69.8214 1083.42 71.8063 Q1079.86 73.7508 1074.84 73.7508 Q1066.61 73.7508 1061.43 67.1883 Q1056.28 60.6258 1056.28 49.9314 Q1056.28 39.2371 1061.43 32.6746 Q1066.61 26.1121 1074.84 26.1121 Q1079.86 26.1121 1083.42 28.0971 Q1087.03 30.0415 1089.38 34.0924 M1063.98 49.9314 Q1063.98 58.1548 1067.34 62.8538 Q1070.74 67.5124 1076.66 67.5124 Q1082.57 67.5124 1085.98 62.8538 Q1089.38 58.1548 1089.38 49.9314 Q1089.38 41.7081 1085.98 37.0496 Q1082.57 32.3505 1076.66 32.3505 Q1070.74 32.3505 1067.34 37.0496 Q1063.98 41.7081 1063.98 49.9314 Z\" fill=\"#000000\" fill-rule=\"nonzero\" fill-opacity=\"1\" /><path clip-path=\"url(#clip620)\" d=\"M1129.77 32.4315 Q1123.77 32.4315 1120.29 37.1306 Q1116.8 41.7891 1116.8 49.9314 Q1116.8 58.0738 1120.25 62.7728 Q1123.73 67.4314 1129.77 67.4314 Q1135.72 67.4314 1139.2 62.7323 Q1142.69 58.0333 1142.69 49.9314 Q1142.69 41.8701 1139.2 37.1711 Q1135.72 32.4315 1129.77 32.4315 M1129.77 26.1121 Q1139.49 26.1121 1145.04 32.4315 Q1150.59 38.7509 1150.59 49.9314 Q1150.59 61.0714 1145.04 67.4314 Q1139.49 73.7508 1129.77 73.7508 Q1120 73.7508 1114.45 67.4314 Q1108.94 61.0714 1108.94 49.9314 Q1108.94 38.7509 1114.45 32.4315 Q1120 26.1121 1129.77 26.1121 Z\" fill=\"#000000\" fill-rule=\"nonzero\" fill-opacity=\"1\" /><path clip-path=\"url(#clip620)\" d=\"M1228.12 48.0275 L1228.12 51.6733 L1193.85 51.6733 Q1194.34 59.3701 1198.47 63.421 Q1202.64 67.4314 1210.05 67.4314 Q1214.35 67.4314 1218.36 66.3781 Q1222.41 65.3249 1226.38 63.2184 L1226.38 70.267 Q1222.37 71.9684 1218.16 72.8596 Q1213.94 73.7508 1209.61 73.7508 Q1198.75 73.7508 1192.39 67.4314 Q1186.07 61.1119 1186.07 50.3365 Q1186.07 39.1965 1192.07 32.6746 Q1198.1 26.1121 1208.31 26.1121 Q1217.47 26.1121 1222.77 32.0264 Q1228.12 37.9003 1228.12 48.0275 M1220.67 45.84 Q1220.59 39.7232 1217.23 36.0774 Q1213.9 32.4315 1208.39 32.4315 Q1202.16 32.4315 1198.39 35.9558 Q1194.66 39.4801 1194.09 45.8805 L1220.67 45.84 Z\" fill=\"#000000\" fill-rule=\"nonzero\" fill-opacity=\"1\" /><path clip-path=\"url(#clip620)\" d=\"M1266.65 34.1734 Q1265.39 33.4443 1263.89 33.1202 Q1262.43 32.7556 1260.65 32.7556 Q1254.33 32.7556 1250.93 36.8875 Q1247.57 40.9789 1247.57 48.6757 L1247.57 72.576 L1240.07 72.576 L1240.07 27.2059 L1247.57 27.2059 L1247.57 34.2544 Q1249.92 30.1225 1253.68 28.1376 Q1257.45 26.1121 1262.84 26.1121 Q1263.61 26.1121 1264.54 26.2337 Q1265.47 26.3147 1266.61 26.5172 L1266.65 34.1734 Z\" fill=\"#000000\" fill-rule=\"nonzero\" fill-opacity=\"1\" /><path clip-path=\"url(#clip620)\" d=\"M1299.3 34.1734 Q1298.04 33.4443 1296.54 33.1202 Q1295.08 32.7556 1293.3 32.7556 Q1286.98 32.7556 1283.58 36.8875 Q1280.22 40.9789 1280.22 48.6757 L1280.22 72.576 L1272.72 72.576 L1272.72 27.2059 L1280.22 27.2059 L1280.22 34.2544 Q1282.57 30.1225 1286.33 28.1376 Q1290.1 26.1121 1295.49 26.1121 Q1296.26 26.1121 1297.19 26.2337 Q1298.12 26.3147 1299.26 26.5172 L1299.3 34.1734 Z\" fill=\"#000000\" fill-rule=\"nonzero\" fill-opacity=\"1\" /><path clip-path=\"url(#clip620)\" d=\"M1322.87 32.4315 Q1316.88 32.4315 1313.39 37.1306 Q1309.91 41.7891 1309.91 49.9314 Q1309.91 58.0738 1313.35 62.7728 Q1316.84 67.4314 1322.87 67.4314 Q1328.83 67.4314 1332.31 62.7323 Q1335.8 58.0333 1335.8 49.9314 Q1335.8 41.8701 1332.31 37.1711 Q1328.83 32.4315 1322.87 32.4315 M1322.87 26.1121 Q1332.59 26.1121 1338.14 32.4315 Q1343.69 38.7509 1343.69 49.9314 Q1343.69 61.0714 1338.14 67.4314 Q1332.59 73.7508 1322.87 73.7508 Q1313.11 73.7508 1307.56 67.4314 Q1302.05 61.0714 1302.05 49.9314 Q1302.05 38.7509 1307.56 32.4315 Q1313.11 26.1121 1322.87 26.1121 Z\" fill=\"#000000\" fill-rule=\"nonzero\" fill-opacity=\"1\" /><path clip-path=\"url(#clip620)\" d=\"M1378.65 46.5287 L1400.49 46.5287 L1400.49 53.1722 L1378.65 53.1722 L1378.65 46.5287 Z\" fill=\"#000000\" fill-rule=\"nonzero\" fill-opacity=\"1\" /><path clip-path=\"url(#clip620)\" d=\"M1477.54 48.0275 L1477.54 51.6733 L1443.27 51.6733 Q1443.75 59.3701 1447.88 63.421 Q1452.06 67.4314 1459.47 67.4314 Q1463.76 67.4314 1467.77 66.3781 Q1471.82 65.3249 1475.79 63.2184 L1475.79 70.267 Q1471.78 71.9684 1467.57 72.8596 Q1463.36 73.7508 1459.02 73.7508 Q1448.17 73.7508 1441.81 67.4314 Q1435.49 61.1119 1435.49 50.3365 Q1435.49 39.1965 1441.48 32.6746 Q1447.52 26.1121 1457.73 26.1121 Q1466.88 26.1121 1472.19 32.0264 Q1477.54 37.9003 1477.54 48.0275 M1470.08 45.84 Q1470 39.7232 1466.64 36.0774 Q1463.32 32.4315 1457.81 32.4315 Q1451.57 32.4315 1447.8 35.9558 Q1444.08 39.4801 1443.51 45.8805 L1470.08 45.84 Z\" fill=\"#000000\" fill-rule=\"nonzero\" fill-opacity=\"1\" /><path clip-path=\"url(#clip620)\" d=\"M1526.03 27.2059 L1509.62 49.2833 L1526.88 72.576 L1518.09 72.576 L1504.88 54.752 L1491.67 72.576 L1482.88 72.576 L1500.5 48.8377 L1484.38 27.2059 L1493.17 27.2059 L1505.2 43.369 L1517.24 27.2059 L1526.03 27.2059 Z\" fill=\"#000000\" fill-rule=\"nonzero\" fill-opacity=\"1\" /><path clip-path=\"url(#clip620)\" d=\"M1573.66 48.0275 L1573.66 51.6733 L1539.39 51.6733 Q1539.88 59.3701 1544.01 63.421 Q1548.18 67.4314 1555.6 67.4314 Q1559.89 67.4314 1563.9 66.3781 Q1567.95 65.3249 1571.92 63.2184 L1571.92 70.267 Q1567.91 71.9684 1563.7 72.8596 Q1559.49 73.7508 1555.15 73.7508 Q1544.3 73.7508 1537.94 67.4314 Q1531.62 61.1119 1531.62 50.3365 Q1531.62 39.1965 1537.61 32.6746 Q1543.65 26.1121 1553.86 26.1121 Q1563.01 26.1121 1568.32 32.0264 Q1573.66 37.9003 1573.66 48.0275 M1566.21 45.84 Q1566.13 39.7232 1562.77 36.0774 Q1559.45 32.4315 1553.94 32.4315 Q1547.7 32.4315 1543.93 35.9558 Q1540.2 39.4801 1539.64 45.8805 L1566.21 45.84 Z\" fill=\"#000000\" fill-rule=\"nonzero\" fill-opacity=\"1\" /><path clip-path=\"url(#clip620)\" d=\"M1621.22 35.9153 Q1624.02 30.8922 1627.91 28.5022 Q1631.79 26.1121 1637.06 26.1121 Q1644.15 26.1121 1648 31.0947 Q1651.85 36.0368 1651.85 45.1919 L1651.85 72.576 L1644.35 72.576 L1644.35 45.4349 Q1644.35 38.913 1642.04 35.7533 Q1639.73 32.5936 1634.99 32.5936 Q1629.2 32.5936 1625.84 36.4419 Q1622.48 40.2903 1622.48 46.9338 L1622.48 72.576 L1614.98 72.576 L1614.98 45.4349 Q1614.98 38.8725 1612.67 35.7533 Q1610.37 32.5936 1605.54 32.5936 Q1599.83 32.5936 1596.47 36.4824 Q1593.11 40.3308 1593.11 46.9338 L1593.11 72.576 L1585.61 72.576 L1585.61 27.2059 L1593.11 27.2059 L1593.11 34.2544 Q1595.66 30.082 1599.23 28.0971 Q1602.79 26.1121 1607.69 26.1121 Q1612.63 26.1121 1616.08 28.6237 Q1619.56 31.1352 1621.22 35.9153 Z\" fill=\"#000000\" fill-rule=\"nonzero\" fill-opacity=\"1\" /><path clip-path=\"url(#clip620)\" d=\"M1673.92 65.7705 L1673.92 89.8329 L1666.43 89.8329 L1666.43 27.2059 L1673.92 27.2059 L1673.92 34.0924 Q1676.27 30.0415 1679.84 28.0971 Q1683.44 26.1121 1688.43 26.1121 Q1696.69 26.1121 1701.83 32.6746 Q1707.02 39.2371 1707.02 49.9314 Q1707.02 60.6258 1701.83 67.1883 Q1696.69 73.7508 1688.43 73.7508 Q1683.44 73.7508 1679.84 71.8063 Q1676.27 69.8214 1673.92 65.7705 M1699.28 49.9314 Q1699.28 41.7081 1695.88 37.0496 Q1692.52 32.3505 1686.6 32.3505 Q1680.69 32.3505 1677.29 37.0496 Q1673.92 41.7081 1673.92 49.9314 Q1673.92 58.1548 1677.29 62.8538 Q1680.69 67.5124 1686.6 67.5124 Q1692.52 67.5124 1695.88 62.8538 Q1699.28 58.1548 1699.28 49.9314 Z\" fill=\"#000000\" fill-rule=\"nonzero\" fill-opacity=\"1\" /><path clip-path=\"url(#clip620)\" d=\"M1719.38 9.54393 L1726.83 9.54393 L1726.83 72.576 L1719.38 72.576 L1719.38 9.54393 Z\" fill=\"#000000\" fill-rule=\"nonzero\" fill-opacity=\"1\" /><path clip-path=\"url(#clip620)\" d=\"M1760.01 32.4315 Q1754.01 32.4315 1750.53 37.1306 Q1747.04 41.7891 1747.04 49.9314 Q1747.04 58.0738 1750.49 62.7728 Q1753.97 67.4314 1760.01 67.4314 Q1765.96 67.4314 1769.44 62.7323 Q1772.93 58.0333 1772.93 49.9314 Q1772.93 41.8701 1769.44 37.1711 Q1765.96 32.4315 1760.01 32.4315 M1760.01 26.1121 Q1769.73 26.1121 1775.28 32.4315 Q1780.83 38.7509 1780.83 49.9314 Q1780.83 61.0714 1775.28 67.4314 Q1769.73 73.7508 1760.01 73.7508 Q1750.24 73.7508 1744.69 67.4314 Q1739.18 61.0714 1739.18 49.9314 Q1739.18 38.7509 1744.69 32.4315 Q1750.24 26.1121 1760.01 26.1121 Z\" fill=\"#000000\" fill-rule=\"nonzero\" fill-opacity=\"1\" /><path clip-path=\"url(#clip620)\" d=\"M1827.66 65.6895 L1856.21 65.6895 L1856.21 72.576 L1817.81 72.576 L1817.81 65.6895 Q1822.47 60.8689 1830.49 52.7671 Q1838.55 44.6248 1840.62 42.2752 Q1844.55 37.8598 1846.09 34.8216 Q1847.67 31.7429 1847.67 28.7857 Q1847.67 23.9651 1844.26 20.927 Q1840.9 17.8888 1835.47 17.8888 Q1831.63 17.8888 1827.33 19.2256 Q1823.08 20.5624 1818.22 23.2765 L1818.22 15.0127 Q1823.16 13.0277 1827.45 12.015 Q1831.75 11.0023 1835.31 11.0023 Q1844.71 11.0023 1850.3 15.7013 Q1855.89 20.4004 1855.89 28.2591 Q1855.89 31.9859 1854.47 35.3482 Q1853.1 38.6699 1849.41 43.2069 Q1848.4 44.3817 1842.97 50.0125 Q1837.54 55.6027 1827.66 65.6895 Z\" fill=\"#000000\" fill-rule=\"nonzero\" fill-opacity=\"1\" /><polyline clip-path=\"url(#clip622)\" style=\"stroke:#009af9; stroke-linecap:round; stroke-linejoin:round; stroke-width:12; stroke-opacity:1; fill:none\" points=\"2293.32,333.978 2128.23,420.967 1963.13,508.433 1798.04,595.744 1632.95,683.378 1467.85,771.004 1302.76,858.629 1137.67,946.258 972.573,1033.89 807.479,1121.51 642.385,1208.91 477.291,1293.18 312.198,1374.46 \"/>\n",
       "<circle clip-path=\"url(#clip622)\" cx=\"2293.32\" cy=\"333.978\" r=\"14.4\" fill=\"#009af9\" fill-rule=\"evenodd\" fill-opacity=\"1\" stroke=\"#000000\" stroke-opacity=\"1\" stroke-width=\"3.2\"/>\n",
       "<circle clip-path=\"url(#clip622)\" cx=\"2128.23\" cy=\"420.967\" r=\"14.4\" fill=\"#009af9\" fill-rule=\"evenodd\" fill-opacity=\"1\" stroke=\"#000000\" stroke-opacity=\"1\" stroke-width=\"3.2\"/>\n",
       "<circle clip-path=\"url(#clip622)\" cx=\"1963.13\" cy=\"508.433\" r=\"14.4\" fill=\"#009af9\" fill-rule=\"evenodd\" fill-opacity=\"1\" stroke=\"#000000\" stroke-opacity=\"1\" stroke-width=\"3.2\"/>\n",
       "<circle clip-path=\"url(#clip622)\" cx=\"1798.04\" cy=\"595.744\" r=\"14.4\" fill=\"#009af9\" fill-rule=\"evenodd\" fill-opacity=\"1\" stroke=\"#000000\" stroke-opacity=\"1\" stroke-width=\"3.2\"/>\n",
       "<circle clip-path=\"url(#clip622)\" cx=\"1632.95\" cy=\"683.378\" r=\"14.4\" fill=\"#009af9\" fill-rule=\"evenodd\" fill-opacity=\"1\" stroke=\"#000000\" stroke-opacity=\"1\" stroke-width=\"3.2\"/>\n",
       "<circle clip-path=\"url(#clip622)\" cx=\"1467.85\" cy=\"771.004\" r=\"14.4\" fill=\"#009af9\" fill-rule=\"evenodd\" fill-opacity=\"1\" stroke=\"#000000\" stroke-opacity=\"1\" stroke-width=\"3.2\"/>\n",
       "<circle clip-path=\"url(#clip622)\" cx=\"1302.76\" cy=\"858.629\" r=\"14.4\" fill=\"#009af9\" fill-rule=\"evenodd\" fill-opacity=\"1\" stroke=\"#000000\" stroke-opacity=\"1\" stroke-width=\"3.2\"/>\n",
       "<circle clip-path=\"url(#clip622)\" cx=\"1137.67\" cy=\"946.258\" r=\"14.4\" fill=\"#009af9\" fill-rule=\"evenodd\" fill-opacity=\"1\" stroke=\"#000000\" stroke-opacity=\"1\" stroke-width=\"3.2\"/>\n",
       "<circle clip-path=\"url(#clip622)\" cx=\"972.573\" cy=\"1033.89\" r=\"14.4\" fill=\"#009af9\" fill-rule=\"evenodd\" fill-opacity=\"1\" stroke=\"#000000\" stroke-opacity=\"1\" stroke-width=\"3.2\"/>\n",
       "<circle clip-path=\"url(#clip622)\" cx=\"807.479\" cy=\"1121.51\" r=\"14.4\" fill=\"#009af9\" fill-rule=\"evenodd\" fill-opacity=\"1\" stroke=\"#000000\" stroke-opacity=\"1\" stroke-width=\"3.2\"/>\n",
       "<circle clip-path=\"url(#clip622)\" cx=\"642.385\" cy=\"1208.91\" r=\"14.4\" fill=\"#009af9\" fill-rule=\"evenodd\" fill-opacity=\"1\" stroke=\"#000000\" stroke-opacity=\"1\" stroke-width=\"3.2\"/>\n",
       "<circle clip-path=\"url(#clip622)\" cx=\"477.291\" cy=\"1293.18\" r=\"14.4\" fill=\"#009af9\" fill-rule=\"evenodd\" fill-opacity=\"1\" stroke=\"#000000\" stroke-opacity=\"1\" stroke-width=\"3.2\"/>\n",
       "<circle clip-path=\"url(#clip622)\" cx=\"312.198\" cy=\"1374.46\" r=\"14.4\" fill=\"#009af9\" fill-rule=\"evenodd\" fill-opacity=\"1\" stroke=\"#000000\" stroke-opacity=\"1\" stroke-width=\"3.2\"/>\n",
       "<polyline clip-path=\"url(#clip622)\" style=\"stroke:#e26f46; stroke-linecap:round; stroke-linejoin:round; stroke-width:12; stroke-opacity:1; fill:none\" points=\"2293.32,159.909 2128.23,247.537 1963.13,335.166 1798.04,422.794 1632.95,510.423 1467.85,598.051 1302.76,685.68 1137.67,773.308 972.573,860.937 807.479,948.565 642.385,1036.19 477.291,1123.82 312.198,1211.45 \"/>\n",
       "<path clip-path=\"url(#clip620)\" d=\"M322.764 321.906 L621.582 321.906 L621.582 166.386 L322.764 166.386  Z\" fill=\"#ffffff\" fill-rule=\"evenodd\" fill-opacity=\"1\"/>\n",
       "<polyline clip-path=\"url(#clip620)\" style=\"stroke:#000000; stroke-linecap:round; stroke-linejoin:round; stroke-width:4; stroke-opacity:1; fill:none\" points=\"322.764,321.906 621.582,321.906 621.582,166.386 322.764,166.386 322.764,321.906 \"/>\n",
       "<polyline clip-path=\"url(#clip620)\" style=\"stroke:#009af9; stroke-linecap:round; stroke-linejoin:round; stroke-width:12; stroke-opacity:1; fill:none\" points=\"346.097,218.226 486.096,218.226 \"/>\n",
       "<circle clip-path=\"url(#clip620)\" cx=\"416.097\" cy=\"218.226\" r=\"19.4444\" fill=\"#009af9\" fill-rule=\"evenodd\" fill-opacity=\"1\" stroke=\"#000000\" stroke-opacity=\"1\" stroke-width=\"4.55111\"/>\n",
       "<path clip-path=\"url(#clip620)\" d=\"M509.43 200.946 L531.281 200.946 L531.281 204.881 L514.106 204.881 L514.106 215.113 L530.564 215.113 L530.564 219.048 L514.106 219.048 L514.106 231.571 L531.698 231.571 L531.698 235.506 L509.43 235.506 L509.43 200.946 Z\" fill=\"#000000\" fill-rule=\"nonzero\" fill-opacity=\"1\" /><path clip-path=\"url(#clip620)\" d=\"M554.221 213.562 Q553.503 213.145 552.647 212.96 Q551.814 212.752 550.795 212.752 Q547.184 212.752 545.24 215.113 Q543.318 217.451 543.318 221.849 L543.318 235.506 L539.036 235.506 L539.036 209.58 L543.318 209.58 L543.318 213.608 Q544.661 211.247 546.814 210.113 Q548.966 208.955 552.045 208.955 Q552.485 208.955 553.017 209.025 Q553.55 209.071 554.198 209.187 L554.221 213.562 Z\" fill=\"#000000\" fill-rule=\"nonzero\" fill-opacity=\"1\" /><path clip-path=\"url(#clip620)\" d=\"M572.878 213.562 Q572.161 213.145 571.304 212.96 Q570.471 212.752 569.452 212.752 Q565.841 212.752 563.897 215.113 Q561.976 217.451 561.976 221.849 L561.976 235.506 L557.693 235.506 L557.693 209.58 L561.976 209.58 L561.976 213.608 Q563.318 211.247 565.471 210.113 Q567.624 208.955 570.702 208.955 Q571.142 208.955 571.675 209.025 Q572.207 209.071 572.855 209.187 L572.878 213.562 Z\" fill=\"#000000\" fill-rule=\"nonzero\" fill-opacity=\"1\" /><path clip-path=\"url(#clip620)\" d=\"M586.351 212.567 Q582.925 212.567 580.934 215.252 Q578.943 217.914 578.943 222.567 Q578.943 227.219 580.911 229.904 Q582.901 232.566 586.351 232.566 Q589.753 232.566 591.744 229.881 Q593.735 227.196 593.735 222.567 Q593.735 217.96 591.744 215.275 Q589.753 212.567 586.351 212.567 M586.351 208.955 Q591.906 208.955 595.077 212.567 Q598.249 216.178 598.249 222.567 Q598.249 228.932 595.077 232.566 Q591.906 236.178 586.351 236.178 Q580.772 236.178 577.601 232.566 Q574.452 228.932 574.452 222.567 Q574.452 216.178 577.601 212.567 Q580.772 208.955 586.351 208.955 Z\" fill=\"#000000\" fill-rule=\"nonzero\" fill-opacity=\"1\" /><polyline clip-path=\"url(#clip620)\" style=\"stroke:#e26f46; stroke-linecap:round; stroke-linejoin:round; stroke-width:12; stroke-opacity:1; fill:none\" points=\"346.097,270.066 486.096,270.066 \"/>\n",
       "<path clip-path=\"url(#clip620)\" d=\"M531.142 271.698 L531.142 287.346 L526.883 287.346 L526.883 271.837 Q526.883 268.157 525.448 266.328 Q524.013 264.499 521.143 264.499 Q517.693 264.499 515.703 266.698 Q513.712 268.897 513.712 272.694 L513.712 287.346 L509.43 287.346 L509.43 251.328 L513.712 251.328 L513.712 265.448 Q515.24 263.11 517.3 261.953 Q519.383 260.795 522.092 260.795 Q526.559 260.795 528.851 263.573 Q531.142 266.328 531.142 271.698 Z\" fill=\"#000000\" fill-rule=\"nonzero\" fill-opacity=\"1\" /><path clip-path=\"url(#clip620)\" d=\"M541.374 269.245 L551.189 269.245 L551.189 271.883 L537.346 271.883 L537.346 269.337 Q538.133 268.62 539.592 267.323 Q547.554 260.263 547.554 258.087 Q547.554 256.559 546.351 255.633 Q545.147 254.684 543.179 254.684 Q541.976 254.684 540.564 255.101 Q539.152 255.495 537.485 256.305 L537.485 253.458 Q539.267 252.809 540.795 252.485 Q542.346 252.161 543.666 252.161 Q547.022 252.161 549.036 253.689 Q551.05 255.217 551.05 257.717 Q551.05 260.934 543.388 267.508 Q542.091 268.62 541.374 269.245 Z\" fill=\"#000000\" fill-rule=\"nonzero\" fill-opacity=\"1\" /></svg>\n"
      ]
     },
     "metadata": {},
     "output_type": "display_data"
    },
    {
     "data": {
      "text/plain": [
       "\"Tabela com os valores de h e erro - exemplo 2\""
      ]
     },
     "metadata": {},
     "output_type": "display_data"
    },
    {
     "data": {
      "text/html": [
       "<div><div style = \"float: left;\"><span>13×2 DataFrame</span></div><div style = \"clear: both;\"></div></div><div class = \"data-frame\" style = \"overflow-x: scroll;\"><table class = \"data-frame\" style = \"margin-bottom: 6px;\"><thead><tr class = \"header\"><th class = \"rowNumber\" style = \"font-weight: bold; text-align: right;\">Row</th><th style = \"text-align: left;\">h</th><th style = \"text-align: left;\">erro</th></tr><tr class = \"subheader headerLastRow\"><th class = \"rowNumber\" style = \"font-weight: bold; text-align: right;\"></th><th title = \"Float64\" style = \"text-align: left;\">Float64</th><th title = \"Float64\" style = \"text-align: left;\">Float64</th></tr></thead><tbody><tr><td class = \"rowNumber\" style = \"font-weight: bold; text-align: right;\">1</td><td style = \"text-align: right;\">0.25</td><td style = \"text-align: right;\">0.00398034</td></tr><tr><td class = \"rowNumber\" style = \"font-weight: bold; text-align: right;\">2</td><td style = \"text-align: right;\">0.125</td><td style = \"text-align: right;\">0.0010052</td></tr><tr><td class = \"rowNumber\" style = \"font-weight: bold; text-align: right;\">3</td><td style = \"text-align: right;\">0.0625</td><td style = \"text-align: right;\">0.000251949</td></tr><tr><td class = \"rowNumber\" style = \"font-weight: bold; text-align: right;\">4</td><td style = \"text-align: right;\">0.03125</td><td style = \"text-align: right;\">6.33036e-5</td></tr><tr><td class = \"rowNumber\" style = \"font-weight: bold; text-align: right;\">5</td><td style = \"text-align: right;\">0.015625</td><td style = \"text-align: right;\">1.58247e-5</td></tr><tr><td class = \"rowNumber\" style = \"font-weight: bold; text-align: right;\">6</td><td style = \"text-align: right;\">0.0078125</td><td style = \"text-align: right;\">3.9563e-6</td></tr><tr><td class = \"rowNumber\" style = \"font-weight: bold; text-align: right;\">7</td><td style = \"text-align: right;\">0.00390625</td><td style = \"text-align: right;\">9.89128e-7</td></tr><tr><td class = \"rowNumber\" style = \"font-weight: bold; text-align: right;\">8</td><td style = \"text-align: right;\">0.00195312</td><td style = \"text-align: right;\">2.47282e-7</td></tr><tr><td class = \"rowNumber\" style = \"font-weight: bold; text-align: right;\">9</td><td style = \"text-align: right;\">0.000976562</td><td style = \"text-align: right;\">6.18211e-8</td></tr><tr><td class = \"rowNumber\" style = \"font-weight: bold; text-align: right;\">10</td><td style = \"text-align: right;\">0.000488281</td><td style = \"text-align: right;\">1.54557e-8</td></tr><tr><td class = \"rowNumber\" style = \"font-weight: bold; text-align: right;\">11</td><td style = \"text-align: right;\">0.000244141</td><td style = \"text-align: right;\">3.87802e-9</td></tr><tr><td class = \"rowNumber\" style = \"font-weight: bold; text-align: right;\">12</td><td style = \"text-align: right;\">0.00012207</td><td style = \"text-align: right;\">1.02241e-9</td></tr><tr><td class = \"rowNumber\" style = \"font-weight: bold; text-align: right;\">13</td><td style = \"text-align: right;\">6.10352e-5</td><td style = \"text-align: right;\">2.8261e-10</td></tr></tbody></table></div>"
      ],
      "text/latex": [
       "\\begin{tabular}{r|cc}\n",
       "\t& h & erro\\\\\n",
       "\t\\hline\n",
       "\t& Float64 & Float64\\\\\n",
       "\t\\hline\n",
       "\t1 & 0.25 & 0.00398034 \\\\\n",
       "\t2 & 0.125 & 0.0010052 \\\\\n",
       "\t3 & 0.0625 & 0.000251949 \\\\\n",
       "\t4 & 0.03125 & 6.33036e-5 \\\\\n",
       "\t5 & 0.015625 & 1.58247e-5 \\\\\n",
       "\t6 & 0.0078125 & 3.9563e-6 \\\\\n",
       "\t7 & 0.00390625 & 9.89128e-7 \\\\\n",
       "\t8 & 0.00195312 & 2.47282e-7 \\\\\n",
       "\t9 & 0.000976562 & 6.18211e-8 \\\\\n",
       "\t10 & 0.000488281 & 1.54557e-8 \\\\\n",
       "\t11 & 0.000244141 & 3.87802e-9 \\\\\n",
       "\t12 & 0.00012207 & 1.02241e-9 \\\\\n",
       "\t13 & 6.10352e-5 & 2.8261e-10 \\\\\n",
       "\\end{tabular}\n"
      ],
      "text/plain": [
       "\u001b[1m13×2 DataFrame\u001b[0m\n",
       "\u001b[1m Row \u001b[0m│\u001b[1m h           \u001b[0m\u001b[1m erro        \u001b[0m\n",
       "     │\u001b[90m Float64     \u001b[0m\u001b[90m Float64     \u001b[0m\n",
       "─────┼──────────────────────────\n",
       "   1 │ 0.25         0.00398034\n",
       "   2 │ 0.125        0.0010052\n",
       "   3 │ 0.0625       0.000251949\n",
       "   4 │ 0.03125      6.33036e-5\n",
       "   5 │ 0.015625     1.58247e-5\n",
       "   6 │ 0.0078125    3.9563e-6\n",
       "   7 │ 0.00390625   9.89128e-7\n",
       "   8 │ 0.00195312   2.47282e-7\n",
       "   9 │ 0.000976562  6.18211e-8\n",
       "  10 │ 0.000488281  1.54557e-8\n",
       "  11 │ 0.000244141  3.87802e-9\n",
       "  12 │ 0.00012207   1.02241e-9\n",
       "  13 │ 6.10352e-5   2.8261e-10"
      ]
     },
     "metadata": {},
     "output_type": "display_data"
    },
    {
     "name": "stdout",
     "output_type": "stream",
     "text": [
      " 59.363131 seconds (1.08 G allocations: 58.790 GiB, 4.08% gc time)\n"
     ]
    }
   ],
   "source": [
    "exemplo = 2\n",
    "caso_C⁰ = 1\n",
    "@time begin\n",
    "     vec_ne, vec_erros = estudo_do_erro(exemplo, caso_C⁰)\n",
    "end\n",
    "\n",
    "display_erros(vec_ne, vec_erros, exemplo)"
   ]
  }
 ],
 "metadata": {
  "kernelspec": {
   "display_name": "Julia 1.10.4",
   "language": "julia",
   "name": "julia-1.10"
  },
  "language_info": {
   "file_extension": ".jl",
   "mimetype": "application/julia",
   "name": "julia",
   "version": "1.10.4"
  }
 },
 "nbformat": 4,
 "nbformat_minor": 2
}
